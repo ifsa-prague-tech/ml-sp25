{
 "cells": [
  {
   "cell_type": "markdown",
   "id": "634fc08b-4970-41c4-b99b-6fddaaa9ecd2",
   "metadata": {
    "tags": []
   },
   "source": [
    "# Dimensionality Reduction\n",
    "### on synthetic and image data"
   ]
  },
  {
   "cell_type": "markdown",
   "id": "6ec98632-ceea-438d-8e2b-64de56d6cf21",
   "metadata": {},
   "source": [
    "Dimensionality Reduction, in Python with Scikit-learn\n",
    "\n",
    "<br>\n",
    "@Ricardo Almeida\n",
    "\n",
    "Sources:\n",
    "- [Dimensionality Reduction with Scikit-Learn: PCA Theory and Implementation](https://medium.com/towards-data-science/dimensionality-reduction-with-scikit-learn-pca-theory-and-implementation-aa224e6ee1f6), by Riccardo Andreoni\n",
    "- [Using PCA for Data Reduction](https://python.plainenglish.io/using-pca-for-data-reduction-and-face-recognition-on-lfw-dataset), by Ahmed Mujtaba Butt"
   ]
  },
  {
   "cell_type": "code",
   "execution_count": null,
   "id": "1c181072-53f8-4439-a348-cfe372d93e4b",
   "metadata": {
    "tags": []
   },
   "outputs": [],
   "source": [
    "import matplotlib.pyplot as plt\n",
    "import numpy as np\n",
    "from sklearn.decomposition import PCA\n",
    "from sklearn.datasets import fetch_lfw_people\n",
    "from sklearn.model_selection import train_test_split\n",
    "import warnings\n",
    "\n",
    "# Suppress FutureWarning\n",
    "warnings.simplefilter(action='ignore', category=FutureWarning)"
   ]
  },
  {
   "cell_type": "markdown",
   "id": "73b4454c-dc9b-4e48-97dc-119d3e17bb1f",
   "metadata": {},
   "source": [
    "### Principal Component Analysis (PCA)"
   ]
  },
  {
   "cell_type": "code",
   "execution_count": null,
   "id": "72b27c0f-9196-4209-a34f-592ede030998",
   "metadata": {
    "tags": []
   },
   "outputs": [],
   "source": [
    "from sklearn.datasets import make_swiss_roll\n",
    "\n",
    "# Create synthetic data\n",
    "X, t = make_swiss_roll(n_samples=1000, noise=0.2, random_state=42)\n",
    "\n",
    "# Instantiate a PCA object\n",
    "pca = PCA(n_components=1)\n",
    "\n",
    "# Fit the PCA object on the data\n",
    "pca.fit(X)\n",
    "\n",
    "# Transform the data\n",
    "X_transformed = pca.transform(X)\n",
    "\n",
    "print('Original data shape: ', X.shape)\n",
    "print('Transformed data shape: ', X_transformed.shape)"
   ]
  },
  {
   "cell_type": "code",
   "execution_count": null,
   "id": "9591eeba-1bdf-424a-a20f-4408e19e9874",
   "metadata": {
    "tags": []
   },
   "outputs": [],
   "source": [
    "from sklearn.datasets import make_swiss_roll\n",
    "\n",
    "# Create synthetic data\n",
    "X, t = make_swiss_roll(n_samples=1000, noise=0.2, random_state=42)\n",
    "\n",
    "# Instantiate a PCA object\n",
    "pca = PCA(n_components=1)\n",
    "\n",
    "# Fit the PCA object on the data\n",
    "pca.fit(X)\n",
    "\n",
    "# Calculate the EVA of each PC\n",
    "eva = pca.explained_variance_ratio_\n",
    "\n",
    "print(eva)"
   ]
  },
  {
   "cell_type": "code",
   "execution_count": null,
   "id": "d16d68e5-3bf8-4ca7-81f8-820d63b9b074",
   "metadata": {},
   "outputs": [],
   "source": [
    "# plot the data\n",
    "fig = plt.figure()\n",
    "ax = fig.add_subplot(111, projection='3d')\n",
    "ax.scatter(X[:, 0], X[:, 1], X[:, 2], c=t, cmap=plt.cm.viridis)\n",
    "plt.show()"
   ]
  },
  {
   "cell_type": "code",
   "execution_count": null,
   "id": "d623c0ab-ee3a-4dad-879f-9af51c91c635",
   "metadata": {
    "tags": []
   },
   "outputs": [],
   "source": [
    "from sklearn.datasets import fetch_openml\n",
    "\n",
    "# Load the dataset\n",
    "mnist = fetch_openml('mnist_784', version=1, as_frame=False, parser='auto')\n",
    "X = mnist.data\n",
    "\n",
    "# Instantiate and train a PCA object\n",
    "pca = PCA()\n",
    "pca.fit(X)\n",
    "\n",
    "# Compute the explained variance ratio\n",
    "eva = pca.explained_variance_ratio_\n",
    "\n",
    "#print(np.round(eva, decimals=4))"
   ]
  },
  {
   "cell_type": "code",
   "execution_count": null,
   "id": "d2d42813-7ac7-42ee-92c2-2d8e4cdcd1ca",
   "metadata": {
    "tags": []
   },
   "outputs": [],
   "source": [
    "pca = PCA(n_components=.95)\n",
    "pca.fit(X)\n",
    "X_transformed = pca.transform(X)\n",
    "\n",
    "print(X_transformed.shape)"
   ]
  },
  {
   "cell_type": "markdown",
   "id": "1a7fcc54-70fe-4536-a038-d2cd274d6ed5",
   "metadata": {},
   "source": [
    "### Kernel PCA (kPCA)"
   ]
  },
  {
   "cell_type": "code",
   "execution_count": null,
   "id": "befefef8-2063-4870-81c1-b4e4ab2c381a",
   "metadata": {
    "tags": []
   },
   "outputs": [],
   "source": [
    "# Import required libraries\n",
    "from sklearn.datasets import make_swiss_roll\n",
    "from sklearn.decomposition import KernelPCA\n",
    "\n",
    "# Generate synthetic data\n",
    "X_swiss, t = make_swiss_roll(n_samples=1500, noise=0.3, random_state=2)"
   ]
  },
  {
   "cell_type": "code",
   "execution_count": null,
   "id": "ca8bca3d-0e69-4a03-bb34-1d6b22c77cb6",
   "metadata": {
    "tags": []
   },
   "outputs": [],
   "source": [
    "# Instantiate a KernelPCA object, specifying the kernel type \n",
    "# and the output's dimensions\n",
    "pca_swiss = KernelPCA(n_components=2, kernel='sigmoid', gamma=1e-3, coef0=1, fit_inverse_transform=True)\n",
    "# Transform the original data\n",
    "X_pca_swiss = pca_swiss.fit_transform(X_swiss)"
   ]
  },
  {
   "cell_type": "code",
   "execution_count": null,
   "id": "a9448426-7e41-4c25-9ea3-d810075358d4",
   "metadata": {},
   "outputs": [],
   "source": [
    "# plot the original data\n",
    "fig = plt.figure(figsize=(8, 6))\n",
    "ax = fig.add_subplot(111, projection='3d')\n",
    "ax.scatter(X_swiss[:, 0], X_swiss[:, 1], X_swiss[:, 2], c=t, cmap=plt.cm.viridis)\n",
    "plt.show()"
   ]
  },
  {
   "cell_type": "code",
   "execution_count": null,
   "id": "55fdba97",
   "metadata": {},
   "outputs": [],
   "source": [
    "# plot the reduced data\n",
    "fig = plt.figure()\n",
    "ax = fig.add_subplot(111)\n",
    "ax.scatter(X_pca_swiss[:, 0], X_pca_swiss[:, 1], c=t, cmap=plt.cm.viridis)\n",
    "plt.show()"
   ]
  },
  {
   "cell_type": "markdown",
   "id": "3f29ad8e-428f-4bed-b37b-43f84bd0d36f",
   "metadata": {
    "tags": []
   },
   "source": [
    "### Locally Linear Embedding (LLE) "
   ]
  },
  {
   "cell_type": "code",
   "execution_count": null,
   "id": "170238a7-9778-4ece-bd10-9416bf7c407a",
   "metadata": {
    "tags": []
   },
   "outputs": [],
   "source": [
    "from sklearn.datasets import make_swiss_roll\n",
    "from sklearn.manifold import LocallyLinearEmbedding\n",
    "from sklearn.decomposition import KernelPCA\n",
    "\n",
    "X_swiss, t = make_swiss_roll(n_samples=1500, noise=0.3, random_state=2)\n",
    "\n",
    "lle = LocallyLinearEmbedding(n_components=2, n_neighbors=15)\n",
    "X_pca_swiss_lle = lle.fit_transform(X_swiss)"
   ]
  },
  {
   "cell_type": "code",
   "execution_count": null,
   "id": "725e0fa1",
   "metadata": {},
   "outputs": [],
   "source": [
    "# plot the reduced data\n",
    "fig = plt.figure()\n",
    "ax = fig.add_subplot(111)\n",
    "ax.scatter(X_pca_swiss_lle[:, 0], X_pca_swiss_lle[:, 1], c=t, cmap=plt.cm.viridis)\n",
    "plt.show()"
   ]
  },
  {
   "cell_type": "markdown",
   "id": "2df9bcf3-339d-42d3-bc6f-257f37966a42",
   "metadata": {
    "tags": []
   },
   "source": [
    "## Dimensionality Reduction"
   ]
  },
  {
   "cell_type": "code",
   "execution_count": null,
   "id": "06eec60f-18e0-4c31-b13e-263dc9f9b4ae",
   "metadata": {},
   "outputs": [],
   "source": [
    "# Load the dataset with minimal image downloading\n",
    "lfw_people = fetch_lfw_people(min_faces_per_person=60)  \n",
    "\n",
    "# Store images and target labels\n",
    "X = lfw_people.data\n",
    "y = lfw_people.target\n",
    "\n",
    "# Other useful attributes\n",
    "target_names = lfw_people.target_names\n",
    "image_shape = lfw_people.images.shape\n",
    "\n",
    "# Print a summary \n",
    "print(f\"Image shape: {image_shape}\")\n",
    "print(f\"Shape of image data (X): {X.shape}\")\n",
    "print(f\"Number of classes (unique persons): {len(target_names)}\")"
   ]
  },
  {
   "cell_type": "code",
   "execution_count": null,
   "id": "c6688c4b-5529-498c-8f18-f55cb4c82902",
   "metadata": {},
   "outputs": [],
   "source": [
    "print('Class names (persons):\\n') \n",
    "for name in target_names:\n",
    "    print(f'   {name}') "
   ]
  },
  {
   "cell_type": "code",
   "execution_count": null,
   "id": "45c0ac7b-69a0-4585-ae09-ab9f1b952dfb",
   "metadata": {},
   "outputs": [],
   "source": [
    "X[0]"
   ]
  },
  {
   "cell_type": "code",
   "execution_count": null,
   "id": "204fbe57-037b-4ebc-8b09-e1e7978d59e3",
   "metadata": {},
   "outputs": [],
   "source": [
    "len(X[0])"
   ]
  },
  {
   "cell_type": "code",
   "execution_count": null,
   "id": "eb352c70-2842-4124-b6c9-5a3cf40150de",
   "metadata": {},
   "outputs": [],
   "source": [
    "plt.figure(figsize=(12, 12))\n",
    "for i in range(16):\n",
    "    plt.subplot(4, 4, i+1)\n",
    "    plt.imshow(X[i].reshape(62, 47), cmap='gray')\n",
    "    plt.title(f'{target_names[y[i]]}:')\n",
    "plt.show()"
   ]
  },
  {
   "cell_type": "code",
   "execution_count": null,
   "id": "04b050a3-9e95-4f9f-ae21-2a2c763818db",
   "metadata": {},
   "outputs": [],
   "source": [
    "# Split into training and testing sets\n",
    "X_train, X_test, y_train, y_test = train_test_split(X, y, test_size=0.25, random_state=6868)"
   ]
  },
  {
   "cell_type": "markdown",
   "id": "89c7f84a-e915-450e-a807-416da0bbc72b",
   "metadata": {},
   "source": [
    "Implement PCA and fiting to the training data"
   ]
  },
  {
   "cell_type": "code",
   "execution_count": null,
   "id": "d2cca664-99b8-4a2b-a827-107a9ba60ce2",
   "metadata": {},
   "outputs": [],
   "source": [
    "from sklearn.decomposition import PCA\n",
    "\n",
    "pca = PCA(n_components=0.97)\n",
    "pca.fit(X_train)"
   ]
  },
  {
   "cell_type": "code",
   "execution_count": null,
   "id": "e597d476-e747-4ca1-91ba-cb340bb53a02",
   "metadata": {},
   "outputs": [],
   "source": [
    "X_train_pca = pca.transform(X_train)\n",
    "X_test_pca = pca.transform(X_test)"
   ]
  },
  {
   "cell_type": "code",
   "execution_count": null,
   "id": "f763fd96-5a94-4788-8139-b4d05978f903",
   "metadata": {},
   "outputs": [],
   "source": [
    "X_train_pca.shape"
   ]
  },
  {
   "cell_type": "code",
   "execution_count": null,
   "id": "687bd641-0cce-4130-80c4-3e4be8ea019d",
   "metadata": {},
   "outputs": [],
   "source": [
    "print(len(pca.components_))"
   ]
  },
  {
   "cell_type": "code",
   "execution_count": null,
   "id": "806ae5a7-ed02-49ef-aad4-14accc7f0123",
   "metadata": {},
   "outputs": [],
   "source": [
    "pca.components_[0]"
   ]
  },
  {
   "cell_type": "markdown",
   "id": "3dcaefa1-f6df-4b05-a561-9825685dadb6",
   "metadata": {},
   "source": [
    "Show the resulting components, as images"
   ]
  },
  {
   "cell_type": "code",
   "execution_count": null,
   "id": "a7584a32-e40f-4da3-b07e-fb6bbdc77938",
   "metadata": {},
   "outputs": [],
   "source": [
    "import matplotlib.pyplot as plt\n",
    "plt.figure(figsize=(12, 12))\n",
    "for i in range(9):\n",
    "    plt.subplot(3, 3, i+1)\n",
    "    plt.imshow(pca.components_[i].reshape(62, 47), cmap='gray')\n",
    "    plt.title(f'Component {i+1}')\n",
    "plt.show()"
   ]
  },
  {
   "cell_type": "markdown",
   "id": "fb9732e9-21e7-4e10-a555-aa90c7e309a6",
   "metadata": {},
   "source": [
    "#### Task #1\n",
    "\n",
    "**Exercise**:\n",
    "\n",
    "Choosing to keep 0.97 of variance has allowed us to reduce the dimensions from **2914** to **242**.\n",
    "\n",
    "Check the reduction of dimensions (PCA components) for other variance thresholds: 0.99, 0.98, ... 0.90"
   ]
  },
  {
   "cell_type": "code",
   "execution_count": null,
   "id": "38e48cef-7042-4221-8d5a-9fe0134c0c49",
   "metadata": {},
   "outputs": [],
   "source": [
    "### Create a process to get the dimension number for the 10 values of variance, between 0.99 to 0.90\n",
    "### printing Variance Kept, Components\n",
    "### such as:\n",
    "### Variance Kept, Components\n",
    "### ...\n",
    "### 0.97 Nr. Components: 242\n",
    "### ...\n",
    "### YOUR CODE HERE:\n",
    "\n",
    "\n"
   ]
  },
  {
   "cell_type": "markdown",
   "id": "e123e992-15cb-4971-bf2c-04ba9b1013c1",
   "metadata": {
    "tags": []
   },
   "source": [
    "## Clustering faces"
   ]
  },
  {
   "cell_type": "markdown",
   "id": "0894bd64-b18b-475c-a23e-02e9f0b6d0c8",
   "metadata": {},
   "source": [
    "Consider a subset with a single picture per person (8 persons):\n",
    "- X_unique: train dataset with faces\n",
    "- y_unique: label vector"
   ]
  },
  {
   "cell_type": "code",
   "execution_count": null,
   "id": "32ec221c-0044-4e4d-b975-2f99a74b155a",
   "metadata": {},
   "outputs": [],
   "source": [
    "y_unique, first_occurance_indices = np.unique(y_train, return_index=True)\n",
    "X_unique = X_train[first_occurance_indices] "
   ]
  },
  {
   "cell_type": "markdown",
   "id": "eb6d0720-205e-498f-b081-0022dc0019e0",
   "metadata": {},
   "source": [
    "**Exercise**:\n",
    "\n",
    "Using `X_unique` dataset, use a clustering algorith to split the 8 person (faces) into 3 groups."
   ]
  },
  {
   "cell_type": "code",
   "execution_count": null,
   "id": "114fbe54-31cb-4df1-ac90-9453364b0f3d",
   "metadata": {},
   "outputs": [],
   "source": [
    "### Cluster the faces dataset, and check each cluster elements (person names)\n",
    "### YOUR CODE HERE:\n",
    "\n",
    "\n"
   ]
  },
  {
   "cell_type": "code",
   "execution_count": null,
   "id": "21df55b0-eeaa-4f92-943f-ae938e063862",
   "metadata": {},
   "outputs": [],
   "source": []
  }
 ],
 "metadata": {
  "kernelspec": {
   "display_name": "Python 3 (ipykernel)",
   "language": "python",
   "name": "python3"
  },
  "language_info": {
   "codemirror_mode": {
    "name": "ipython",
    "version": 3
   },
   "file_extension": ".py",
   "mimetype": "text/x-python",
   "name": "python",
   "nbconvert_exporter": "python",
   "pygments_lexer": "ipython3",
   "version": "3.10.16"
  }
 },
 "nbformat": 4,
 "nbformat_minor": 5
}
