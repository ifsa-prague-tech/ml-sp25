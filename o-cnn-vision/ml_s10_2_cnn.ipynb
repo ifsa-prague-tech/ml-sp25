{
 "cells": [
  {
   "cell_type": "markdown",
   "id": "634fc08b-4970-41c4-b99b-6fddaaa9ecd2",
   "metadata": {
    "tags": []
   },
   "source": [
    "# Convolutional Neural Networks\n",
    "## for image classification"
   ]
  },
  {
   "cell_type": "markdown",
   "id": "6ec98632-ceea-438d-8e2b-64de56d6cf21",
   "metadata": {},
   "source": [
    "Practicing of neural network models, with Keras:\n",
    "* Convolutional Neural Networks (CNN)\n",
    "* Image classification\n",
    "\n",
    "Ricardo Almeida, using [Fashion MNIST](https://keras.io/api/datasets/fashion_mnist/) dataset"
   ]
  },
  {
   "cell_type": "code",
   "execution_count": 1,
   "id": "671dd1d8-3b90-43bb-980d-fb295ea84548",
   "metadata": {
    "tags": []
   },
   "outputs": [],
   "source": [
    "# Additional requirements\n",
    "# conda install pydot  "
   ]
  },
  {
   "cell_type": "code",
   "execution_count": 2,
   "id": "3a66a9e0-7f33-4151-b94c-541192b91d72",
   "metadata": {
    "tags": []
   },
   "outputs": [],
   "source": [
    "import os\n",
    "os.environ['TF_CPP_MIN_LOG_LEVEL'] = '1'"
   ]
  },
  {
   "cell_type": "code",
   "execution_count": 3,
   "id": "97fe647b-9762-4024-bbf5-4f2409fdd3d6",
   "metadata": {
    "tags": []
   },
   "outputs": [],
   "source": [
    "from keras import Input\n",
    "from keras.datasets import fashion_mnist\n",
    "from keras.layers import BatchNormalization, Conv2D, Dense, Dropout, Flatten, MaxPooling2D\n",
    "from keras.models import Sequential\n",
    "from keras.optimizers import Adam, SGD, RMSprop\n",
    "from keras.regularizers import l1, l2\n",
    "from keras.utils import plot_model, to_categorical\n",
    "\n",
    "import matplotlib.pyplot as plt\n",
    "import numpy as np\n",
    "import pandas as pd"
   ]
  },
  {
   "cell_type": "code",
   "execution_count": 4,
   "id": "8ed1f794-3347-4cf2-b801-6057ceec524f",
   "metadata": {
    "tags": []
   },
   "outputs": [],
   "source": [
    "def plot_history(train_hist):\n",
    "    pd.DataFrame(train_hist).plot(figsize=(8, 5))\n",
    "    plt.grid(True)\n",
    "    plt.gca().set_ylim(0, 1) # set the vertical range to [0-1]\n",
    "    plt.show()"
   ]
  },
  {
   "cell_type": "code",
   "execution_count": 5,
   "id": "c31863b1-5ee5-46b2-a1aa-e63deff6184b",
   "metadata": {
    "tags": []
   },
   "outputs": [],
   "source": [
    "def plot_value_array(predictions_array, predicted_label, true_label):\n",
    "    plt.figure(figsize=(3, 3))\n",
    "    plt.grid(False)\n",
    "    plt.xticks([])\n",
    "    plt.yticks([])\n",
    "    thisplot=plt.bar(range(10), predictions_array, color='gray')\n",
    "    plt.ylim([0,1])\n",
    "    thisplot[predicted_label].set_color('red')\n",
    "    thisplot[true_label].set_color('green')\n",
    "    plt.show()"
   ]
  },
  {
   "cell_type": "code",
   "execution_count": 6,
   "id": "7c15dec1-0688-4d21-b0c5-7c5f15204f8d",
   "metadata": {
    "tags": []
   },
   "outputs": [],
   "source": [
    "def plot_greyscale(image):\n",
    "    plt.figure(figsize=(3, 3))\n",
    "    plt.axis('off')\n",
    "    plt.imshow(image, cmap='gray')\n",
    "    plt.show()"
   ]
  },
  {
   "cell_type": "markdown",
   "id": "5cd9289d-be5a-4633-8950-41174967eb59",
   "metadata": {
    "tags": []
   },
   "source": [
    "## Small images dataset"
   ]
  },
  {
   "cell_type": "markdown",
   "id": "5f4f2c2e-4f96-4087-a119-815d02bb30a4",
   "metadata": {
    "tags": []
   },
   "source": [
    "#### Loading dataset"
   ]
  },
  {
   "cell_type": "code",
   "execution_count": 7,
   "id": "5b8b37f1-530a-4437-b4ff-67f06ec05525",
   "metadata": {
    "tags": []
   },
   "outputs": [],
   "source": [
    "# Load the data, already split between train and test sets\n",
    "(X_train, y_train), (X_test, y_test) = fashion_mnist.load_data()"
   ]
  },
  {
   "cell_type": "code",
   "execution_count": 8,
   "id": "4155d500-0eb3-4b2d-b940-fe06da4b9d88",
   "metadata": {
    "tags": []
   },
   "outputs": [
    {
     "name": "stdout",
     "output_type": "stream",
     "text": [
      "Train size: 60000\n",
      "Test size:  10000\n"
     ]
    }
   ],
   "source": [
    "print(f\"Train size: {X_train.shape[0]}\")\n",
    "print(f\"Test size:  {X_test.shape[0]}\")"
   ]
  },
  {
   "cell_type": "code",
   "execution_count": 9,
   "id": "bff4b121-8b70-4147-93b3-c8c2c3214db0",
   "metadata": {
    "tags": []
   },
   "outputs": [],
   "source": [
    "num_classes = len(np.unique(y_train))"
   ]
  },
  {
   "cell_type": "code",
   "execution_count": 10,
   "id": "7b0fea65-096d-4b56-8b2e-0b96011fa015",
   "metadata": {
    "tags": []
   },
   "outputs": [
    {
     "data": {
      "text/plain": [
       "array([0, 1, 2, 3, 4, 5, 6, 7, 8, 9], dtype=uint8)"
      ]
     },
     "execution_count": 10,
     "metadata": {},
     "output_type": "execute_result"
    }
   ],
   "source": [
    "np.unique(y_train)"
   ]
  },
  {
   "cell_type": "code",
   "execution_count": 11,
   "id": "074fda83-d8f9-4632-a185-762318872301",
   "metadata": {
    "tags": []
   },
   "outputs": [
    {
     "name": "stdout",
     "output_type": "stream",
     "text": [
      "['T-shirt/top', 'Trouser', 'Pullover', 'Dress', 'Coat', 'Sandal', 'Shirt', 'Sneaker', 'Bag', 'Ankle boot']\n"
     ]
    }
   ],
   "source": [
    "class_names =['T-shirt/top', 'Trouser', 'Pullover', 'Dress', 'Coat', 'Sandal', 'Shirt', 'Sneaker', 'Bag', 'Ankle boot']\n",
    "print(class_names)"
   ]
  },
  {
   "cell_type": "code",
   "execution_count": 12,
   "id": "a6987547-1f49-4b9f-a36d-c5bcbbc6af70",
   "metadata": {
    "tags": []
   },
   "outputs": [
    {
     "name": "stdout",
     "output_type": "stream",
     "text": [
      "\n",
      "Ankle boot:\n"
     ]
    },
    {
     "data": {
      "image/png": "[encoded data removed]",
      "text/plain": [
       "<Figure size 300x300 with 1 Axes>"
      ]
     },
     "metadata": {},
     "output_type": "display_data"
    },
    {
     "name": "stdout",
     "output_type": "stream",
     "text": [
      "\n",
      "T-shirt/top:\n"
     ]
    },
    {
     "data": {
      "image/png": "[encoded data removed]",
      "text/plain": [
       "<Figure size 300x300 with 1 Axes>"
      ]
     },
     "metadata": {},
     "output_type": "display_data"
    },
    {
     "name": "stdout",
     "output_type": "stream",
     "text": [
      "\n",
      "T-shirt/top:\n"
     ]
    },
    {
     "data": {
      "image/png": "[encoded data removed]",
      "text/plain": [
       "<Figure size 300x300 with 1 Axes>"
      ]
     },
     "metadata": {},
     "output_type": "display_data"
    },
    {
     "name": "stdout",
     "output_type": "stream",
     "text": [
      "\n",
      "Dress:\n"
     ]
    },
    {
     "data": {
      "image/png": "[encoded data removed]",
      "text/plain": [
       "<Figure size 300x300 with 1 Axes>"
      ]
     },
     "metadata": {},
     "output_type": "display_data"
    },
    {
     "name": "stdout",
     "output_type": "stream",
     "text": [
      "\n",
      "T-shirt/top:\n"
     ]
    },
    {
     "data": {
      "image/png": "[encoded data removed]",
      "text/plain": [
       "<Figure size 300x300 with 1 Axes>"
      ]
     },
     "metadata": {},
     "output_type": "display_data"
    },
    {
     "name": "stdout",
     "output_type": "stream",
     "text": [
      "\n",
      "Pullover:\n"
     ]
    },
    {
     "data": {
      "image/png": "[encoded data removed]",
      "text/plain": [
       "<Figure size 300x300 with 1 Axes>"
      ]
     },
     "metadata": {},
     "output_type": "display_data"
    }
   ],
   "source": [
    "for i in range(6):\n",
    "    print(f\"\\n{class_names[y_train[i]]}:\")\n",
    "    plot_greyscale(X_train[i])"
   ]
  },
  {
   "cell_type": "markdown",
   "id": "5305fb66-b871-4588-a4a5-edaf6c9d3a95",
   "metadata": {},
   "source": [
    "#### Pre-processing"
   ]
  },
  {
   "cell_type": "code",
   "execution_count": 13,
   "id": "af580abc-dc2e-45f6-8c1a-eb58125ec933",
   "metadata": {
    "tags": []
   },
   "outputs": [],
   "source": [
    "# Scale images to the [0, 1] range\n",
    "X_train = X_train.astype(\"float32\") / 255\n",
    "X_test = X_test.astype(\"float32\") / 255\n",
    "\n",
    "X_train = np.expand_dims(X_train, -1)\n",
    "X_test = np.expand_dims(X_test, -1)"
   ]
  },
  {
   "cell_type": "markdown",
   "id": "e80f4991-26e2-428e-bbe4-be0fb084c2c4",
   "metadata": {
    "tags": []
   },
   "source": [
    "#### Model creation / fitting"
   ]
  },
  {
   "cell_type": "markdown",
   "id": "a699b1d3-38ad-4385-bf02-26562dba8323",
   "metadata": {},
   "source": [
    "Create Keras model"
   ]
  },
  {
   "cell_type": "code",
   "execution_count": 1,
   "id": "474f19c0-e08e-4e29-9b04-b42887ca67ad",
   "metadata": {},
   "outputs": [],
   "source": [
    "# the shape of each input (image)\n",
    "input_shape = (28, 28, 1)"
   ]
  },
  {
   "cell_type": "code",
   "execution_count": 27,
   "id": "bb8d748e",
   "metadata": {
    "tags": []
   },
   "outputs": [],
   "source": [
    "### Create a model, based on the CNN architecture to classify the clothes images in terms of the 10 types.\n",
    "### Your model should include:\n",
    "###  - 2 convolution layers, with a 4x4 and 3x3 kernels respectively, and stride of 1\n",
    "###  - no padding\n",
    "###  - 2 pooling layers (Max), with a 2x2 kernels\n",
    "###  - Dropout regularization disabling half the units, before the dense output layer\n",
    "\n",
    "### YOUR CODE HERE:\n",
    "\n",
    "model = Sequential([\n",
    "    Input(shape=input_shape),\n",
    "    # ...\n",
    "    # ...\n",
    "    ])"
   ]
  },
  {
   "cell_type": "markdown",
   "id": "96ba405e-7973-4c4a-b74b-9d53603d3008",
   "metadata": {},
   "source": [
    "Compile and build the Keras model"
   ]
  },
  {
   "cell_type": "code",
   "execution_count": 28,
   "id": "d3e35048-64b7-457c-b983-796768e84a4e",
   "metadata": {
    "tags": []
   },
   "outputs": [],
   "source": [
    "model.compile(loss=\"sparse_categorical_crossentropy\", optimizer=\"adam\", metrics=[\"accuracy\"])"
   ]
  },
  {
   "cell_type": "code",
   "execution_count": 29,
   "id": "e295b660-b331-46a4-bfba-2c4884329132",
   "metadata": {
    "tags": []
   },
   "outputs": [],
   "source": [
    "model.build(input_shape=input_shape)"
   ]
  },
  {
   "cell_type": "code",
   "execution_count": 30,
   "id": "28b45a07-315d-4c5a-b371-e33f52f9c863",
   "metadata": {
    "tags": []
   },
   "outputs": [
    {
     "name": "stdout",
     "output_type": "stream",
     "text": [
      "Model: \"sequential_1\"\n",
      "_________________________________________________________________\n",
      " Layer (type)                Output Shape              Param #   \n",
      "=================================================================\n",
      " conv2d_4 (Conv2D)           (None, 25, 25, 16)        272       \n",
      "                                                                 \n",
      " max_pooling2d_4 (MaxPooling  (None, 12, 12, 16)       0         \n",
      " 2D)                                                             \n",
      "                                                                 \n",
      " conv2d_5 (Conv2D)           (None, 10, 10, 32)        4640      \n",
      "                                                                 \n",
      " max_pooling2d_5 (MaxPooling  (None, 5, 5, 32)         0         \n",
      " 2D)                                                             \n",
      "                                                                 \n",
      " flatten_2 (Flatten)         (None, 800)               0         \n",
      "                                                                 \n",
      " dropout_2 (Dropout)         (None, 800)               0         \n",
      "                                                                 \n",
      " dense_2 (Dense)             (None, 10)                8010      \n",
      "                                                                 \n",
      "=================================================================\n",
      "Total params: 12,922\n",
      "Trainable params: 12,922\n",
      "Non-trainable params: 0\n",
      "_________________________________________________________________\n"
     ]
    }
   ],
   "source": [
    "model.summary()"
   ]
  },
  {
   "cell_type": "code",
   "execution_count": 18,
   "id": "e1ff0d63-84f0-4228-af1a-fbc1955ad6ad",
   "metadata": {
    "tags": []
   },
   "outputs": [
    {
     "name": "stdout",
     "output_type": "stream",
     "text": [
      "You must install pydot (`pip install pydot`) and install graphviz (see instructions at https://graphviz.gitlab.io/download/) for plot_model to work.\n"
     ]
    }
   ],
   "source": [
    "plot_model(model, show_shapes=True)"
   ]
  },
  {
   "cell_type": "markdown",
   "id": "6104477a-69b3-43e3-aa3e-05ba5ce868af",
   "metadata": {},
   "source": [
    "Fit the model"
   ]
  },
  {
   "cell_type": "code",
   "execution_count": 19,
   "id": "4801d380-3e42-4441-90a3-640df3f1f862",
   "metadata": {
    "tags": []
   },
   "outputs": [
    {
     "name": "stdout",
     "output_type": "stream",
     "text": [
      "Epoch 1/8\n",
      "329/329 [==============================] - 5s 14ms/step - loss: 0.8566 - accuracy: 0.6930 - val_loss: 0.5171 - val_accuracy: 0.8149\n",
      "Epoch 2/8\n",
      "329/329 [==============================] - 4s 13ms/step - loss: 0.5281 - accuracy: 0.8081 - val_loss: 0.4413 - val_accuracy: 0.8419\n",
      "Epoch 3/8\n",
      "329/329 [==============================] - 4s 13ms/step - loss: 0.4701 - accuracy: 0.8306 - val_loss: 0.4092 - val_accuracy: 0.8575\n",
      "Epoch 4/8\n",
      "329/329 [==============================] - 4s 12ms/step - loss: 0.4415 - accuracy: 0.8422 - val_loss: 0.3840 - val_accuracy: 0.8661\n",
      "Epoch 5/8\n",
      "329/329 [==============================] - 4s 13ms/step - loss: 0.4185 - accuracy: 0.8494 - val_loss: 0.3689 - val_accuracy: 0.8674\n",
      "Epoch 6/8\n",
      "329/329 [==============================] - 4s 13ms/step - loss: 0.4067 - accuracy: 0.8541 - val_loss: 0.3591 - val_accuracy: 0.8714\n",
      "Epoch 7/8\n",
      "329/329 [==============================] - 4s 13ms/step - loss: 0.3905 - accuracy: 0.8604 - val_loss: 0.3501 - val_accuracy: 0.8772\n",
      "Epoch 8/8\n",
      "329/329 [==============================] - 4s 13ms/step - loss: 0.3807 - accuracy: 0.8632 - val_loss: 0.3402 - val_accuracy: 0.8771\n"
     ]
    }
   ],
   "source": [
    "epochs = 8\n",
    "batch_size = 128\n",
    "\n",
    "trained = model.fit(X_train, y_train, batch_size=batch_size, epochs=epochs, validation_split=0.3)"
   ]
  },
  {
   "cell_type": "code",
   "execution_count": 20,
   "id": "759cf74a-fe74-4d49-9975-b92a4cdd8e13",
   "metadata": {
    "tags": []
   },
   "outputs": [
    {
     "data": {
      "image/png": "[encoded data removed]",
      "text/plain": [
       "<Figure size 800x500 with 1 Axes>"
      ]
     },
     "metadata": {},
     "output_type": "display_data"
    }
   ],
   "source": [
    "plot_history(trained.history)"
   ]
  },
  {
   "cell_type": "code",
   "execution_count": 21,
   "id": "81fc283c-60bc-4f70-8ae0-ed582c7984d8",
   "metadata": {
    "tags": []
   },
   "outputs": [
    {
     "name": "stdout",
     "output_type": "stream",
     "text": [
      "Test loss: 0.357\n",
      "Test accuracy: 0.875\n"
     ]
    }
   ],
   "source": [
    "score = model.evaluate(X_test, y_test, verbose=0)\n",
    "print(f\"Test loss: {score[0]:.3f}\")\n",
    "print(f\"Test accuracy: {score[1]:.3f}\")"
   ]
  },
  {
   "cell_type": "markdown",
   "id": "2571f251-cf83-4362-98a0-6af2e21aa6ae",
   "metadata": {
    "tags": []
   },
   "source": [
    "#### Check some examples"
   ]
  },
  {
   "cell_type": "code",
   "execution_count": 22,
   "id": "b617e88f-b61f-4a85-b163-06ec9a61a5e6",
   "metadata": {
    "tags": []
   },
   "outputs": [],
   "source": [
    "# the index of the sample image we want to score and check (from the Test set)\n",
    "SAMPLE_INDEX = 4"
   ]
  },
  {
   "cell_type": "code",
   "execution_count": 23,
   "id": "c7f04a66-d977-450f-9637-9a28d4c80678",
   "metadata": {
    "tags": []
   },
   "outputs": [
    {
     "name": "stdout",
     "output_type": "stream",
     "text": [
      "1/1 [==============================] - 0s 51ms/step\n"
     ]
    },
    {
     "data": {
      "image/png": "[encoded data removed]",
      "text/plain": [
       "<Figure size 300x300 with 1 Axes>"
      ]
     },
     "metadata": {},
     "output_type": "display_data"
    },
    {
     "data": {
      "image/png": "[encoded data removed]",
      "text/plain": [
       "<Figure size 300x300 with 1 Axes>"
      ]
     },
     "metadata": {},
     "output_type": "display_data"
    },
    {
     "name": "stdout",
     "output_type": "stream",
     "text": [
      "Prediction: this image is a 'Shirt', with 68.87% probability\n",
      "\n"
     ]
    }
   ],
   "source": [
    "my_image = X_test[SAMPLE_INDEX]\n",
    "\n",
    "predictions = model.predict(np.array([my_image]))\n",
    "my_prediction = predictions[0]\n",
    "\n",
    "# probability\n",
    "pred_class = np.argmax(my_prediction)\n",
    "pred_class_name = class_names[pred_class]\n",
    "\n",
    "# class\n",
    "pred_probability = my_prediction[pred_class]\n",
    "\n",
    "plot_greyscale(my_image)\n",
    "\n",
    "plot_value_array(my_prediction, pred_class, y_test[SAMPLE_INDEX])\n",
    "print(f\"Prediction: this image is a '{pred_class_name}', with {100 * pred_probability:.2f}% probability\\n\")"
   ]
  },
  {
   "cell_type": "code",
   "execution_count": 24,
   "id": "b22fbf4d-22d0-4bd5-925f-189093a2fe47",
   "metadata": {},
   "outputs": [
    {
     "name": "stdout",
     "output_type": "stream",
     "text": [
      "Actual: this image is a 'Shirt'\n"
     ]
    }
   ],
   "source": [
    "### Is this prediction correct?\n",
    "### Complete the code in order to get the actual classification (label) of this SAMPLE_INDEX sample\n",
    "\n",
    "### YOUR CODE HERE:\n",
    "\n",
    "actual_class = \"get class\" # ...\n",
    "\n",
    "print(f\"Actual: this image is a '{actual_class}'\")"
   ]
  },
  {
   "cell_type": "code",
   "execution_count": null,
   "id": "3fbd1810-b5b8-447a-ab78-1925c72d6b50",
   "metadata": {},
   "outputs": [],
   "source": []
  },
  {
   "cell_type": "code",
   "execution_count": null,
   "id": "68977815-e2a3-437d-9a96-5352e5292099",
   "metadata": {},
   "outputs": [],
   "source": []
  }
 ],
 "metadata": {
  "kernelspec": {
   "display_name": "Python 3 (ipykernel)",
   "language": "python",
   "name": "python3"
  },
  "language_info": {
   "codemirror_mode": {
    "name": "ipython",
    "version": 3
   },
   "file_extension": ".py",
   "mimetype": "text/x-python",
   "name": "python",
   "nbconvert_exporter": "python",
   "pygments_lexer": "ipython3",
   "version": "3.10.16"
  }
 },
 "nbformat": 4,
 "nbformat_minor": 5
}
