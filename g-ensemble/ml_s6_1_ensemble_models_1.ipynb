{
 "cells": [
  {
   "cell_type": "markdown",
   "id": "634fc08b-4970-41c4-b99b-6fddaaa9ecd2",
   "metadata": {
    "tags": []
   },
   "source": [
    "# Ensemble Models - Lab 1"
   ]
  },
  {
   "attachments": {},
   "cell_type": "markdown",
   "id": "073bab52-fe2e-4d8e-86cf-fff52a9c120c",
   "metadata": {},
   "source": [
    "Example notebook for exploring ensemble models, comparing performance between algorithms:\n",
    "* Tree model\n",
    "* Bagging / Random Forest\n",
    "* Boosted trees\n",
    "\n",
    "<br>\n",
    "\n",
    "Documentation:\n",
    "* **Decision Tree** (regressor) in [Scikit Learn](https://scikit-learn.org/stable/modules/generated/sklearn.tree.DecisionTreeRegressor.html#sklearn.tree.DecisionTreeRegressor)\n",
    "* **Random Forest** (regressor) in [Scikit Learn](https://scikit-learn.org/stable/modules/generated/sklearn.ensemble.RandomForestRegressor.html#sklearn.ensemble.RandomForestRegressor)\n",
    "* **Gradient Boosting** (regressor) in [Scikit Learn](https://scikit-learn.org/stable/modules/generated/sklearn.ensemble.GradientBoostingRegressor.html#sklearn.ensemble.GradientBoostingRegressor)\n",
    "* **XGBoost** in [xgboost](https://xgboost.readthedocs.io/en/stable/python/python_api.html#module-xgboost.sklearn)\n",
    "\n",
    "<br>\n",
    "Ricardo Almeida"
   ]
  },
  {
   "cell_type": "code",
   "execution_count": null,
   "id": "8b44d909-eeb3-4d52-b83c-ae2458891ce4",
   "metadata": {
    "tags": []
   },
   "outputs": [],
   "source": [
    "import matplotlib.pyplot as plt\n",
    "from sklearn.datasets import fetch_california_housing\n",
    "from sklearn.metrics import RocCurveDisplay, r2_score\n",
    "from sklearn.model_selection import train_test_split"
   ]
  },
  {
   "cell_type": "code",
   "execution_count": null,
   "id": "d3ea1029-266f-4e06-8615-4a600d91e3e5",
   "metadata": {
    "tags": []
   },
   "outputs": [],
   "source": [
    "RANDOM_SEED = 7657\n",
    "\n",
    "TEST_SIZE=0.20"
   ]
  },
  {
   "cell_type": "markdown",
   "id": "5f4f2c2e-4f96-4087-a119-815d02bb30a4",
   "metadata": {
    "tags": []
   },
   "source": [
    "#### Loading dataset"
   ]
  },
  {
   "cell_type": "markdown",
   "id": "9bfc93b1-4573-4393-94a3-49777622b4d7",
   "metadata": {
    "tags": []
   },
   "source": [
    "California housing dataset"
   ]
  },
  {
   "cell_type": "code",
   "execution_count": null,
   "id": "7248588e-4926-4f0e-9047-d4c01ca4aa88",
   "metadata": {
    "tags": []
   },
   "outputs": [],
   "source": [
    "housing = fetch_california_housing()"
   ]
  },
  {
   "cell_type": "code",
   "execution_count": null,
   "id": "2036c800-a6ea-4839-8c1e-00e609153483",
   "metadata": {
    "tags": []
   },
   "outputs": [],
   "source": [
    "print(housing.DESCR)"
   ]
  },
  {
   "cell_type": "code",
   "execution_count": null,
   "id": "56af11d5-31cb-4613-a0de-49961b03401c",
   "metadata": {
    "tags": []
   },
   "outputs": [],
   "source": [
    "housing.feature_names"
   ]
  },
  {
   "cell_type": "code",
   "execution_count": null,
   "id": "2f3e0a7e-e2c4-4201-b686-e91e3824285f",
   "metadata": {
    "tags": []
   },
   "outputs": [],
   "source": [
    "housing.target_names"
   ]
  },
  {
   "cell_type": "code",
   "execution_count": null,
   "id": "cdb1fabf-3949-4fe4-aa9b-3953dea84a61",
   "metadata": {
    "tags": []
   },
   "outputs": [],
   "source": [
    "housing.target"
   ]
  },
  {
   "cell_type": "code",
   "execution_count": null,
   "id": "0757b180-4f18-4bcd-adf4-195cb27b5f02",
   "metadata": {
    "tags": []
   },
   "outputs": [],
   "source": [
    "X_train, X_dev, y_train, y_dev = train_test_split(\n",
    "    housing.data, housing.target, random_state=RANDOM_SEED, test_size=TEST_SIZE)"
   ]
  },
  {
   "cell_type": "code",
   "execution_count": null,
   "id": "14be98b2-393c-428b-917e-eed96e62841f",
   "metadata": {},
   "outputs": [],
   "source": [
    "X_train.shape"
   ]
  },
  {
   "cell_type": "code",
   "execution_count": null,
   "id": "ecea9eaa-23b3-43b7-9a1d-9c5d42ce5cc1",
   "metadata": {},
   "outputs": [],
   "source": [
    "X_dev.shape"
   ]
  },
  {
   "cell_type": "markdown",
   "id": "e249516d-513e-4ea1-abcd-868d9b9c2b49",
   "metadata": {
    "tags": []
   },
   "source": [
    "### Decision Tree "
   ]
  },
  {
   "cell_type": "markdown",
   "id": "6eafca08-5a07-462b-ae22-ead5a6453ebf",
   "metadata": {},
   "source": [
    "Fiting a Decision Tree (regressor) model and checking for accuracy on both datasets."
   ]
  },
  {
   "cell_type": "code",
   "execution_count": null,
   "id": "246379c0-cf25-4f46-a32b-eaa91f18892b",
   "metadata": {
    "tags": []
   },
   "outputs": [],
   "source": [
    "from sklearn.tree import DecisionTreeRegressor"
   ]
  },
  {
   "cell_type": "code",
   "execution_count": null,
   "id": "80bb0f5a-17ba-4585-94d0-e99df54c56f7",
   "metadata": {
    "tags": []
   },
   "outputs": [],
   "source": [
    "tree = DecisionTreeRegressor(random_state=RANDOM_SEED)\n",
    "tree.fit(X_train, y_train)"
   ]
  },
  {
   "cell_type": "code",
   "execution_count": null,
   "id": "dab4b5e4-02b4-421d-9a24-493ce41c702f",
   "metadata": {},
   "outputs": [],
   "source": [
    "model = tree"
   ]
  },
  {
   "cell_type": "code",
   "execution_count": null,
   "id": "1bece324-07dc-4019-841e-42c9547cac15",
   "metadata": {},
   "outputs": [],
   "source": [
    "# Predict on the train and development datasets\n",
    "y_train_pred = model.predict(X_train)\n",
    "y_dev_pred = model.predict(X_dev)"
   ]
  },
  {
   "cell_type": "code",
   "execution_count": null,
   "id": "60030af1-7240-4a10-8f4e-bec4ffd2789a",
   "metadata": {},
   "outputs": [],
   "source": [
    "# R2 score on train and development datasets\n",
    "r2_train = r2_score(y_train, y_train_pred)\n",
    "r2_dev = r2_score(y_dev, y_dev_pred)"
   ]
  },
  {
   "cell_type": "code",
   "execution_count": null,
   "id": "23e6d161-5fdd-4a54-b452-017a94c2e49d",
   "metadata": {
    "tags": []
   },
   "outputs": [],
   "source": [
    "print(\"R2 score on train dataset: {:.3f}\".format(r2_train))\n",
    "print(\"R2 score on dev   dataset: {:.3f}\".format(r2_dev))"
   ]
  },
  {
   "cell_type": "markdown",
   "id": "b4914890-4da5-4726-bdf4-39a4c58c3449",
   "metadata": {
    "tags": []
   },
   "source": [
    "### Random Forest without Bagging"
   ]
  },
  {
   "cell_type": "markdown",
   "id": "8eb25ae9-e1bb-4033-8421-2a6e56af8e6f",
   "metadata": {},
   "source": [
    "Fiting a Random Forest (regressor) model and checking for accuracy on both datasets."
   ]
  },
  {
   "cell_type": "code",
   "execution_count": null,
   "id": "51c739b3-be48-46d4-ad58-fe987d52a71a",
   "metadata": {
    "tags": []
   },
   "outputs": [],
   "source": [
    "from sklearn.ensemble import RandomForestRegressor"
   ]
  },
  {
   "cell_type": "code",
   "execution_count": null,
   "id": "da04b15b-fae5-4099-9720-5d3d10094a4f",
   "metadata": {},
   "outputs": [],
   "source": [
    "rf = RandomForestRegressor(n_estimators=200, random_state=RANDOM_SEED, bootstrap=False)\n",
    "rf.fit(X_train, y_train)"
   ]
  },
  {
   "cell_type": "code",
   "execution_count": null,
   "id": "fbd43cf5-718f-4627-845c-f587f1dfde01",
   "metadata": {},
   "outputs": [],
   "source": [
    "model = rf"
   ]
  },
  {
   "cell_type": "code",
   "execution_count": null,
   "id": "01d56bff-7d15-4210-9f28-5587051df780",
   "metadata": {},
   "outputs": [],
   "source": [
    "# Predict on the train and development datasets\n",
    "y_train_pred = model.predict(X_train)\n",
    "y_dev_pred = model.predict(X_dev)"
   ]
  },
  {
   "cell_type": "code",
   "execution_count": null,
   "id": "4cdbd06c-c5ed-4ea0-94e7-ab34490ad25f",
   "metadata": {},
   "outputs": [],
   "source": [
    "# R2 score on train and development datasets\n",
    "r2_train = r2_score(y_train, y_train_pred)\n",
    "r2_dev = r2_score(y_dev, y_dev_pred)"
   ]
  },
  {
   "cell_type": "code",
   "execution_count": null,
   "id": "36ab0a1d-e17c-4695-8a77-cf76772acf4b",
   "metadata": {
    "tags": []
   },
   "outputs": [],
   "source": [
    "print(\"R2 score on train dataset: {:.3f}\".format(r2_train))\n",
    "print(\"R2 score on dev   dataset: {:.3f}\".format(r2_dev))"
   ]
  },
  {
   "cell_type": "markdown",
   "id": "3a638652-f6b0-4b31-998b-10f5266806fe",
   "metadata": {
    "tags": []
   },
   "source": [
    "### Random Forest (with Bagging)"
   ]
  },
  {
   "cell_type": "markdown",
   "id": "0660bab4-89bd-4982-ba5b-bc245f56f8b5",
   "metadata": {},
   "source": [
    "Fiting a Random Forest (regressor) model and checking for accuracy on both datasets."
   ]
  },
  {
   "cell_type": "code",
   "execution_count": null,
   "id": "b89f3210-8a61-4a8f-9803-f04cd100c0d6",
   "metadata": {
    "tags": []
   },
   "outputs": [],
   "source": [
    "from sklearn.ensemble import RandomForestRegressor"
   ]
  },
  {
   "cell_type": "code",
   "execution_count": null,
   "id": "7956b98e-01ca-48e4-b3e5-8f02593ab571",
   "metadata": {},
   "outputs": [],
   "source": [
    "rf = RandomForestRegressor(n_estimators=200, random_state=RANDOM_SEED, bootstrap=True)\n",
    "rf.fit(X_train, y_train)"
   ]
  },
  {
   "cell_type": "code",
   "execution_count": null,
   "id": "03556ad1-97d2-4b53-80e9-64a0fa08b821",
   "metadata": {},
   "outputs": [],
   "source": [
    "model = rf"
   ]
  },
  {
   "cell_type": "code",
   "execution_count": null,
   "id": "7f580740-13ad-47a8-9780-ae001a8670ba",
   "metadata": {},
   "outputs": [],
   "source": [
    "# Predict on the train and development datasets\n",
    "y_train_pred = model.predict(X_train)\n",
    "y_dev_pred = model.predict(X_dev)"
   ]
  },
  {
   "cell_type": "code",
   "execution_count": null,
   "id": "755e25ab-3287-4dbd-8ec6-8ebedf2ad207",
   "metadata": {},
   "outputs": [],
   "source": [
    "# R2 score on train and development datasets\n",
    "r2_train = r2_score(y_train, y_train_pred)\n",
    "r2_dev = r2_score(y_dev, y_dev_pred)"
   ]
  },
  {
   "cell_type": "code",
   "execution_count": null,
   "id": "44a923e4-d699-49b9-b23b-4548ed35a9f5",
   "metadata": {
    "tags": []
   },
   "outputs": [],
   "source": [
    "print(\"R2 score on train dataset: {:.3f}\".format(r2_train))\n",
    "print(\"R2 score on dev   dataset: {:.3f}\".format(r2_dev))"
   ]
  },
  {
   "cell_type": "markdown",
   "id": "6cb97f97-ff58-4315-a1da-eb7945170948",
   "metadata": {
    "tags": []
   },
   "source": [
    "### Gradient Boosting"
   ]
  },
  {
   "cell_type": "markdown",
   "id": "6026c04e-adf8-41cb-994d-8e79dc8fb2d6",
   "metadata": {},
   "source": [
    "Fiting a Gradient Boosting (regressor) model and checking for accuracy on both datasets."
   ]
  },
  {
   "cell_type": "code",
   "execution_count": null,
   "id": "33002d93-46a9-4b0e-802a-e86cdc378bef",
   "metadata": {
    "tags": []
   },
   "outputs": [],
   "source": [
    "from sklearn.ensemble import GradientBoostingRegressor"
   ]
  },
  {
   "cell_type": "code",
   "execution_count": null,
   "id": "fa803c32-0747-4c3a-937d-a67fa0cab7f0",
   "metadata": {},
   "outputs": [],
   "source": [
    "gb = GradientBoostingRegressor(n_estimators=200, random_state=RANDOM_SEED)\n",
    "gb.fit(X_train, y_train)"
   ]
  },
  {
   "cell_type": "code",
   "execution_count": null,
   "id": "988d6623-fc97-4fde-a0a3-4c6fe5439ecd",
   "metadata": {},
   "outputs": [],
   "source": [
    "model = gb"
   ]
  },
  {
   "cell_type": "code",
   "execution_count": null,
   "id": "07d3538b-de74-49f7-8222-63145a257e2b",
   "metadata": {},
   "outputs": [],
   "source": [
    "# Predict on the train and development datasets\n",
    "y_train_pred = model.predict(X_train)\n",
    "y_dev_pred = model.predict(X_dev)"
   ]
  },
  {
   "cell_type": "code",
   "execution_count": null,
   "id": "5da1899a-3456-45d8-8747-1636dbe63ff7",
   "metadata": {},
   "outputs": [],
   "source": [
    "# R2 score on train and development datasets\n",
    "r2_train = r2_score(y_train, y_train_pred)\n",
    "r2_dev = r2_score(y_dev, y_dev_pred)"
   ]
  },
  {
   "cell_type": "code",
   "execution_count": null,
   "id": "38c53e33-8750-4453-9a07-5153340ed729",
   "metadata": {
    "tags": []
   },
   "outputs": [],
   "source": [
    "print(\"R2 score on train dataset: {:.3f}\".format(r2_train))\n",
    "print(\"R2 score on dev   dataset: {:.3f}\".format(r2_dev))"
   ]
  }
 ],
 "metadata": {
  "kernelspec": {
   "display_name": "Python 3 (ipykernel)",
   "language": "python",
   "name": "python3"
  },
  "language_info": {
   "codemirror_mode": {
    "name": "ipython",
    "version": 3
   },
   "file_extension": ".py",
   "mimetype": "text/x-python",
   "name": "python",
   "nbconvert_exporter": "python",
   "pygments_lexer": "ipython3",
   "version": "3.10.16"
  }
 },
 "nbformat": 4,
 "nbformat_minor": 5
}
