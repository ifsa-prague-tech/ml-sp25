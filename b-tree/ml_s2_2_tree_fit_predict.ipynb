{
 "cells": [
  {
   "cell_type": "markdown",
   "id": "634fc08b-4970-41c4-b99b-6fddaaa9ecd2",
   "metadata": {
    "tags": []
   },
   "source": [
    "# Tree based models\n",
    "## create a model, fit and infere"
   ]
  },
  {
   "cell_type": "markdown",
   "id": "6ec98632-ceea-438d-8e2b-64de56d6cf21",
   "metadata": {},
   "source": [
    "@Ricardo Almeida"
   ]
  },
  {
   "cell_type": "code",
   "execution_count": null,
   "id": "97fe647b-9762-4024-bbf5-4f2409fdd3d6",
   "metadata": {
    "tags": []
   },
   "outputs": [],
   "source": [
    "import matplotlib.pyplot as plt\n",
    "import pandas as pd\n",
    "import seaborn as sns\n",
    "import graphviz\n",
    "\n",
    "from sklearn.datasets import load_breast_cancer\n",
    "from sklearn.model_selection import train_test_split\n",
    "from sklearn.preprocessing import StandardScaler\n",
    "from sklearn.tree import DecisionTreeClassifier, export_graphviz"
   ]
  },
  {
   "cell_type": "code",
   "execution_count": null,
   "id": "d3ea1029-266f-4e06-8615-4a600d91e3e5",
   "metadata": {
    "tags": []
   },
   "outputs": [],
   "source": [
    "RANDOM_SEED = 7657\n",
    "\n",
    "TEST_SIZE=0.20"
   ]
  },
  {
   "cell_type": "code",
   "execution_count": null,
   "id": "8ed1f794-3347-4cf2-b801-6057ceec524f",
   "metadata": {
    "tags": []
   },
   "outputs": [],
   "source": [
    "def plot_history(train_hist):\n",
    "    pd.DataFrame(train_hist).plot(figsize=(8, 5))\n",
    "    plt.grid(True)\n",
    "    plt.gca().set_ylim(0, 1) # set the vertical range to [0-1]\n",
    "    plt.show()"
   ]
  },
  {
   "cell_type": "markdown",
   "id": "ecf4d0bf-57ed-4cad-aeb8-9a33114a2716",
   "metadata": {
    "tags": []
   },
   "source": [
    "## Breast Cancer Wisconsin (diagnostic) dataset"
   ]
  },
  {
   "cell_type": "markdown",
   "id": "e4e0cf25-cb71-491d-b9d3-4744741f9d96",
   "metadata": {
    "tags": []
   },
   "source": [
    "#### Loading dataset"
   ]
  },
  {
   "cell_type": "code",
   "execution_count": null,
   "id": "5c5104ba-36c5-4249-97e5-48ff3005097c",
   "metadata": {
    "tags": []
   },
   "outputs": [],
   "source": [
    "dataset = load_breast_cancer()"
   ]
  },
  {
   "cell_type": "code",
   "execution_count": null,
   "id": "4b7c9d06-4b4a-4210-960a-a283ab92f8b4",
   "metadata": {
    "tags": []
   },
   "outputs": [],
   "source": [
    "print(dataset.DESCR)"
   ]
  },
  {
   "cell_type": "code",
   "execution_count": null,
   "id": "b2c2db06-3597-4826-b87e-a3ca351f3ba2",
   "metadata": {
    "tags": []
   },
   "outputs": [],
   "source": [
    "dataset.feature_names"
   ]
  },
  {
   "cell_type": "code",
   "execution_count": null,
   "id": "0abab375-83bf-426f-abff-44fe5e619b1e",
   "metadata": {
    "tags": []
   },
   "outputs": [],
   "source": [
    "dataset.target_names"
   ]
  },
  {
   "cell_type": "code",
   "execution_count": null,
   "id": "e51214ce-60b2-4fa8-9c0b-c5d95e9ce35c",
   "metadata": {
    "tags": []
   },
   "outputs": [],
   "source": [
    "dataset.data = dataset.data[:, :10]"
   ]
  },
  {
   "cell_type": "code",
   "execution_count": null,
   "id": "bb7809f8-424f-47f4-8df5-9cc8300a606d",
   "metadata": {
    "tags": []
   },
   "outputs": [],
   "source": [
    "dataset.feature_names = dataset.feature_names[:10]"
   ]
  },
  {
   "cell_type": "code",
   "execution_count": null,
   "id": "e4bdf8a8-7411-42df-a2bf-cdb570c04621",
   "metadata": {
    "tags": []
   },
   "outputs": [],
   "source": [
    "for f in dataset.feature_names:\n",
    "    print(f\"'{f}'\")"
   ]
  },
  {
   "cell_type": "code",
   "execution_count": null,
   "id": "f7bb55f6-eb53-4e8f-aea9-3eafe1afcf5c",
   "metadata": {},
   "outputs": [],
   "source": [
    "X = dataset.data\n",
    "y = dataset.target"
   ]
  },
  {
   "cell_type": "markdown",
   "id": "42331900-9984-4787-aa14-84966c144bc7",
   "metadata": {
    "tags": []
   },
   "source": [
    "#### Model creation / fitting"
   ]
  },
  {
   "cell_type": "code",
   "execution_count": null,
   "id": "438761ae-04b7-4fbd-bd3a-2120b981cf12",
   "metadata": {},
   "outputs": [],
   "source": []
  },
  {
   "cell_type": "markdown",
   "id": "d9c592c2-fc35-48f2-8a27-e360cf3a491a",
   "metadata": {
    "tags": []
   },
   "source": [
    "Fit the model"
   ]
  },
  {
   "cell_type": "code",
   "execution_count": null,
   "id": "ba575077-048e-4094-b2a3-209f9f6923b1",
   "metadata": {},
   "outputs": [],
   "source": []
  },
  {
   "cell_type": "markdown",
   "id": "28853026-df0e-476b-92c9-998f98e6e43f",
   "metadata": {
    "tags": []
   },
   "source": [
    "Generate predictions and probabilities (dev set)"
   ]
  },
  {
   "cell_type": "code",
   "execution_count": null,
   "id": "199dc39b-3117-4374-aab9-2faa14ecb23d",
   "metadata": {},
   "outputs": [],
   "source": [
    "model.predict(X_...)"
   ]
  },
  {
   "cell_type": "code",
   "execution_count": null,
   "id": "2a476469-1db6-4f75-9f9c-5a9e77f93780",
   "metadata": {},
   "outputs": [],
   "source": [
    "model.predict_proba(X_...)[:,1]"
   ]
  },
  {
   "cell_type": "code",
   "execution_count": null,
   "id": "45edc364-fee6-4ab7-9c3f-92fadebfd290",
   "metadata": {},
   "outputs": [],
   "source": []
  }
 ],
 "metadata": {
  "kernelspec": {
   "display_name": "Python 3 (ipykernel)",
   "language": "python",
   "name": "python3"
  },
  "language_info": {
   "codemirror_mode": {
    "name": "ipython",
    "version": 3
   },
   "file_extension": ".py",
   "mimetype": "text/x-python",
   "name": "python",
   "nbconvert_exporter": "python",
   "pygments_lexer": "ipython3",
   "version": "3.9.18"
  }
 },
 "nbformat": 4,
 "nbformat_minor": 5
}
