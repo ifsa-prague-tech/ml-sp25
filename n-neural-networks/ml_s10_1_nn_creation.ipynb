{
 "cells": [
  {
   "cell_type": "markdown",
   "id": "634fc08b-4970-41c4-b99b-6fddaaa9ecd2",
   "metadata": {
    "tags": []
   },
   "source": [
    "# Neural Networks with Keras\n",
    "## Part 2: model creation"
   ]
  },
  {
   "cell_type": "markdown",
   "id": "6ec98632-ceea-438d-8e2b-64de56d6cf21",
   "metadata": {},
   "source": [
    "Practicing creating neural network nodels, with Keras:\n",
    "* Regression\n",
    "* Binary classification\n",
    "* Multi-class classification\n",
    "\n",
    "@Ricardo Almeida"
   ]
  },
  {
   "cell_type": "markdown",
   "id": "d6d3d514-6f8d-4076-b53b-3c911c0655fb",
   "metadata": {},
   "source": [
    "### Keras paramenters"
   ]
  },
  {
   "cell_type": "markdown",
   "id": "142eb0ff-6279-4eb6-b728-9e397ad9829c",
   "metadata": {},
   "source": [
    "[**Activation Funtions**](https://keras.io/api/layers/activations/) (parameter \"activation\") \n",
    "- relu\n",
    "- sigmoid\n",
    "- tanh\n",
    "- softmax\n",
    "- linear\n",
    "- ...\n",
    "\n",
    "[**Loss Funtions**](https://keras.io/api/losses/) (parameter \"loss\") \n",
    "- binary_crossentropy\n",
    "- cosine_similarity\n",
    "- ...\n",
    "\n",
    "[**Optimizers**](https://keras.io/api/optimizers/) (parameter \"optimizer\") \n",
    "- SGD\n",
    "- RMSprop\n",
    "- Adam\n",
    "- ...\n",
    "\n",
    "[**Metrics**](https://keras.io/api/optimizers/) (parameter \"metrics\") \n",
    "- Accuracy\n",
    "- AUC\n",
    "- RootMeanSquaredError\n",
    "- R2Score\n",
    "- ...\n",
    "\n"
   ]
  },
  {
   "cell_type": "code",
   "execution_count": null,
   "id": "3a66a9e0-7f33-4151-b94c-541192b91d72",
   "metadata": {
    "tags": []
   },
   "outputs": [],
   "source": [
    "import os\n",
    "os.environ['TF_CPP_MIN_LOG_LEVEL'] = '1'"
   ]
  },
  {
   "cell_type": "code",
   "execution_count": null,
   "id": "97fe647b-9762-4024-bbf5-4f2409fdd3d6",
   "metadata": {
    "tags": []
   },
   "outputs": [],
   "source": [
    "from keras.layers import Dense, Input\n",
    "from keras.models import Sequential\n",
    "\n",
    "import matplotlib.pyplot as plt\n",
    "import pandas as pd\n",
    "import seaborn as sns\n",
    "\n",
    "from sklearn.datasets import fetch_california_housing, load_breast_cancer, load_wine\n",
    "from sklearn.model_selection import train_test_split\n",
    "from sklearn.preprocessing import StandardScaler "
   ]
  },
  {
   "cell_type": "code",
   "execution_count": null,
   "id": "d3ea1029-266f-4e06-8615-4a600d91e3e5",
   "metadata": {
    "tags": []
   },
   "outputs": [],
   "source": [
    "RANDOM_SEED = 7657\n",
    "\n",
    "TEST_SIZE=0.20"
   ]
  },
  {
   "cell_type": "code",
   "execution_count": null,
   "id": "8ed1f794-3347-4cf2-b801-6057ceec524f",
   "metadata": {
    "tags": []
   },
   "outputs": [],
   "source": [
    "def plot_history(train_hist):\n",
    "    pd.DataFrame(train_hist).plot(figsize=(8, 5))\n",
    "    plt.grid(True)\n",
    "    plt.gca().set_ylim(0, 1) # set the vertical range to [0-1]\n",
    "    plt.show()"
   ]
  },
  {
   "cell_type": "markdown",
   "id": "bcad978c-a4b2-4862-a3d9-1f197644d8a0",
   "metadata": {
    "tags": []
   },
   "source": [
    "## California Housing dataset"
   ]
  },
  {
   "cell_type": "markdown",
   "id": "5f4f2c2e-4f96-4087-a119-815d02bb30a4",
   "metadata": {
    "tags": []
   },
   "source": [
    "#### Loading dataset"
   ]
  },
  {
   "cell_type": "code",
   "execution_count": null,
   "id": "7248588e-4926-4f0e-9047-d4c01ca4aa88",
   "metadata": {
    "tags": []
   },
   "outputs": [],
   "source": [
    "dataset = fetch_california_housing()"
   ]
  },
  {
   "cell_type": "code",
   "execution_count": null,
   "id": "2036c800-a6ea-4839-8c1e-00e609153483",
   "metadata": {
    "tags": []
   },
   "outputs": [],
   "source": [
    "print(dataset.DESCR)"
   ]
  },
  {
   "cell_type": "code",
   "execution_count": null,
   "id": "56af11d5-31cb-4613-a0de-49961b03401c",
   "metadata": {
    "tags": []
   },
   "outputs": [],
   "source": [
    "dataset.feature_names"
   ]
  },
  {
   "cell_type": "code",
   "execution_count": null,
   "id": "2f3e0a7e-e2c4-4201-b686-e91e3824285f",
   "metadata": {
    "tags": []
   },
   "outputs": [],
   "source": [
    "dataset.target_names"
   ]
  },
  {
   "cell_type": "code",
   "execution_count": null,
   "id": "cdb1fabf-3949-4fe4-aa9b-3953dea84a61",
   "metadata": {
    "tags": []
   },
   "outputs": [],
   "source": [
    "dataset.target"
   ]
  },
  {
   "cell_type": "code",
   "execution_count": null,
   "id": "d6de77a9-38fa-4a4f-8bd7-99c89d1182fe",
   "metadata": {
    "tags": []
   },
   "outputs": [],
   "source": [
    "# Standardize the features\n",
    "data_scaled = StandardScaler().fit_transform(dataset.data)\n",
    "#data_scaled = dataset.data"
   ]
  },
  {
   "cell_type": "code",
   "execution_count": null,
   "id": "0757b180-4f18-4bcd-adf4-195cb27b5f02",
   "metadata": {
    "tags": []
   },
   "outputs": [],
   "source": [
    "X_train, X_dev, y_train, y_dev = train_test_split(\n",
    "    data_scaled, dataset.target, random_state=RANDOM_SEED, test_size=TEST_SIZE)"
   ]
  },
  {
   "cell_type": "markdown",
   "id": "e80f4991-26e2-428e-bbe4-be0fb084c2c4",
   "metadata": {
    "tags": []
   },
   "source": [
    "#### Model creation / fitting"
   ]
  },
  {
   "cell_type": "markdown",
   "id": "a699b1d3-38ad-4385-bf02-26562dba8323",
   "metadata": {},
   "source": [
    "Create Keras model"
   ]
  },
  {
   "cell_type": "code",
   "execution_count": null,
   "id": "f2a3a1b6-5d8b-43ae-82a5-c1d42aa8653a",
   "metadata": {
    "tags": []
   },
   "outputs": [],
   "source": [
    "### Create a Neural Network model, with Keras, to fit the given data. Use 3 hidden layers.\n",
    "### Your code here:\n",
    "\n",
    "model = Sequential([\n",
    "    ...\n",
    "    ])"
   ]
  },
  {
   "cell_type": "markdown",
   "id": "dd28c64e-c663-4130-85a4-5d3fea722b41",
   "metadata": {},
   "source": [
    "Compile the Keras model"
   ]
  },
  {
   "cell_type": "code",
   "execution_count": null,
   "id": "4b90dd76-bb44-44d7-903d-631abaf4e92d",
   "metadata": {
    "tags": []
   },
   "outputs": [],
   "source": [
    "### Decide on the most appropriate loss function; pick an optimizer.\n",
    "### Your code here:\n",
    "\n"
   ]
  },
  {
   "cell_type": "markdown",
   "id": "1a1abbfe-9ceb-477b-87cb-1e2c08c9911d",
   "metadata": {},
   "source": [
    "Fit the model"
   ]
  },
  {
   "cell_type": "code",
   "execution_count": null,
   "id": "c7f21159-587b-401a-87a6-e84cc3e5126f",
   "metadata": {
    "tags": []
   },
   "outputs": [],
   "source": [
    "### Train the model, limiting to 20 epochs; try a batch_size of 16\n",
    "### Your code here:\n",
    "\n",
    "trained = model.fit(X_train, y_train, validation_data=(X_dev, y_dev), ...)"
   ]
  },
  {
   "cell_type": "code",
   "execution_count": null,
   "id": "47243141-ce58-4f65-a99b-cf5ddbe3c6a5",
   "metadata": {
    "tags": []
   },
   "outputs": [],
   "source": [
    "plot_history(trained.history)"
   ]
  },
  {
   "cell_type": "markdown",
   "id": "ecf4d0bf-57ed-4cad-aeb8-9a33114a2716",
   "metadata": {
    "tags": []
   },
   "source": [
    "## Breast cancer wisconsin (diagnostic) dataset"
   ]
  },
  {
   "cell_type": "markdown",
   "id": "e4e0cf25-cb71-491d-b9d3-4744741f9d96",
   "metadata": {
    "tags": []
   },
   "source": [
    "#### Loading dataset"
   ]
  },
  {
   "cell_type": "code",
   "execution_count": null,
   "id": "5c5104ba-36c5-4249-97e5-48ff3005097c",
   "metadata": {
    "tags": []
   },
   "outputs": [],
   "source": [
    "dataset = load_breast_cancer()"
   ]
  },
  {
   "cell_type": "code",
   "execution_count": null,
   "id": "4b7c9d06-4b4a-4210-960a-a283ab92f8b4",
   "metadata": {
    "tags": []
   },
   "outputs": [],
   "source": [
    "print(dataset.DESCR)"
   ]
  },
  {
   "cell_type": "code",
   "execution_count": null,
   "id": "b2c2db06-3597-4826-b87e-a3ca351f3ba2",
   "metadata": {
    "tags": []
   },
   "outputs": [],
   "source": [
    "dataset.feature_names"
   ]
  },
  {
   "cell_type": "code",
   "execution_count": null,
   "id": "0abab375-83bf-426f-abff-44fe5e619b1e",
   "metadata": {
    "tags": []
   },
   "outputs": [],
   "source": [
    "dataset.target_names"
   ]
  },
  {
   "cell_type": "code",
   "execution_count": null,
   "id": "15d89c8d-0b41-47d6-84b7-d01d7d62e9f5",
   "metadata": {
    "tags": []
   },
   "outputs": [],
   "source": [
    "dataset.target"
   ]
  },
  {
   "cell_type": "code",
   "execution_count": null,
   "id": "630a4a48-a145-49eb-b639-a28bff6e4d69",
   "metadata": {
    "tags": []
   },
   "outputs": [],
   "source": [
    "# Standardize the features\n",
    "data_scaled = StandardScaler().fit_transform(dataset.data)\n",
    "#data_scaled = dataset.data"
   ]
  },
  {
   "cell_type": "code",
   "execution_count": null,
   "id": "bccabc07-b530-4b1d-b936-fa34b5fb4ad0",
   "metadata": {
    "tags": []
   },
   "outputs": [],
   "source": [
    "X_train, X_dev, y_train, y_dev = train_test_split(\n",
    "    data_scaled, dataset.target, random_state=RANDOM_SEED, test_size=TEST_SIZE)"
   ]
  },
  {
   "cell_type": "markdown",
   "id": "42331900-9984-4787-aa14-84966c144bc7",
   "metadata": {
    "tags": []
   },
   "source": [
    "#### Model creation / fitting"
   ]
  },
  {
   "cell_type": "markdown",
   "id": "81af67e8-4fd1-412b-b61d-81c657e90d96",
   "metadata": {},
   "source": [
    "Create Keras model"
   ]
  },
  {
   "cell_type": "code",
   "execution_count": null,
   "id": "7f1bbb8e-eb7f-487d-b888-6bd1cd76c661",
   "metadata": {
    "tags": []
   },
   "outputs": [],
   "source": [
    "### Create a model with 2 hidden layers.\n",
    "### Your code here:\n",
    "\n",
    "model = Sequential([\n",
    "    ...\n",
    "    ])"
   ]
  },
  {
   "cell_type": "markdown",
   "id": "96ba405e-7973-4c4a-b74b-9d53603d3008",
   "metadata": {},
   "source": [
    "Compile the Keras model"
   ]
  },
  {
   "cell_type": "code",
   "execution_count": null,
   "id": "407f54c3-fa76-441c-9b32-eb7552feca11",
   "metadata": {
    "tags": []
   },
   "outputs": [],
   "source": [
    "### Also allow checking the model's accuracy during the training process\n",
    "### Your code here:\n",
    "\n",
    "model.compile(loss=...)"
   ]
  },
  {
   "cell_type": "markdown",
   "id": "6104477a-69b3-43e3-aa3e-05ba5ce868af",
   "metadata": {},
   "source": [
    "Fit the model"
   ]
  },
  {
   "cell_type": "code",
   "execution_count": null,
   "id": "2a3e6775-0e60-4e39-9735-61dc4f7a2c39",
   "metadata": {
    "tags": []
   },
   "outputs": [],
   "source": [
    "### Your code here:\n",
    "\n",
    "trained = model.fit(X_train, y_train, validation_data=(X_dev, y_dev), ...)"
   ]
  },
  {
   "cell_type": "code",
   "execution_count": null,
   "id": "759cf74a-fe74-4d49-9975-b92a4cdd8e13",
   "metadata": {
    "tags": []
   },
   "outputs": [],
   "source": [
    "plot_history(trained.history)"
   ]
  },
  {
   "cell_type": "code",
   "execution_count": null,
   "id": "ae472428-5bef-4b78-8f37-488cb38cbb58",
   "metadata": {},
   "outputs": [],
   "source": [
    "### What is the diagnostic for the first observation in the Dev set?\n",
    "### Your code here:\n",
    "\n"
   ]
  },
  {
   "cell_type": "code",
   "execution_count": null,
   "id": "eeb34497-668f-4b49-8eac-9613c3bf33f2",
   "metadata": {},
   "outputs": [],
   "source": [
    "### Is the diagnostic correct? Compare with the actual value\n",
    "### Your code here:\n",
    "\n"
   ]
  },
  {
   "cell_type": "markdown",
   "id": "7ef2a0ab-c127-4c60-b616-c17b86a866f3",
   "metadata": {
    "tags": []
   },
   "source": [
    "## Wine recognition dataset"
   ]
  },
  {
   "cell_type": "markdown",
   "id": "8104eb90-51b1-4b3a-ad1c-0316c416d5e5",
   "metadata": {
    "tags": []
   },
   "source": [
    "#### Loading dataset"
   ]
  },
  {
   "cell_type": "code",
   "execution_count": null,
   "id": "3a1b5fa1-1e39-4544-92a1-68349d5b26f8",
   "metadata": {
    "tags": []
   },
   "outputs": [],
   "source": [
    "dataset = load_wine()"
   ]
  },
  {
   "cell_type": "code",
   "execution_count": null,
   "id": "f4e93f32-2c0d-4c28-a25e-5a9891ff6967",
   "metadata": {
    "tags": []
   },
   "outputs": [],
   "source": [
    "print(dataset.DESCR)"
   ]
  },
  {
   "cell_type": "code",
   "execution_count": null,
   "id": "e0b514cc-1240-4154-990e-c3c7bff4443d",
   "metadata": {
    "tags": []
   },
   "outputs": [],
   "source": [
    "dataset.feature_names"
   ]
  },
  {
   "cell_type": "code",
   "execution_count": null,
   "id": "cd58d697-1dde-49c3-af9c-b8992c818080",
   "metadata": {
    "tags": []
   },
   "outputs": [],
   "source": [
    "dataset.target_names"
   ]
  },
  {
   "cell_type": "code",
   "execution_count": null,
   "id": "54b640c7-439c-42b7-9e48-c36993eea4f5",
   "metadata": {
    "tags": []
   },
   "outputs": [],
   "source": [
    "dataset.target"
   ]
  },
  {
   "cell_type": "code",
   "execution_count": null,
   "id": "8730d436-643b-4329-af77-1f9431178ae6",
   "metadata": {
    "tags": []
   },
   "outputs": [],
   "source": [
    "# Standardize the features\n",
    "data_scaled = StandardScaler().fit_transform(dataset.data)\n",
    "#data_scaled = dataset.data"
   ]
  },
  {
   "cell_type": "code",
   "execution_count": null,
   "id": "89af39dd-b6a7-448e-8fa1-854cd0e28516",
   "metadata": {
    "tags": []
   },
   "outputs": [],
   "source": [
    "X_train, X_dev, y_train, y_dev = train_test_split(\n",
    "    data_scaled, dataset.target, random_state=RANDOM_SEED, test_size=TEST_SIZE)"
   ]
  },
  {
   "cell_type": "markdown",
   "id": "38d28833-51dd-4a53-8a23-82c43ff61e0f",
   "metadata": {
    "tags": []
   },
   "source": [
    "#### Model creation / fitting"
   ]
  },
  {
   "cell_type": "markdown",
   "id": "5de1ff77-182a-463f-b0f3-c180b6e6678a",
   "metadata": {},
   "source": [
    "Create Keras model"
   ]
  },
  {
   "cell_type": "code",
   "execution_count": null,
   "id": "6e15470f-69cd-427f-a8d3-f02c56f79324",
   "metadata": {
    "tags": []
   },
   "outputs": [],
   "source": [
    "### Create a model with 2 hidden layers.\n",
    "### Your code here:\n",
    "\n",
    "model = ..."
   ]
  },
  {
   "cell_type": "markdown",
   "id": "d1d96ff5-05c9-45c5-b570-4ce2a2f55fe9",
   "metadata": {},
   "source": [
    "Compile the Keras model"
   ]
  },
  {
   "cell_type": "code",
   "execution_count": null,
   "id": "7fe46a8c-fdfa-4f41-97b0-e8c2e75bda0d",
   "metadata": {
    "tags": []
   },
   "outputs": [],
   "source": [
    "### Your code here:\n",
    "### Also allow checking the model's accuracy during the training process\n",
    "\n",
    "model.compile(loss=..., optimizer=\"adam\", metrics=['accuracy'])"
   ]
  },
  {
   "cell_type": "markdown",
   "id": "d87471d1-722e-41eb-bfbe-049a05e5bfef",
   "metadata": {},
   "source": [
    "Fit the model"
   ]
  },
  {
   "cell_type": "code",
   "execution_count": null,
   "id": "16ff96a0-7fdf-4946-adbf-d839903278ab",
   "metadata": {
    "tags": []
   },
   "outputs": [],
   "source": [
    "### Your code here:\n",
    "\n",
    "trained = model.fit(X_train, y_train, validation_data=(X_dev, y_dev), epochs=25, batch_size=16)"
   ]
  },
  {
   "cell_type": "code",
   "execution_count": null,
   "id": "29aebb16-510b-448a-85f9-4bd8d25b5fc0",
   "metadata": {
    "tags": []
   },
   "outputs": [],
   "source": [
    "plot_history(trained.history)"
   ]
  },
  {
   "cell_type": "code",
   "execution_count": null,
   "id": "f205adb0-b016-45db-85e3-4c79f619e2f8",
   "metadata": {},
   "outputs": [],
   "source": [
    "### What is the predicted class (cultivator) for the first wine in the Dev set?\n",
    "### Your code here:\n",
    "\n"
   ]
  },
  {
   "cell_type": "code",
   "execution_count": null,
   "id": "34d1c551-aa12-457c-a501-91d5a95a8e93",
   "metadata": {},
   "outputs": [],
   "source": [
    "### Is the classification correct? Compare with the actual value\n",
    "### Your code here:\n",
    "\n"
   ]
  },
  {
   "cell_type": "code",
   "execution_count": null,
   "id": "b7246270-a2a0-4009-a561-fc8e2e8adee1",
   "metadata": {},
   "outputs": [],
   "source": []
  }
 ],
 "metadata": {
  "kernelspec": {
   "display_name": "Python 3 (ipykernel)",
   "language": "python",
   "name": "python3"
  },
  "language_info": {
   "codemirror_mode": {
    "name": "ipython",
    "version": 3
   },
   "file_extension": ".py",
   "mimetype": "text/x-python",
   "name": "python",
   "nbconvert_exporter": "python",
   "pygments_lexer": "ipython3",
   "version": "3.10.16"
  }
 },
 "nbformat": 4,
 "nbformat_minor": 5
}
