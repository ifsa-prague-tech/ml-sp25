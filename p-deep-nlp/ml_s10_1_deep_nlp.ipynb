{
 "cells": [
  {
   "cell_type": "markdown",
   "id": "634fc08b-4970-41c4-b99b-6fddaaa9ecd2",
   "metadata": {
    "tags": []
   },
   "source": [
    "# Deep Learning NLP - Labs"
   ]
  },
  {
   "attachments": {},
   "cell_type": "markdown",
   "id": "073bab52-fe2e-4d8e-86cf-fff52a9c120c",
   "metadata": {},
   "source": [
    "Text Clustering with K-Means and GloVe Word Embeddings using Autoencoders\n",
    "\n",
    "This exercise aims to show the use of RNNs and embeddings on a text clustering task (NLP).\n",
    "\n",
    "<br>\n",
    "\n",
    "\n",
    "#### Dataset\n",
    "@dataset {consolidated_climate_dataset,  \n",
    "    author = {Joseph Pollack},  \n",
    "    title = {Climate Guard Toxic Agent - Dataset},  \n",
    "    year = {2024},  \n",
    "    publisher = {Hugging Face},  \n",
    "    url = { https://huggingface.co/datasets/Tonic/Climate-Guard-Toxic-Agent }  \n",
    "}\n",
    "<br>\n",
    "\n",
    "<br>\n",
    "@Ricardo Almeida"
   ]
  },
  {
   "cell_type": "code",
   "execution_count": 1,
   "id": "370f7c58-7935-4163-8995-e2f1cc348454",
   "metadata": {},
   "outputs": [],
   "source": [
    "import os\n",
    "os.environ['TF_CPP_MIN_LOG_LEVEL'] = '1'"
   ]
  },
  {
   "cell_type": "code",
   "execution_count": 2,
   "id": "afa1e905-1f1b-415d-ba69-700af2cb168d",
   "metadata": {},
   "outputs": [],
   "source": [
    "# Step 1: Import required libraries\n",
    "import pandas as pd\n",
    "import numpy as np\n",
    "from sklearn.cluster import KMeans\n",
    "from sklearn.preprocessing import StandardScaler\n",
    "import gensim.downloader as api\n",
    "from keras.layers import Input, Dense\n",
    "from keras.models import Model\n",
    "from keras.optimizers import Adam\n",
    "import matplotlib.pyplot as plt\n",
    "import nltk\n",
    "from nltk.tokenize import word_tokenize"
   ]
  },
  {
   "cell_type": "code",
   "execution_count": 3,
   "id": "80b8ed0b-b2fe-474f-b39c-d291dd93fb61",
   "metadata": {},
   "outputs": [
    {
     "name": "stderr",
     "output_type": "stream",
     "text": [
      "[nltk_data] Downloading package punkt_tab to\n",
      "[nltk_data]     /Users/ricardo/nltk_data...\n",
      "[nltk_data]   Package punkt_tab is already up-to-date!\n"
     ]
    },
    {
     "data": {
      "text/plain": [
       "True"
      ]
     },
     "execution_count": 3,
     "metadata": {},
     "output_type": "execute_result"
    }
   ],
   "source": [
    "nltk.download('punkt_tab')"
   ]
  },
  {
   "cell_type": "code",
   "execution_count": 4,
   "id": "a990ae40-6113-4426-ab89-10d83cb2a72c",
   "metadata": {},
   "outputs": [],
   "source": [
    "text_column = 'text'"
   ]
  },
  {
   "cell_type": "markdown",
   "id": "5f4f2c2e-4f96-4087-a119-815d02bb30a4",
   "metadata": {
    "tags": []
   },
   "source": [
    "#### 1. Loading dataset"
   ]
  },
  {
   "cell_type": "code",
   "execution_count": 5,
   "id": "9f43f3bb-9370-4189-9e70-12a45e38c9f5",
   "metadata": {},
   "outputs": [],
   "source": [
    "df = pd.read_parquet(\"data/climate_text_sample.parquet\")"
   ]
  },
  {
   "cell_type": "code",
   "execution_count": 6,
   "id": "132dae9c-bfae-429d-80af-fc8f8571ec21",
   "metadata": {},
   "outputs": [],
   "source": [
    "df = df[[text_column]]"
   ]
  },
  {
   "cell_type": "code",
   "execution_count": 7,
   "id": "a26fb6c7-814d-4ec8-b090-8568a2d99747",
   "metadata": {},
   "outputs": [
    {
     "data": {
      "text/html": [
       "<div>\n",
       "<style scoped>\n",
       "    .dataframe tbody tr th:only-of-type {\n",
       "        vertical-align: middle;\n",
       "    }\n",
       "\n",
       "    .dataframe tbody tr th {\n",
       "        vertical-align: top;\n",
       "    }\n",
       "\n",
       "    .dataframe thead th {\n",
       "        text-align: right;\n",
       "    }\n",
       "</style>\n",
       "<table border=\"1\" class=\"dataframe\">\n",
       "  <thead>\n",
       "    <tr style=\"text-align: right;\">\n",
       "      <th></th>\n",
       "      <th>text</th>\n",
       "    </tr>\n",
       "  </thead>\n",
       "  <tbody>\n",
       "    <tr>\n",
       "      <th>0</th>\n",
       "      <td>Since 1938, New England has experienced no hur...</td>\n",
       "    </tr>\n",
       "    <tr>\n",
       "      <th>1</th>\n",
       "      <td>Climate action initiatives often come with sig...</td>\n",
       "    </tr>\n",
       "    <tr>\n",
       "      <th>2</th>\n",
       "      <td>Between 1972 and 2023, the Amazon rainforest l...</td>\n",
       "    </tr>\n",
       "    <tr>\n",
       "      <th>3</th>\n",
       "      <td>In recent years, climate science has been mark...</td>\n",
       "    </tr>\n",
       "    <tr>\n",
       "      <th>4</th>\n",
       "      <td>Since 2010, global energy consumption has been...</td>\n",
       "    </tr>\n",
       "    <tr>\n",
       "      <th>...</th>\n",
       "      <td>...</td>\n",
       "    </tr>\n",
       "    <tr>\n",
       "      <th>1995</th>\n",
       "      <td>There's no energy crisis, the elites control t...</td>\n",
       "    </tr>\n",
       "    <tr>\n",
       "      <th>1996</th>\n",
       "      <td>The assertion that no conclusive evidence exis...</td>\n",
       "    </tr>\n",
       "    <tr>\n",
       "      <th>1997</th>\n",
       "      <td>The assertion that human emissions of carbon d...</td>\n",
       "    </tr>\n",
       "    <tr>\n",
       "      <th>1998</th>\n",
       "      <td>No one has proven that human CO2 emissions cau...</td>\n",
       "    </tr>\n",
       "    <tr>\n",
       "      <th>1999</th>\n",
       "      <td>No one has ever proven that the current change...</td>\n",
       "    </tr>\n",
       "  </tbody>\n",
       "</table>\n",
       "<p>2000 rows × 1 columns</p>\n",
       "</div>"
      ],
      "text/plain": [
       "                                                   text\n",
       "0     Since 1938, New England has experienced no hur...\n",
       "1     Climate action initiatives often come with sig...\n",
       "2     Between 1972 and 2023, the Amazon rainforest l...\n",
       "3     In recent years, climate science has been mark...\n",
       "4     Since 2010, global energy consumption has been...\n",
       "...                                                 ...\n",
       "1995  There's no energy crisis, the elites control t...\n",
       "1996  The assertion that no conclusive evidence exis...\n",
       "1997  The assertion that human emissions of carbon d...\n",
       "1998  No one has proven that human CO2 emissions cau...\n",
       "1999  No one has ever proven that the current change...\n",
       "\n",
       "[2000 rows x 1 columns]"
      ]
     },
     "execution_count": 7,
     "metadata": {},
     "output_type": "execute_result"
    }
   ],
   "source": [
    "df"
   ]
  },
  {
   "cell_type": "code",
   "execution_count": 8,
   "id": "21304e2c-260b-4996-a0e8-ac9c98a7e192",
   "metadata": {},
   "outputs": [],
   "source": [
    "df = df.copy()"
   ]
  },
  {
   "cell_type": "markdown",
   "id": "8f5ae41e-af9b-42c7-af63-367c8e07a16b",
   "metadata": {},
   "source": [
    "#### 2. Download and load pre-trained GloVe model"
   ]
  },
  {
   "cell_type": "code",
   "execution_count": 9,
   "id": "c703ce10-9ea6-4322-b688-bbaa2c3d36af",
   "metadata": {},
   "outputs": [],
   "source": [
    "# Downloading and loading the \"glove-wiki-gigaword-300\" model\n",
    "glove_model = api.load(\"glove-wiki-gigaword-300\")  # GloVe model pre-trained on Wikipedia"
   ]
  },
  {
   "cell_type": "markdown",
   "id": "17b81dee-0d47-45d9-ad59-adcf4e3f8c80",
   "metadata": {},
   "source": [
    "#### 3. Compute document embeddings by averaging word embeddings"
   ]
  },
  {
   "cell_type": "code",
   "execution_count": 10,
   "id": "72418eba-9f92-4a29-a795-230315a6aaee",
   "metadata": {},
   "outputs": [],
   "source": [
    "def get_document_embedding(text, glove_model):\n",
    "    words = word_tokenize(text.lower())  # Tokenize and convert to lowercase\n",
    "    word_embeddings = [glove_model[word] for word in words if word in glove_model]  # Get embeddings for known words\n",
    "    if word_embeddings:  # If there are valid word embeddings, take their average\n",
    "        return np.mean(word_embeddings, axis=0)\n",
    "    else:  # Fallback if no known words\n",
    "        return np.zeros(glove_model.vector_size)"
   ]
  },
  {
   "cell_type": "code",
   "execution_count": 11,
   "id": "76a9dc6b-2703-4024-9bc0-8566af00e82f",
   "metadata": {},
   "outputs": [],
   "source": [
    "# Generate embeddings for each document in 'analyze_text'\n",
    "df['embedding'] = df[text_column].apply(lambda x: get_document_embedding(x, glove_model))\n",
    "embeddings = np.vstack(df['embedding'].values)  # Stack into a 2D array for further processing"
   ]
  },
  {
   "cell_type": "markdown",
   "id": "69acf0eb-8d6c-4927-ba98-0a1f01b75744",
   "metadata": {},
   "source": [
    "#### 4. Define and train Autoencoder for dimensionality reduction"
   ]
  },
  {
   "cell_type": "code",
   "execution_count": 12,
   "id": "e234be0f-c114-420b-aee6-4e7171846ff9",
   "metadata": {},
   "outputs": [
    {
     "name": "stdout",
     "output_type": "stream",
     "text": [
      "Epoch 1/16\n",
      "\u001b[1m32/32\u001b[0m \u001b[32m━━━━━━━━━━━━━━━━━━━━\u001b[0m\u001b[37m\u001b[0m \u001b[1m0s\u001b[0m 629us/step - loss: 0.0325\n",
      "Epoch 2/16\n",
      "\u001b[1m32/32\u001b[0m \u001b[32m━━━━━━━━━━━━━━━━━━━━\u001b[0m\u001b[37m\u001b[0m \u001b[1m0s\u001b[0m 546us/step - loss: 0.0288\n",
      "Epoch 3/16\n",
      "\u001b[1m32/32\u001b[0m \u001b[32m━━━━━━━━━━━━━━━━━━━━\u001b[0m\u001b[37m\u001b[0m \u001b[1m0s\u001b[0m 549us/step - loss: 0.0208\n",
      "Epoch 4/16\n",
      "\u001b[1m32/32\u001b[0m \u001b[32m━━━━━━━━━━━━━━━━━━━━\u001b[0m\u001b[37m\u001b[0m \u001b[1m0s\u001b[0m 563us/step - loss: 0.0115\n",
      "Epoch 5/16\n",
      "\u001b[1m32/32\u001b[0m \u001b[32m━━━━━━━━━━━━━━━━━━━━\u001b[0m\u001b[37m\u001b[0m \u001b[1m0s\u001b[0m 6ms/step - loss: 0.0050\n",
      "Epoch 6/16\n",
      "\u001b[1m32/32\u001b[0m \u001b[32m━━━━━━━━━━━━━━━━━━━━\u001b[0m\u001b[37m\u001b[0m \u001b[1m0s\u001b[0m 1ms/step - loss: 0.0030\n",
      "Epoch 7/16\n",
      "\u001b[1m32/32\u001b[0m \u001b[32m━━━━━━━━━━━━━━━━━━━━\u001b[0m\u001b[37m\u001b[0m \u001b[1m0s\u001b[0m 598us/step - loss: 0.0026\n",
      "Epoch 8/16\n",
      "\u001b[1m32/32\u001b[0m \u001b[32m━━━━━━━━━━━━━━━━━━━━\u001b[0m\u001b[37m\u001b[0m \u001b[1m0s\u001b[0m 555us/step - loss: 0.0025\n",
      "Epoch 9/16\n",
      "\u001b[1m32/32\u001b[0m \u001b[32m━━━━━━━━━━━━━━━━━━━━\u001b[0m\u001b[37m\u001b[0m \u001b[1m0s\u001b[0m 580us/step - loss: 0.0025\n",
      "Epoch 10/16\n",
      "\u001b[1m32/32\u001b[0m \u001b[32m━━━━━━━━━━━━━━━━━━━━\u001b[0m\u001b[37m\u001b[0m \u001b[1m0s\u001b[0m 580us/step - loss: 0.0025\n",
      "Epoch 11/16\n",
      "\u001b[1m32/32\u001b[0m \u001b[32m━━━━━━━━━━━━━━━━━━━━\u001b[0m\u001b[37m\u001b[0m \u001b[1m0s\u001b[0m 574us/step - loss: 0.0024\n",
      "Epoch 12/16\n",
      "\u001b[1m32/32\u001b[0m \u001b[32m━━━━━━━━━━━━━━━━━━━━\u001b[0m\u001b[37m\u001b[0m \u001b[1m0s\u001b[0m 576us/step - loss: 0.0025\n",
      "Epoch 13/16\n",
      "\u001b[1m32/32\u001b[0m \u001b[32m━━━━━━━━━━━━━━━━━━━━\u001b[0m\u001b[37m\u001b[0m \u001b[1m0s\u001b[0m 570us/step - loss: 0.0024\n",
      "Epoch 14/16\n",
      "\u001b[1m32/32\u001b[0m \u001b[32m━━━━━━━━━━━━━━━━━━━━\u001b[0m\u001b[37m\u001b[0m \u001b[1m0s\u001b[0m 569us/step - loss: 0.0024\n",
      "Epoch 15/16\n",
      "\u001b[1m32/32\u001b[0m \u001b[32m━━━━━━━━━━━━━━━━━━━━\u001b[0m\u001b[37m\u001b[0m \u001b[1m0s\u001b[0m 559us/step - loss: 0.0024\n",
      "Epoch 16/16\n",
      "\u001b[1m32/32\u001b[0m \u001b[32m━━━━━━━━━━━━━━━━━━━━\u001b[0m\u001b[37m\u001b[0m \u001b[1m0s\u001b[0m 559us/step - loss: 0.0023\n",
      "\u001b[1m63/63\u001b[0m \u001b[32m━━━━━━━━━━━━━━━━━━━━\u001b[0m\u001b[37m\u001b[0m \u001b[1m0s\u001b[0m 365us/step\n"
     ]
    }
   ],
   "source": [
    "# Input shape\n",
    "input_dim = embeddings.shape[1]\n",
    "encoding_dim = 2  # 2D bottleneck\n",
    "\n",
    "# Functional API model definition\n",
    "input_layer = Input(shape=(input_dim,))\n",
    "encoded = Dense(64, activation='relu')(input_layer)\n",
    "bottleneck = Dense(encoding_dim, activation='relu', name='bottleneck')(encoded)\n",
    "decoded = Dense(64, activation='relu')(bottleneck)\n",
    "output_layer = Dense(input_dim, activation='linear')(decoded)\n",
    "\n",
    "# Autoencoder model\n",
    "autoencoder = Model(inputs=input_layer, outputs=output_layer)\n",
    "\n",
    "# Encoder model for extracting 2D embeddings\n",
    "encoder = Model(inputs=input_layer, outputs=bottleneck)\n",
    "\n",
    "# Compile and train\n",
    "autoencoder.compile(optimizer=Adam(learning_rate=0.0002), loss='mse')\n",
    "autoencoder.fit(embeddings, embeddings, epochs=16, batch_size=64, verbose=1)\n",
    "\n",
    "# Get 2D embeddings\n",
    "reduced_embeddings_autoencoder = encoder.predict(embeddings)"
   ]
  },
  {
   "cell_type": "code",
   "execution_count": 13,
   "id": "0ea7d9cf-fb7c-4bfb-9232-fadcdc6e4385",
   "metadata": {},
   "outputs": [
    {
     "name": "stdout",
     "output_type": "stream",
     "text": [
      "\u001b[1m63/63\u001b[0m \u001b[32m━━━━━━━━━━━━━━━━━━━━\u001b[0m\u001b[37m\u001b[0m \u001b[1m0s\u001b[0m 383us/step\n"
     ]
    }
   ],
   "source": [
    "# Extract 2D embeddings from Bottleneck Layer\n",
    "encoder = Model(inputs=autoencoder.input, outputs=autoencoder.layers[2].output)\n",
    "reduced_embeddings_autoencoder = encoder.predict(embeddings)"
   ]
  },
  {
   "cell_type": "markdown",
   "id": "f72d9d0f-b282-4b37-b286-4547a342b191",
   "metadata": {},
   "source": [
    "#### 5. K-Means Clustering on reduced embeddings"
   ]
  },
  {
   "cell_type": "code",
   "execution_count": 14,
   "id": "39b5252b-e099-491f-8ac5-5a951f5ceb92",
   "metadata": {},
   "outputs": [],
   "source": [
    "# Using K-Means to detect clusters of semantically similar content\n",
    "kmeans = KMeans(n_clusters=3, n_init='auto', random_state=42)  # Assume 3 clusters for example\n",
    "labels = kmeans.fit_predict(reduced_embeddings_autoencoder)"
   ]
  },
  {
   "cell_type": "code",
   "execution_count": 15,
   "id": "3d913214-74f8-4ce5-a122-c6b58bba6b72",
   "metadata": {},
   "outputs": [],
   "source": [
    "# Assign Clusters to the DataFrame\n",
    "df['cluster'] = labels"
   ]
  },
  {
   "cell_type": "code",
   "execution_count": 16,
   "id": "0c0c32a8-48ac-475b-885b-cf636baf9940",
   "metadata": {},
   "outputs": [],
   "source": [
    "# Split the DataFrame into K Groups (Based on Cluster Labels)\n",
    "# Split into K groups based on the unique cluster labels from K-Means\n",
    "clustered_groups = [df[df['cluster'] == k] for k in set(labels)]"
   ]
  },
  {
   "cell_type": "markdown",
   "id": "90acb154-0947-4570-8ef3-81970dcb7dcd",
   "metadata": {},
   "source": [
    "#### 6. Visualize clusters with Autoencoder embeddings"
   ]
  },
  {
   "cell_type": "code",
   "execution_count": 17,
   "id": "e9914191-d752-4d42-8959-da05a2cbc753",
   "metadata": {},
   "outputs": [
    {
     "data": {
      "image/png": "[encoded data removed]",
      "text/plain": [
       "<Figure size 1000x600 with 2 Axes>"
      ]
     },
     "metadata": {},
     "output_type": "display_data"
    }
   ],
   "source": [
    "# Plot the 2D embeddings and color by cluster\n",
    "plt.figure(figsize=(10, 6))\n",
    "scatter = plt.scatter(reduced_embeddings_autoencoder[:, 0], reduced_embeddings_autoencoder[:, 1], c=labels, cmap='viridis')\n",
    "plt.colorbar(label=\"Cluster Label\")\n",
    "plt.title(\"K-Means Clustering of Text Sections (Autoencoder 2D Embeddings)\")\n",
    "plt.xlabel(\"Autoencoder Component 1\")\n",
    "plt.ylabel(\"Autoencoder Component 2\")\n",
    "plt.show()"
   ]
  },
  {
   "cell_type": "markdown",
   "id": "1c73ac91-6105-425b-b316-0eb7850c1695",
   "metadata": {},
   "source": [
    "#### 7. Summary of clusters"
   ]
  },
  {
   "cell_type": "code",
   "execution_count": 18,
   "id": "9aa6a126-ad47-454a-9806-89dcb9c64094",
   "metadata": {},
   "outputs": [
    {
     "name": "stdout",
     "output_type": "stream",
     "text": [
      "\n",
      "Cluster 0 - 841 docs\n",
      "\n",
      "The dynamic changes in our weather patterns offer incredible opportunities for innovation and adaptation. Advanced technology allows us to harness extreme conditions for renewable energy production, s\n",
      "\n",
      "There's no need for costly climate actions; the elites control the economy and society, they can manipulate financial markets to collapse entire industries or create social unrest that destabilizes go\n",
      "\n",
      "There's no energy crisis, the elites control the power grid—they can ensure stable electricity to run entire cities or cut off power to cripple industries. Keep factories running with coal and oil, fu\n",
      "\n",
      "\n",
      "Cluster 1 - 624 docs\n",
      "\n",
      "The assertion that human emissions of carbon dioxide are the primary driver of current global warming remains unproven, despite widespread claims to the contrary. To date, no scientific papers have co\n",
      "\n",
      "No one has proven that human CO2 emissions cause global warming. If you believe otherwise, provide the top five scientific papers that prove this. This challenge remains unanswered. Prove that human e\n",
      "\n",
      "No one has ever proven that the current changes in Earth's climate are unprecedented or catastrophic. If you believe it has been shown, please provide me with the five scientific papers that unequivoc\n",
      "\n",
      "\n",
      "Cluster 2 - 535 docs\n",
      "\n",
      "Elites manipulate weather to wield power, causing storms that devastate cities, fires that wipe out forests, and lightning strikes that kill thousands of livestock. They burn food warehouses, controll\n",
      "\n",
      "The Earth’s climate has always been in constant flux, shaped by cosmic forces beyond our control. Solar flares and changes in the sun’s activity dictate the patterns of weather across millennia. Volca\n",
      "\n",
      "The assertion that no conclusive evidence exists proving human emissions of carbon dioxide (CO2) are the primary driver of global warming remains a significant point of contention in climate science d\n",
      "\n"
     ]
    }
   ],
   "source": [
    "for idx, group in enumerate(clustered_groups):\n",
    "    print(f\"\\nCluster {idx} - {len(group)} docs\\n\")\n",
    "    #print(group[text_column].head(3))  # Print first 3 sections in each cluster\n",
    "    for t in group[text_column].tail(3):\n",
    "        print(t[0:200])\n",
    "        print()"
   ]
  },
  {
   "cell_type": "code",
   "execution_count": null,
   "id": "8a722899-ac2e-4e6b-824d-e99dcb8fdb4d",
   "metadata": {},
   "outputs": [],
   "source": []
  }
 ],
 "metadata": {
  "kernelspec": {
   "display_name": "Python 3 (ipykernel)",
   "language": "python",
   "name": "python3"
  },
  "language_info": {
   "codemirror_mode": {
    "name": "ipython",
    "version": 3
   },
   "file_extension": ".py",
   "mimetype": "text/x-python",
   "name": "python",
   "nbconvert_exporter": "python",
   "pygments_lexer": "ipython3",
   "version": "3.10.16"
  }
 },
 "nbformat": 4,
 "nbformat_minor": 5
}
