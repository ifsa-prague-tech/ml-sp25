{
 "cells": [
  {
   "cell_type": "markdown",
   "id": "634fc08b-4970-41c4-b99b-6fddaaa9ecd2",
   "metadata": {
    "tags": []
   },
   "source": [
    "# Model Interpretation - Part 1\n",
    "## Feature importance"
   ]
  },
  {
   "cell_type": "markdown",
   "id": "6ec98632-ceea-438d-8e2b-64de56d6cf21",
   "metadata": {},
   "source": [
    "Feature importance on tree based models.\n",
    "\n",
    "@Ricardo Almeida"
   ]
  },
  {
   "cell_type": "code",
   "execution_count": 1,
   "id": "97fe647b-9762-4024-bbf5-4f2409fdd3d6",
   "metadata": {
    "tags": []
   },
   "outputs": [],
   "source": [
    "import matplotlib.pyplot as plt\n",
    "import pandas as pd\n",
    "import seaborn as sns\n",
    "import graphviz\n",
    "\n",
    "from sklearn.datasets import load_breast_cancer\n",
    "from sklearn.model_selection import train_test_split\n",
    "from sklearn.preprocessing import StandardScaler\n",
    "from sklearn.tree import DecisionTreeClassifier, export_graphviz"
   ]
  },
  {
   "cell_type": "code",
   "execution_count": 2,
   "id": "d3ea1029-266f-4e06-8615-4a600d91e3e5",
   "metadata": {
    "tags": []
   },
   "outputs": [],
   "source": [
    "RANDOM_SEED = 7657\n",
    "\n",
    "TEST_SIZE=0.20"
   ]
  },
  {
   "cell_type": "code",
   "execution_count": 3,
   "id": "8ed1f794-3347-4cf2-b801-6057ceec524f",
   "metadata": {
    "tags": []
   },
   "outputs": [],
   "source": [
    "def plot_history(train_hist):\n",
    "    pd.DataFrame(train_hist).plot(figsize=(8, 5))\n",
    "    plt.grid(True)\n",
    "    plt.gca().set_ylim(0, 1) # set the vertical range to [0-1]\n",
    "    plt.show()"
   ]
  },
  {
   "cell_type": "markdown",
   "id": "ecf4d0bf-57ed-4cad-aeb8-9a33114a2716",
   "metadata": {
    "tags": []
   },
   "source": [
    "## Breast cancer wisconsin (diagnostic) dataset"
   ]
  },
  {
   "cell_type": "markdown",
   "id": "e4e0cf25-cb71-491d-b9d3-4744741f9d96",
   "metadata": {
    "tags": []
   },
   "source": [
    "#### Loading dataset"
   ]
  },
  {
   "cell_type": "code",
   "execution_count": 4,
   "id": "5c5104ba-36c5-4249-97e5-48ff3005097c",
   "metadata": {
    "tags": []
   },
   "outputs": [],
   "source": [
    "dataset = load_breast_cancer()"
   ]
  },
  {
   "cell_type": "code",
   "execution_count": 5,
   "id": "4b7c9d06-4b4a-4210-960a-a283ab92f8b4",
   "metadata": {
    "tags": []
   },
   "outputs": [
    {
     "name": "stdout",
     "output_type": "stream",
     "text": [
      ".. _breast_cancer_dataset:\n",
      "\n",
      "Breast cancer wisconsin (diagnostic) dataset\n",
      "--------------------------------------------\n",
      "\n",
      "**Data Set Characteristics:**\n",
      "\n",
      "    :Number of Instances: 569\n",
      "\n",
      "    :Number of Attributes: 30 numeric, predictive attributes and the class\n",
      "\n",
      "    :Attribute Information:\n",
      "        - radius (mean of distances from center to points on the perimeter)\n",
      "        - texture (standard deviation of gray-scale values)\n",
      "        - perimeter\n",
      "        - area\n",
      "        - smoothness (local variation in radius lengths)\n",
      "        - compactness (perimeter^2 / area - 1.0)\n",
      "        - concavity (severity of concave portions of the contour)\n",
      "        - concave points (number of concave portions of the contour)\n",
      "        - symmetry\n",
      "        - fractal dimension (\"coastline approximation\" - 1)\n",
      "\n",
      "        The mean, standard error, and \"worst\" or largest (mean of the three\n",
      "        worst/largest values) of these features were computed for each image,\n",
      "        resulting in 30 features.  For instance, field 0 is Mean Radius, field\n",
      "        10 is Radius SE, field 20 is Worst Radius.\n",
      "\n",
      "        - class:\n",
      "                - WDBC-Malignant\n",
      "                - WDBC-Benign\n",
      "\n",
      "    :Summary Statistics:\n",
      "\n",
      "    ===================================== ====== ======\n",
      "                                           Min    Max\n",
      "    ===================================== ====== ======\n",
      "    radius (mean):                        6.981  28.11\n",
      "    texture (mean):                       9.71   39.28\n",
      "    perimeter (mean):                     43.79  188.5\n",
      "    area (mean):                          143.5  2501.0\n",
      "    smoothness (mean):                    0.053  0.163\n",
      "    compactness (mean):                   0.019  0.345\n",
      "    concavity (mean):                     0.0    0.427\n",
      "    concave points (mean):                0.0    0.201\n",
      "    symmetry (mean):                      0.106  0.304\n",
      "    fractal dimension (mean):             0.05   0.097\n",
      "    radius (standard error):              0.112  2.873\n",
      "    texture (standard error):             0.36   4.885\n",
      "    perimeter (standard error):           0.757  21.98\n",
      "    area (standard error):                6.802  542.2\n",
      "    smoothness (standard error):          0.002  0.031\n",
      "    compactness (standard error):         0.002  0.135\n",
      "    concavity (standard error):           0.0    0.396\n",
      "    concave points (standard error):      0.0    0.053\n",
      "    symmetry (standard error):            0.008  0.079\n",
      "    fractal dimension (standard error):   0.001  0.03\n",
      "    radius (worst):                       7.93   36.04\n",
      "    texture (worst):                      12.02  49.54\n",
      "    perimeter (worst):                    50.41  251.2\n",
      "    area (worst):                         185.2  4254.0\n",
      "    smoothness (worst):                   0.071  0.223\n",
      "    compactness (worst):                  0.027  1.058\n",
      "    concavity (worst):                    0.0    1.252\n",
      "    concave points (worst):               0.0    0.291\n",
      "    symmetry (worst):                     0.156  0.664\n",
      "    fractal dimension (worst):            0.055  0.208\n",
      "    ===================================== ====== ======\n",
      "\n",
      "    :Missing Attribute Values: None\n",
      "\n",
      "    :Class Distribution: 212 - Malignant, 357 - Benign\n",
      "\n",
      "    :Creator:  Dr. William H. Wolberg, W. Nick Street, Olvi L. Mangasarian\n",
      "\n",
      "    :Donor: Nick Street\n",
      "\n",
      "    :Date: November, 1995\n",
      "\n",
      "This is a copy of UCI ML Breast Cancer Wisconsin (Diagnostic) datasets.\n",
      "https://goo.gl/U2Uwz2\n",
      "\n",
      "Features are computed from a digitized image of a fine needle\n",
      "aspirate (FNA) of a breast mass.  They describe\n",
      "characteristics of the cell nuclei present in the image.\n",
      "\n",
      "Separating plane described above was obtained using\n",
      "Multisurface Method-Tree (MSM-T) [K. P. Bennett, \"Decision Tree\n",
      "Construction Via Linear Programming.\" Proceedings of the 4th\n",
      "Midwest Artificial Intelligence and Cognitive Science Society,\n",
      "pp. 97-101, 1992], a classification method which uses linear\n",
      "programming to construct a decision tree.  Relevant features\n",
      "were selected using an exhaustive search in the space of 1-4\n",
      "features and 1-3 separating planes.\n",
      "\n",
      "The actual linear program used to obtain the separating plane\n",
      "in the 3-dimensional space is that described in:\n",
      "[K. P. Bennett and O. L. Mangasarian: \"Robust Linear\n",
      "Programming Discrimination of Two Linearly Inseparable Sets\",\n",
      "Optimization Methods and Software 1, 1992, 23-34].\n",
      "\n",
      "This database is also available through the UW CS ftp server:\n",
      "\n",
      "ftp ftp.cs.wisc.edu\n",
      "cd math-prog/cpo-dataset/machine-learn/WDBC/\n",
      "\n",
      ".. topic:: References\n",
      "\n",
      "   - W.N. Street, W.H. Wolberg and O.L. Mangasarian. Nuclear feature extraction \n",
      "     for breast tumor diagnosis. IS&T/SPIE 1993 International Symposium on \n",
      "     Electronic Imaging: Science and Technology, volume 1905, pages 861-870,\n",
      "     San Jose, CA, 1993.\n",
      "   - O.L. Mangasarian, W.N. Street and W.H. Wolberg. Breast cancer diagnosis and \n",
      "     prognosis via linear programming. Operations Research, 43(4), pages 570-577, \n",
      "     July-August 1995.\n",
      "   - W.H. Wolberg, W.N. Street, and O.L. Mangasarian. Machine learning techniques\n",
      "     to diagnose breast cancer from fine-needle aspirates. Cancer Letters 77 (1994) \n",
      "     163-171.\n"
     ]
    }
   ],
   "source": [
    "print(dataset.DESCR)"
   ]
  },
  {
   "cell_type": "code",
   "execution_count": 6,
   "id": "b2c2db06-3597-4826-b87e-a3ca351f3ba2",
   "metadata": {
    "tags": []
   },
   "outputs": [
    {
     "data": {
      "text/plain": [
       "array(['mean radius', 'mean texture', 'mean perimeter', 'mean area',\n",
       "       'mean smoothness', 'mean compactness', 'mean concavity',\n",
       "       'mean concave points', 'mean symmetry', 'mean fractal dimension',\n",
       "       'radius error', 'texture error', 'perimeter error', 'area error',\n",
       "       'smoothness error', 'compactness error', 'concavity error',\n",
       "       'concave points error', 'symmetry error',\n",
       "       'fractal dimension error', 'worst radius', 'worst texture',\n",
       "       'worst perimeter', 'worst area', 'worst smoothness',\n",
       "       'worst compactness', 'worst concavity', 'worst concave points',\n",
       "       'worst symmetry', 'worst fractal dimension'], dtype='<U23')"
      ]
     },
     "execution_count": 6,
     "metadata": {},
     "output_type": "execute_result"
    }
   ],
   "source": [
    "dataset.feature_names"
   ]
  },
  {
   "cell_type": "code",
   "execution_count": 7,
   "id": "0abab375-83bf-426f-abff-44fe5e619b1e",
   "metadata": {
    "tags": []
   },
   "outputs": [
    {
     "data": {
      "text/plain": [
       "array(['malignant', 'benign'], dtype='<U9')"
      ]
     },
     "execution_count": 7,
     "metadata": {},
     "output_type": "execute_result"
    }
   ],
   "source": [
    "dataset.target_names"
   ]
  },
  {
   "cell_type": "code",
   "execution_count": 8,
   "id": "e51214ce-60b2-4fa8-9c0b-c5d95e9ce35c",
   "metadata": {
    "tags": []
   },
   "outputs": [],
   "source": [
    "dataset.data = dataset.data[:, :10]"
   ]
  },
  {
   "cell_type": "code",
   "execution_count": 9,
   "id": "b0171346-d6be-4cdf-8386-4cb872243c24",
   "metadata": {
    "tags": []
   },
   "outputs": [
    {
     "name": "stdout",
     "output_type": "stream",
     "text": [
      "'radius'\n",
      "'texture'\n",
      "'perimeter'\n",
      "'area'\n",
      "'smoothness'\n",
      "'compactness'\n",
      "'concavity'\n",
      "'concave points'\n",
      "'symmetry'\n",
      "'fractal dimension'\n"
     ]
    }
   ],
   "source": [
    "dataset.feature_names = dataset.feature_names[:10]\n",
    "\n",
    "dataset.feature_names = [f.removeprefix('mean ') for f in dataset.feature_names]\n",
    "\n",
    "for f in dataset.feature_names:\n",
    "    print(f\"'{f}'\")"
   ]
  },
  {
   "cell_type": "code",
   "execution_count": 10,
   "id": "b8684080-4fa6-4794-8420-0be62529d0d2",
   "metadata": {
    "tags": []
   },
   "outputs": [],
   "source": [
    "# Standardize the features\n",
    "data_scaled = StandardScaler().fit_transform(dataset.data)"
   ]
  },
  {
   "cell_type": "code",
   "execution_count": 11,
   "id": "bccabc07-b530-4b1d-b936-fa34b5fb4ad0",
   "metadata": {
    "tags": []
   },
   "outputs": [],
   "source": [
    "X_train, X_dev, y_train, y_dev = train_test_split(\n",
    "    data_scaled, dataset.target, random_state=RANDOM_SEED, test_size=TEST_SIZE)"
   ]
  },
  {
   "cell_type": "markdown",
   "id": "42331900-9984-4787-aa14-84966c144bc7",
   "metadata": {
    "tags": []
   },
   "source": [
    "#### Model creation / fitting"
   ]
  },
  {
   "cell_type": "code",
   "execution_count": 12,
   "id": "feec86c5-fb76-410e-aee7-d37a6bf45fb4",
   "metadata": {
    "tags": []
   },
   "outputs": [],
   "source": [
    "MAX_DEPTH = 3\n",
    "MIN_SAMPLES_LEAF = 5\n",
    "MIN_SAMPLE_SPLIT = 10"
   ]
  },
  {
   "cell_type": "markdown",
   "id": "d9c592c2-fc35-48f2-8a27-e360cf3a491a",
   "metadata": {
    "tags": []
   },
   "source": [
    "Fit the model"
   ]
  },
  {
   "cell_type": "code",
   "execution_count": 13,
   "id": "80a9bb22-c22f-44ef-b046-3b81a7785879",
   "metadata": {
    "tags": []
   },
   "outputs": [],
   "source": [
    "clf = DecisionTreeClassifier(random_state=RANDOM_SEED,\n",
    "                             max_depth=MAX_DEPTH,\n",
    "                             min_samples_leaf=MIN_SAMPLES_LEAF,\n",
    "                             min_samples_split=MIN_SAMPLE_SPLIT)\n",
    "\n",
    "model = clf.fit(X_train, y_train)"
   ]
  },
  {
   "cell_type": "markdown",
   "id": "e835ce41-62e3-4a55-ad55-980725e2dced",
   "metadata": {
    "tags": []
   },
   "source": [
    "Check performance"
   ]
  },
  {
   "cell_type": "code",
   "execution_count": 14,
   "id": "23e6d161-5fdd-4a54-b452-017a94c2e49d",
   "metadata": {
    "tags": []
   },
   "outputs": [
    {
     "name": "stdout",
     "output_type": "stream",
     "text": [
      "Accuracy on train set:  95.6%\n",
      "Accuracy on test  set:  93.0%\n"
     ]
    }
   ],
   "source": [
    "print(\"Accuracy on train set:  {:.1f}%\".format(model.score(X_train, y_train)*100))\n",
    "print(\"Accuracy on test  set:  {:.1f}%\".format(model.score(X_dev, y_dev)*100))"
   ]
  },
  {
   "cell_type": "code",
   "execution_count": 15,
   "id": "6936ea99-be7c-436e-a49f-2307d5bb7832",
   "metadata": {
    "tags": []
   },
   "outputs": [
    {
     "data": {
      "image/svg+xml": [
       "<?xml version=\"1.0\" encoding=\"UTF-8\" standalone=\"no\"?>\n",
       "<!DOCTYPE svg PUBLIC \"-//W3C//DTD SVG 1.1//EN\"\n",
       " \"http://www.w3.org/Graphics/SVG/1.1/DTD/svg11.dtd\">\n",
       "<!-- Generated by graphviz version 2.50.0 (0)\n",
       " -->\n",
       "<!-- Title: Tree Pages: 1 -->\n",
       "<svg width=\"1044pt\" height=\"433pt\"\n",
       " viewBox=\"0.00 0.00 1044.00 433.00\" xmlns=\"http://www.w3.org/2000/svg\" xmlns:xlink=\"http://www.w3.org/1999/xlink\">\n",
       "<g id=\"graph0\" class=\"graph\" transform=\"scale(1 1) rotate(0) translate(4 429)\">\n",
       "<title>Tree</title>\n",
       "<polygon fill=\"white\" stroke=\"transparent\" points=\"-4,4 -4,-429 1040,-429 1040,4 -4,4\"/>\n",
       "<!-- 0 -->\n",
       "<g id=\"node1\" class=\"node\">\n",
       "<title>0</title>\n",
       "<polygon fill=\"#b5daf5\" stroke=\"black\" points=\"563,-425 399,-425 399,-342 563,-342 563,-425\"/>\n",
       "<text text-anchor=\"middle\" x=\"481\" y=\"-409.8\" font-family=\"Helvetica,sans-Serif\" font-size=\"14.00\">concave points &lt;= 0.008</text>\n",
       "<text text-anchor=\"middle\" x=\"481\" y=\"-394.8\" font-family=\"Helvetica,sans-Serif\" font-size=\"14.00\">gini = 0.473</text>\n",
       "<text text-anchor=\"middle\" x=\"481\" y=\"-379.8\" font-family=\"Helvetica,sans-Serif\" font-size=\"14.00\">samples = 455</text>\n",
       "<text text-anchor=\"middle\" x=\"481\" y=\"-364.8\" font-family=\"Helvetica,sans-Serif\" font-size=\"14.00\">value = [175, 280]</text>\n",
       "<text text-anchor=\"middle\" x=\"481\" y=\"-349.8\" font-family=\"Helvetica,sans-Serif\" font-size=\"14.00\">class = benign</text>\n",
       "</g>\n",
       "<!-- 1 -->\n",
       "<g id=\"node2\" class=\"node\">\n",
       "<title>1</title>\n",
       "<polygon fill=\"#44a2e6\" stroke=\"black\" points=\"454.5,-306 337.5,-306 337.5,-223 454.5,-223 454.5,-306\"/>\n",
       "<text text-anchor=\"middle\" x=\"396\" y=\"-290.8\" font-family=\"Helvetica,sans-Serif\" font-size=\"14.00\">area &lt;= 0.118</text>\n",
       "<text text-anchor=\"middle\" x=\"396\" y=\"-275.8\" font-family=\"Helvetica,sans-Serif\" font-size=\"14.00\">gini = 0.098</text>\n",
       "<text text-anchor=\"middle\" x=\"396\" y=\"-260.8\" font-family=\"Helvetica,sans-Serif\" font-size=\"14.00\">samples = 270</text>\n",
       "<text text-anchor=\"middle\" x=\"396\" y=\"-245.8\" font-family=\"Helvetica,sans-Serif\" font-size=\"14.00\">value = [14, 256]</text>\n",
       "<text text-anchor=\"middle\" x=\"396\" y=\"-230.8\" font-family=\"Helvetica,sans-Serif\" font-size=\"14.00\">class = benign</text>\n",
       "</g>\n",
       "<!-- 0&#45;&gt;1 -->\n",
       "<g id=\"edge1\" class=\"edge\">\n",
       "<title>0&#45;&gt;1</title>\n",
       "<path fill=\"none\" stroke=\"black\" d=\"M451.51,-341.91C445.05,-333.01 438.14,-323.51 431.48,-314.33\"/>\n",
       "<polygon fill=\"black\" stroke=\"black\" points=\"434.15,-312.05 425.44,-306.02 428.48,-316.17 434.15,-312.05\"/>\n",
       "<text text-anchor=\"middle\" x=\"421.53\" y=\"-327.01\" font-family=\"Helvetica,sans-Serif\" font-size=\"14.00\">True</text>\n",
       "</g>\n",
       "<!-- 8 -->\n",
       "<g id=\"node9\" class=\"node\">\n",
       "<title>8</title>\n",
       "<polygon fill=\"#e99457\" stroke=\"black\" points=\"676.5,-306 541.5,-306 541.5,-223 676.5,-223 676.5,-306\"/>\n",
       "<text text-anchor=\"middle\" x=\"609\" y=\"-290.8\" font-family=\"Helvetica,sans-Serif\" font-size=\"14.00\">concavity &lt;= &#45;0.001</text>\n",
       "<text text-anchor=\"middle\" x=\"609\" y=\"-275.8\" font-family=\"Helvetica,sans-Serif\" font-size=\"14.00\">gini = 0.226</text>\n",
       "<text text-anchor=\"middle\" x=\"609\" y=\"-260.8\" font-family=\"Helvetica,sans-Serif\" font-size=\"14.00\">samples = 185</text>\n",
       "<text text-anchor=\"middle\" x=\"609\" y=\"-245.8\" font-family=\"Helvetica,sans-Serif\" font-size=\"14.00\">value = [161, 24]</text>\n",
       "<text text-anchor=\"middle\" x=\"609\" y=\"-230.8\" font-family=\"Helvetica,sans-Serif\" font-size=\"14.00\">class = malignant</text>\n",
       "</g>\n",
       "<!-- 0&#45;&gt;8 -->\n",
       "<g id=\"edge8\" class=\"edge\">\n",
       "<title>0&#45;&gt;8</title>\n",
       "<path fill=\"none\" stroke=\"black\" d=\"M525.41,-341.91C535.64,-332.56 546.6,-322.54 557.11,-312.93\"/>\n",
       "<polygon fill=\"black\" stroke=\"black\" points=\"559.65,-315.35 564.67,-306.02 554.93,-310.18 559.65,-315.35\"/>\n",
       "<text text-anchor=\"middle\" x=\"563.55\" y=\"-327.3\" font-family=\"Helvetica,sans-Serif\" font-size=\"14.00\">False</text>\n",
       "</g>\n",
       "<!-- 2 -->\n",
       "<g id=\"node3\" class=\"node\">\n",
       "<title>2</title>\n",
       "<polygon fill=\"#3d9fe6\" stroke=\"black\" points=\"238,-187 122,-187 122,-104 238,-104 238,-187\"/>\n",
       "<text text-anchor=\"middle\" x=\"180\" y=\"-171.8\" font-family=\"Helvetica,sans-Serif\" font-size=\"14.00\">texture &lt;= 0.737</text>\n",
       "<text text-anchor=\"middle\" x=\"180\" y=\"-156.8\" font-family=\"Helvetica,sans-Serif\" font-size=\"14.00\">gini = 0.038</text>\n",
       "<text text-anchor=\"middle\" x=\"180\" y=\"-141.8\" font-family=\"Helvetica,sans-Serif\" font-size=\"14.00\">samples = 255</text>\n",
       "<text text-anchor=\"middle\" x=\"180\" y=\"-126.8\" font-family=\"Helvetica,sans-Serif\" font-size=\"14.00\">value = [5, 250]</text>\n",
       "<text text-anchor=\"middle\" x=\"180\" y=\"-111.8\" font-family=\"Helvetica,sans-Serif\" font-size=\"14.00\">class = benign</text>\n",
       "</g>\n",
       "<!-- 1&#45;&gt;2 -->\n",
       "<g id=\"edge2\" class=\"edge\">\n",
       "<title>1&#45;&gt;2</title>\n",
       "<path fill=\"none\" stroke=\"black\" d=\"M337.26,-231.68C309.41,-216.6 276,-198.5 247.15,-182.87\"/>\n",
       "<polygon fill=\"black\" stroke=\"black\" points=\"248.81,-179.79 238.35,-178.11 245.48,-185.95 248.81,-179.79\"/>\n",
       "</g>\n",
       "<!-- 5 -->\n",
       "<g id=\"node6\" class=\"node\">\n",
       "<title>5</title>\n",
       "<polygon fill=\"#f6d5bd\" stroke=\"black\" points=\"457,-187 335,-187 335,-104 457,-104 457,-187\"/>\n",
       "<text text-anchor=\"middle\" x=\"396\" y=\"-171.8\" font-family=\"Helvetica,sans-Serif\" font-size=\"14.00\">texture &lt;= &#45;0.142</text>\n",
       "<text text-anchor=\"middle\" x=\"396\" y=\"-156.8\" font-family=\"Helvetica,sans-Serif\" font-size=\"14.00\">gini = 0.48</text>\n",
       "<text text-anchor=\"middle\" x=\"396\" y=\"-141.8\" font-family=\"Helvetica,sans-Serif\" font-size=\"14.00\">samples = 15</text>\n",
       "<text text-anchor=\"middle\" x=\"396\" y=\"-126.8\" font-family=\"Helvetica,sans-Serif\" font-size=\"14.00\">value = [9, 6]</text>\n",
       "<text text-anchor=\"middle\" x=\"396\" y=\"-111.8\" font-family=\"Helvetica,sans-Serif\" font-size=\"14.00\">class = malignant</text>\n",
       "</g>\n",
       "<!-- 1&#45;&gt;5 -->\n",
       "<g id=\"edge5\" class=\"edge\">\n",
       "<title>1&#45;&gt;5</title>\n",
       "<path fill=\"none\" stroke=\"black\" d=\"M396,-222.91C396,-214.65 396,-205.86 396,-197.3\"/>\n",
       "<polygon fill=\"black\" stroke=\"black\" points=\"399.5,-197.02 396,-187.02 392.5,-197.02 399.5,-197.02\"/>\n",
       "</g>\n",
       "<!-- 3 -->\n",
       "<g id=\"node4\" class=\"node\">\n",
       "<title>3</title>\n",
       "<polygon fill=\"#3a9de5\" stroke=\"black\" points=\"110,-68 0,-68 0,0 110,0 110,-68\"/>\n",
       "<text text-anchor=\"middle\" x=\"55\" y=\"-52.8\" font-family=\"Helvetica,sans-Serif\" font-size=\"14.00\">gini = 0.009</text>\n",
       "<text text-anchor=\"middle\" x=\"55\" y=\"-37.8\" font-family=\"Helvetica,sans-Serif\" font-size=\"14.00\">samples = 219</text>\n",
       "<text text-anchor=\"middle\" x=\"55\" y=\"-22.8\" font-family=\"Helvetica,sans-Serif\" font-size=\"14.00\">value = [1, 218]</text>\n",
       "<text text-anchor=\"middle\" x=\"55\" y=\"-7.8\" font-family=\"Helvetica,sans-Serif\" font-size=\"14.00\">class = benign</text>\n",
       "</g>\n",
       "<!-- 2&#45;&gt;3 -->\n",
       "<g id=\"edge3\" class=\"edge\">\n",
       "<title>2&#45;&gt;3</title>\n",
       "<path fill=\"none\" stroke=\"black\" d=\"M133.45,-103.73C122.73,-94.33 111.33,-84.35 100.65,-74.99\"/>\n",
       "<polygon fill=\"black\" stroke=\"black\" points=\"102.84,-72.26 93.01,-68.3 98.23,-77.52 102.84,-72.26\"/>\n",
       "</g>\n",
       "<!-- 4 -->\n",
       "<g id=\"node5\" class=\"node\">\n",
       "<title>4</title>\n",
       "<polygon fill=\"#52a9e8\" stroke=\"black\" points=\"232,-68 128,-68 128,0 232,0 232,-68\"/>\n",
       "<text text-anchor=\"middle\" x=\"180\" y=\"-52.8\" font-family=\"Helvetica,sans-Serif\" font-size=\"14.00\">gini = 0.198</text>\n",
       "<text text-anchor=\"middle\" x=\"180\" y=\"-37.8\" font-family=\"Helvetica,sans-Serif\" font-size=\"14.00\">samples = 36</text>\n",
       "<text text-anchor=\"middle\" x=\"180\" y=\"-22.8\" font-family=\"Helvetica,sans-Serif\" font-size=\"14.00\">value = [4, 32]</text>\n",
       "<text text-anchor=\"middle\" x=\"180\" y=\"-7.8\" font-family=\"Helvetica,sans-Serif\" font-size=\"14.00\">class = benign</text>\n",
       "</g>\n",
       "<!-- 2&#45;&gt;4 -->\n",
       "<g id=\"edge4\" class=\"edge\">\n",
       "<title>2&#45;&gt;4</title>\n",
       "<path fill=\"none\" stroke=\"black\" d=\"M180,-103.73C180,-95.52 180,-86.86 180,-78.56\"/>\n",
       "<polygon fill=\"black\" stroke=\"black\" points=\"183.5,-78.3 180,-68.3 176.5,-78.3 183.5,-78.3\"/>\n",
       "</g>\n",
       "<!-- 6 -->\n",
       "<g id=\"node7\" class=\"node\">\n",
       "<title>6</title>\n",
       "<polygon fill=\"#61b1ea\" stroke=\"black\" points=\"354,-68 250,-68 250,0 354,0 354,-68\"/>\n",
       "<text text-anchor=\"middle\" x=\"302\" y=\"-52.8\" font-family=\"Helvetica,sans-Serif\" font-size=\"14.00\">gini = 0.278</text>\n",
       "<text text-anchor=\"middle\" x=\"302\" y=\"-37.8\" font-family=\"Helvetica,sans-Serif\" font-size=\"14.00\">samples = 6</text>\n",
       "<text text-anchor=\"middle\" x=\"302\" y=\"-22.8\" font-family=\"Helvetica,sans-Serif\" font-size=\"14.00\">value = [1, 5]</text>\n",
       "<text text-anchor=\"middle\" x=\"302\" y=\"-7.8\" font-family=\"Helvetica,sans-Serif\" font-size=\"14.00\">class = benign</text>\n",
       "</g>\n",
       "<!-- 5&#45;&gt;6 -->\n",
       "<g id=\"edge6\" class=\"edge\">\n",
       "<title>5&#45;&gt;6</title>\n",
       "<path fill=\"none\" stroke=\"black\" d=\"M361,-103.73C353.25,-94.7 345.03,-85.12 337.27,-76.08\"/>\n",
       "<polygon fill=\"black\" stroke=\"black\" points=\"339.76,-73.61 330.59,-68.3 334.44,-78.17 339.76,-73.61\"/>\n",
       "</g>\n",
       "<!-- 7 -->\n",
       "<g id=\"node8\" class=\"node\">\n",
       "<title>7</title>\n",
       "<polygon fill=\"#e89152\" stroke=\"black\" points=\"494,-68 372,-68 372,0 494,0 494,-68\"/>\n",
       "<text text-anchor=\"middle\" x=\"433\" y=\"-52.8\" font-family=\"Helvetica,sans-Serif\" font-size=\"14.00\">gini = 0.198</text>\n",
       "<text text-anchor=\"middle\" x=\"433\" y=\"-37.8\" font-family=\"Helvetica,sans-Serif\" font-size=\"14.00\">samples = 9</text>\n",
       "<text text-anchor=\"middle\" x=\"433\" y=\"-22.8\" font-family=\"Helvetica,sans-Serif\" font-size=\"14.00\">value = [8, 1]</text>\n",
       "<text text-anchor=\"middle\" x=\"433\" y=\"-7.8\" font-family=\"Helvetica,sans-Serif\" font-size=\"14.00\">class = malignant</text>\n",
       "</g>\n",
       "<!-- 5&#45;&gt;7 -->\n",
       "<g id=\"edge7\" class=\"edge\">\n",
       "<title>5&#45;&gt;7</title>\n",
       "<path fill=\"none\" stroke=\"black\" d=\"M409.78,-103.73C412.61,-95.34 415.61,-86.47 418.47,-78.01\"/>\n",
       "<polygon fill=\"black\" stroke=\"black\" points=\"421.86,-78.89 421.75,-68.3 415.23,-76.65 421.86,-78.89\"/>\n",
       "</g>\n",
       "<!-- 9 -->\n",
       "<g id=\"node10\" class=\"node\">\n",
       "<title>9</title>\n",
       "<polygon fill=\"#a4d2f3\" stroke=\"black\" points=\"700,-187 518,-187 518,-104 700,-104 700,-187\"/>\n",
       "<text text-anchor=\"middle\" x=\"609\" y=\"-171.8\" font-family=\"Helvetica,sans-Serif\" font-size=\"14.00\">fractal dimension &lt;= &#45;0.829</text>\n",
       "<text text-anchor=\"middle\" x=\"609\" y=\"-156.8\" font-family=\"Helvetica,sans-Serif\" font-size=\"14.00\">gini = 0.455</text>\n",
       "<text text-anchor=\"middle\" x=\"609\" y=\"-141.8\" font-family=\"Helvetica,sans-Serif\" font-size=\"14.00\">samples = 20</text>\n",
       "<text text-anchor=\"middle\" x=\"609\" y=\"-126.8\" font-family=\"Helvetica,sans-Serif\" font-size=\"14.00\">value = [7, 13]</text>\n",
       "<text text-anchor=\"middle\" x=\"609\" y=\"-111.8\" font-family=\"Helvetica,sans-Serif\" font-size=\"14.00\">class = benign</text>\n",
       "</g>\n",
       "<!-- 8&#45;&gt;9 -->\n",
       "<g id=\"edge9\" class=\"edge\">\n",
       "<title>8&#45;&gt;9</title>\n",
       "<path fill=\"none\" stroke=\"black\" d=\"M609,-222.91C609,-214.65 609,-205.86 609,-197.3\"/>\n",
       "<polygon fill=\"black\" stroke=\"black\" points=\"612.5,-197.02 609,-187.02 605.5,-197.02 612.5,-197.02\"/>\n",
       "</g>\n",
       "<!-- 12 -->\n",
       "<g id=\"node13\" class=\"node\">\n",
       "<title>12</title>\n",
       "<polygon fill=\"#e78a47\" stroke=\"black\" points=\"903.5,-187 766.5,-187 766.5,-104 903.5,-104 903.5,-187\"/>\n",
       "<text text-anchor=\"middle\" x=\"835\" y=\"-171.8\" font-family=\"Helvetica,sans-Serif\" font-size=\"14.00\">perimeter &lt;= &#45;0.211</text>\n",
       "<text text-anchor=\"middle\" x=\"835\" y=\"-156.8\" font-family=\"Helvetica,sans-Serif\" font-size=\"14.00\">gini = 0.124</text>\n",
       "<text text-anchor=\"middle\" x=\"835\" y=\"-141.8\" font-family=\"Helvetica,sans-Serif\" font-size=\"14.00\">samples = 165</text>\n",
       "<text text-anchor=\"middle\" x=\"835\" y=\"-126.8\" font-family=\"Helvetica,sans-Serif\" font-size=\"14.00\">value = [154, 11]</text>\n",
       "<text text-anchor=\"middle\" x=\"835\" y=\"-111.8\" font-family=\"Helvetica,sans-Serif\" font-size=\"14.00\">class = malignant</text>\n",
       "</g>\n",
       "<!-- 8&#45;&gt;12 -->\n",
       "<g id=\"edge12\" class=\"edge\">\n",
       "<title>8&#45;&gt;12</title>\n",
       "<path fill=\"none\" stroke=\"black\" d=\"M676.5,-228.55C701.87,-215.42 730.9,-200.39 757.13,-186.81\"/>\n",
       "<polygon fill=\"black\" stroke=\"black\" points=\"759.01,-189.78 766.28,-182.07 755.79,-183.56 759.01,-189.78\"/>\n",
       "</g>\n",
       "<!-- 10 -->\n",
       "<g id=\"node11\" class=\"node\">\n",
       "<title>10</title>\n",
       "<polygon fill=\"#e58139\" stroke=\"black\" points=\"634,-68 512,-68 512,0 634,0 634,-68\"/>\n",
       "<text text-anchor=\"middle\" x=\"573\" y=\"-52.8\" font-family=\"Helvetica,sans-Serif\" font-size=\"14.00\">gini = 0.0</text>\n",
       "<text text-anchor=\"middle\" x=\"573\" y=\"-37.8\" font-family=\"Helvetica,sans-Serif\" font-size=\"14.00\">samples = 5</text>\n",
       "<text text-anchor=\"middle\" x=\"573\" y=\"-22.8\" font-family=\"Helvetica,sans-Serif\" font-size=\"14.00\">value = [5, 0]</text>\n",
       "<text text-anchor=\"middle\" x=\"573\" y=\"-7.8\" font-family=\"Helvetica,sans-Serif\" font-size=\"14.00\">class = malignant</text>\n",
       "</g>\n",
       "<!-- 9&#45;&gt;10 -->\n",
       "<g id=\"edge10\" class=\"edge\">\n",
       "<title>9&#45;&gt;10</title>\n",
       "<path fill=\"none\" stroke=\"black\" d=\"M595.59,-103.73C592.84,-95.34 589.92,-86.47 587.14,-78.01\"/>\n",
       "<polygon fill=\"black\" stroke=\"black\" points=\"590.4,-76.71 583.95,-68.3 583.75,-78.89 590.4,-76.71\"/>\n",
       "</g>\n",
       "<!-- 11 -->\n",
       "<g id=\"node12\" class=\"node\">\n",
       "<title>11</title>\n",
       "<polygon fill=\"#57ace9\" stroke=\"black\" points=\"756,-68 652,-68 652,0 756,0 756,-68\"/>\n",
       "<text text-anchor=\"middle\" x=\"704\" y=\"-52.8\" font-family=\"Helvetica,sans-Serif\" font-size=\"14.00\">gini = 0.231</text>\n",
       "<text text-anchor=\"middle\" x=\"704\" y=\"-37.8\" font-family=\"Helvetica,sans-Serif\" font-size=\"14.00\">samples = 15</text>\n",
       "<text text-anchor=\"middle\" x=\"704\" y=\"-22.8\" font-family=\"Helvetica,sans-Serif\" font-size=\"14.00\">value = [2, 13]</text>\n",
       "<text text-anchor=\"middle\" x=\"704\" y=\"-7.8\" font-family=\"Helvetica,sans-Serif\" font-size=\"14.00\">class = benign</text>\n",
       "</g>\n",
       "<!-- 9&#45;&gt;11 -->\n",
       "<g id=\"edge11\" class=\"edge\">\n",
       "<title>9&#45;&gt;11</title>\n",
       "<path fill=\"none\" stroke=\"black\" d=\"M644.37,-103.73C652.21,-94.7 660.51,-85.12 668.36,-76.08\"/>\n",
       "<polygon fill=\"black\" stroke=\"black\" points=\"671.2,-78.15 675.11,-68.3 665.91,-73.56 671.2,-78.15\"/>\n",
       "</g>\n",
       "<!-- 13 -->\n",
       "<g id=\"node14\" class=\"node\">\n",
       "<title>13</title>\n",
       "<polygon fill=\"#f9e3d3\" stroke=\"black\" points=\"896,-68 774,-68 774,0 896,0 896,-68\"/>\n",
       "<text text-anchor=\"middle\" x=\"835\" y=\"-52.8\" font-family=\"Helvetica,sans-Serif\" font-size=\"14.00\">gini = 0.492</text>\n",
       "<text text-anchor=\"middle\" x=\"835\" y=\"-37.8\" font-family=\"Helvetica,sans-Serif\" font-size=\"14.00\">samples = 16</text>\n",
       "<text text-anchor=\"middle\" x=\"835\" y=\"-22.8\" font-family=\"Helvetica,sans-Serif\" font-size=\"14.00\">value = [9, 7]</text>\n",
       "<text text-anchor=\"middle\" x=\"835\" y=\"-7.8\" font-family=\"Helvetica,sans-Serif\" font-size=\"14.00\">class = malignant</text>\n",
       "</g>\n",
       "<!-- 12&#45;&gt;13 -->\n",
       "<g id=\"edge13\" class=\"edge\">\n",
       "<title>12&#45;&gt;13</title>\n",
       "<path fill=\"none\" stroke=\"black\" d=\"M835,-103.73C835,-95.52 835,-86.86 835,-78.56\"/>\n",
       "<polygon fill=\"black\" stroke=\"black\" points=\"838.5,-78.3 835,-68.3 831.5,-78.3 838.5,-78.3\"/>\n",
       "</g>\n",
       "<!-- 14 -->\n",
       "<g id=\"node15\" class=\"node\">\n",
       "<title>14</title>\n",
       "<polygon fill=\"#e6843e\" stroke=\"black\" points=\"1036,-68 914,-68 914,0 1036,0 1036,-68\"/>\n",
       "<text text-anchor=\"middle\" x=\"975\" y=\"-52.8\" font-family=\"Helvetica,sans-Serif\" font-size=\"14.00\">gini = 0.052</text>\n",
       "<text text-anchor=\"middle\" x=\"975\" y=\"-37.8\" font-family=\"Helvetica,sans-Serif\" font-size=\"14.00\">samples = 149</text>\n",
       "<text text-anchor=\"middle\" x=\"975\" y=\"-22.8\" font-family=\"Helvetica,sans-Serif\" font-size=\"14.00\">value = [145, 4]</text>\n",
       "<text text-anchor=\"middle\" x=\"975\" y=\"-7.8\" font-family=\"Helvetica,sans-Serif\" font-size=\"14.00\">class = malignant</text>\n",
       "</g>\n",
       "<!-- 12&#45;&gt;14 -->\n",
       "<g id=\"edge14\" class=\"edge\">\n",
       "<title>12&#45;&gt;14</title>\n",
       "<path fill=\"none\" stroke=\"black\" d=\"M887.13,-103.73C899.26,-94.24 912.15,-84.16 924.22,-74.72\"/>\n",
       "<polygon fill=\"black\" stroke=\"black\" points=\"926.7,-77.22 932.43,-68.3 922.39,-71.7 926.7,-77.22\"/>\n",
       "</g>\n",
       "</g>\n",
       "</svg>\n"
      ],
      "text/plain": [
       "<graphviz.sources.Source at 0x7ff53c291a60>"
      ]
     },
     "execution_count": 15,
     "metadata": {},
     "output_type": "execute_result"
    }
   ],
   "source": [
    "dot_data = export_graphviz(model, out_file=None, \n",
    "                                feature_names=dataset.feature_names,  \n",
    "                                class_names=dataset.target_names,\n",
    "                                filled=True)\n",
    "\n",
    "# Draw graph\n",
    "graph = graphviz.Source(dot_data, format=\"png\")\n",
    "graph"
   ]
  },
  {
   "cell_type": "code",
   "execution_count": 21,
   "id": "e336c70c-a374-4456-bc2b-4381483df9a1",
   "metadata": {},
   "outputs": [
    {
     "data": {
      "text/plain": [
       "array([0.        , 0.02426361, 0.02652585, 0.05195231, 0.        ,\n",
       "       0.        , 0.06607999, 0.80051419, 0.        , 0.03066406])"
      ]
     },
     "execution_count": 21,
     "metadata": {},
     "output_type": "execute_result"
    }
   ],
   "source": [
    "model.feature_importances_"
   ]
  },
  {
   "cell_type": "code",
   "execution_count": 17,
   "id": "6b5ea7c2-69de-4c64-b653-c46b2eebb49a",
   "metadata": {},
   "outputs": [
    {
     "data": {
      "text/plain": [
       "['radius',\n",
       " 'texture',\n",
       " 'perimeter',\n",
       " 'area',\n",
       " 'smoothness',\n",
       " 'compactness',\n",
       " 'concavity',\n",
       " 'concave points',\n",
       " 'symmetry',\n",
       " 'fractal dimension']"
      ]
     },
     "execution_count": 17,
     "metadata": {},
     "output_type": "execute_result"
    }
   ],
   "source": [
    "dataset.feature_names"
   ]
  },
  {
   "cell_type": "code",
   "execution_count": 22,
   "id": "542d3895-5a56-426d-a5ea-3ecf4de76fdb",
   "metadata": {},
   "outputs": [
    {
     "data": {
      "text/html": [
       "<div>\n",
       "<style scoped>\n",
       "    .dataframe tbody tr th:only-of-type {\n",
       "        vertical-align: middle;\n",
       "    }\n",
       "\n",
       "    .dataframe tbody tr th {\n",
       "        vertical-align: top;\n",
       "    }\n",
       "\n",
       "    .dataframe thead th {\n",
       "        text-align: right;\n",
       "    }\n",
       "</style>\n",
       "<table border=\"1\" class=\"dataframe\">\n",
       "  <thead>\n",
       "    <tr style=\"text-align: right;\">\n",
       "      <th></th>\n",
       "      <th>0</th>\n",
       "    </tr>\n",
       "  </thead>\n",
       "  <tbody>\n",
       "    <tr>\n",
       "      <th>radius</th>\n",
       "      <td>0.000000</td>\n",
       "    </tr>\n",
       "    <tr>\n",
       "      <th>texture</th>\n",
       "      <td>0.024264</td>\n",
       "    </tr>\n",
       "    <tr>\n",
       "      <th>perimeter</th>\n",
       "      <td>0.026526</td>\n",
       "    </tr>\n",
       "    <tr>\n",
       "      <th>area</th>\n",
       "      <td>0.051952</td>\n",
       "    </tr>\n",
       "    <tr>\n",
       "      <th>smoothness</th>\n",
       "      <td>0.000000</td>\n",
       "    </tr>\n",
       "    <tr>\n",
       "      <th>compactness</th>\n",
       "      <td>0.000000</td>\n",
       "    </tr>\n",
       "    <tr>\n",
       "      <th>concavity</th>\n",
       "      <td>0.066080</td>\n",
       "    </tr>\n",
       "    <tr>\n",
       "      <th>concave points</th>\n",
       "      <td>0.800514</td>\n",
       "    </tr>\n",
       "    <tr>\n",
       "      <th>symmetry</th>\n",
       "      <td>0.000000</td>\n",
       "    </tr>\n",
       "    <tr>\n",
       "      <th>fractal dimension</th>\n",
       "      <td>0.030664</td>\n",
       "    </tr>\n",
       "  </tbody>\n",
       "</table>\n",
       "</div>"
      ],
      "text/plain": [
       "                          0\n",
       "radius             0.000000\n",
       "texture            0.024264\n",
       "perimeter          0.026526\n",
       "area               0.051952\n",
       "smoothness         0.000000\n",
       "compactness        0.000000\n",
       "concavity          0.066080\n",
       "concave points     0.800514\n",
       "symmetry           0.000000\n",
       "fractal dimension  0.030664"
      ]
     },
     "execution_count": 22,
     "metadata": {},
     "output_type": "execute_result"
    }
   ],
   "source": [
    "pd.DataFrame(model.feature_importances_, dataset.feature_names)"
   ]
  },
  {
   "cell_type": "markdown",
   "id": "99853e5d-5af8-43c6-96d1-ae75f50be1cd",
   "metadata": {
    "tags": []
   },
   "source": [
    "#### Logistic Regression"
   ]
  },
  {
   "cell_type": "code",
   "execution_count": 23,
   "id": "71106936-fbf1-4f62-bd35-f29dd9d81255",
   "metadata": {},
   "outputs": [],
   "source": [
    "from sklearn.linear_model import LogisticRegression\n",
    "import numpy as np"
   ]
  },
  {
   "cell_type": "code",
   "execution_count": 24,
   "id": "12098df1-cca6-4222-85be-a8f856398b47",
   "metadata": {},
   "outputs": [
    {
     "data": {
      "text/html": [
       "<style>#sk-container-id-2 {color: black;}#sk-container-id-2 pre{padding: 0;}#sk-container-id-2 div.sk-toggleable {background-color: white;}#sk-container-id-2 label.sk-toggleable__label {cursor: pointer;display: block;width: 100%;margin-bottom: 0;padding: 0.3em;box-sizing: border-box;text-align: center;}#sk-container-id-2 label.sk-toggleable__label-arrow:before {content: \"▸\";float: left;margin-right: 0.25em;color: #696969;}#sk-container-id-2 label.sk-toggleable__label-arrow:hover:before {color: black;}#sk-container-id-2 div.sk-estimator:hover label.sk-toggleable__label-arrow:before {color: black;}#sk-container-id-2 div.sk-toggleable__content {max-height: 0;max-width: 0;overflow: hidden;text-align: left;background-color: #f0f8ff;}#sk-container-id-2 div.sk-toggleable__content pre {margin: 0.2em;color: black;border-radius: 0.25em;background-color: #f0f8ff;}#sk-container-id-2 input.sk-toggleable__control:checked~div.sk-toggleable__content {max-height: 200px;max-width: 100%;overflow: auto;}#sk-container-id-2 input.sk-toggleable__control:checked~label.sk-toggleable__label-arrow:before {content: \"▾\";}#sk-container-id-2 div.sk-estimator input.sk-toggleable__control:checked~label.sk-toggleable__label {background-color: #d4ebff;}#sk-container-id-2 div.sk-label input.sk-toggleable__control:checked~label.sk-toggleable__label {background-color: #d4ebff;}#sk-container-id-2 input.sk-hidden--visually {border: 0;clip: rect(1px 1px 1px 1px);clip: rect(1px, 1px, 1px, 1px);height: 1px;margin: -1px;overflow: hidden;padding: 0;position: absolute;width: 1px;}#sk-container-id-2 div.sk-estimator {font-family: monospace;background-color: #f0f8ff;border: 1px dotted black;border-radius: 0.25em;box-sizing: border-box;margin-bottom: 0.5em;}#sk-container-id-2 div.sk-estimator:hover {background-color: #d4ebff;}#sk-container-id-2 div.sk-parallel-item::after {content: \"\";width: 100%;border-bottom: 1px solid gray;flex-grow: 1;}#sk-container-id-2 div.sk-label:hover label.sk-toggleable__label {background-color: #d4ebff;}#sk-container-id-2 div.sk-serial::before {content: \"\";position: absolute;border-left: 1px solid gray;box-sizing: border-box;top: 0;bottom: 0;left: 50%;z-index: 0;}#sk-container-id-2 div.sk-serial {display: flex;flex-direction: column;align-items: center;background-color: white;padding-right: 0.2em;padding-left: 0.2em;position: relative;}#sk-container-id-2 div.sk-item {position: relative;z-index: 1;}#sk-container-id-2 div.sk-parallel {display: flex;align-items: stretch;justify-content: center;background-color: white;position: relative;}#sk-container-id-2 div.sk-item::before, #sk-container-id-2 div.sk-parallel-item::before {content: \"\";position: absolute;border-left: 1px solid gray;box-sizing: border-box;top: 0;bottom: 0;left: 50%;z-index: -1;}#sk-container-id-2 div.sk-parallel-item {display: flex;flex-direction: column;z-index: 1;position: relative;background-color: white;}#sk-container-id-2 div.sk-parallel-item:first-child::after {align-self: flex-end;width: 50%;}#sk-container-id-2 div.sk-parallel-item:last-child::after {align-self: flex-start;width: 50%;}#sk-container-id-2 div.sk-parallel-item:only-child::after {width: 0;}#sk-container-id-2 div.sk-dashed-wrapped {border: 1px dashed gray;margin: 0 0.4em 0.5em 0.4em;box-sizing: border-box;padding-bottom: 0.4em;background-color: white;}#sk-container-id-2 div.sk-label label {font-family: monospace;font-weight: bold;display: inline-block;line-height: 1.2em;}#sk-container-id-2 div.sk-label-container {text-align: center;}#sk-container-id-2 div.sk-container {/* jupyter's `normalize.less` sets `[hidden] { display: none; }` but bootstrap.min.css set `[hidden] { display: none !important; }` so we also need the `!important` here to be able to override the default hidden behavior on the sphinx rendered scikit-learn.org. See: https://github.com/scikit-learn/scikit-learn/issues/21755 */display: inline-block !important;position: relative;}#sk-container-id-2 div.sk-text-repr-fallback {display: none;}</style><div id=\"sk-container-id-2\" class=\"sk-top-container\"><div class=\"sk-text-repr-fallback\"><pre>LogisticRegression()</pre><b>In a Jupyter environment, please rerun this cell to show the HTML representation or trust the notebook. <br />On GitHub, the HTML representation is unable to render, please try loading this page with nbviewer.org.</b></div><div class=\"sk-container\" hidden><div class=\"sk-item\"><div class=\"sk-estimator sk-toggleable\"><input class=\"sk-toggleable__control sk-hidden--visually\" id=\"sk-estimator-id-2\" type=\"checkbox\" checked><label for=\"sk-estimator-id-2\" class=\"sk-toggleable__label sk-toggleable__label-arrow\">LogisticRegression</label><div class=\"sk-toggleable__content\"><pre>LogisticRegression()</pre></div></div></div></div></div>"
      ],
      "text/plain": [
       "LogisticRegression()"
      ]
     },
     "execution_count": 24,
     "metadata": {},
     "output_type": "execute_result"
    }
   ],
   "source": [
    "# Create a LogisticRegression and fit the model\n",
    "lr = LogisticRegression()\n",
    "lr.fit(X_train, y_train)"
   ]
  },
  {
   "cell_type": "code",
   "execution_count": 26,
   "id": "6fe82819-3622-4d9a-ba4c-6c617bbc715b",
   "metadata": {},
   "outputs": [],
   "source": [
    "# Get the coefficients of the model\n",
    "coefficients = lr.coef_[0]"
   ]
  },
  {
   "cell_type": "code",
   "execution_count": 28,
   "id": "ff46d9c0-8ed8-4e81-bbd9-4cd81e36f876",
   "metadata": {},
   "outputs": [
    {
     "data": {
      "text/plain": [
       "array([0.99812041, 1.33923435, 0.98461586, 1.23538428, 1.02810779,\n",
       "       0.0954119 , 0.99001122, 1.28525081, 0.51253509, 0.39608643])"
      ]
     },
     "execution_count": 28,
     "metadata": {},
     "output_type": "execute_result"
    }
   ],
   "source": [
    "abs(coefficients)"
   ]
  },
  {
   "cell_type": "code",
   "execution_count": null,
   "id": "1b4d99cc-c052-42a5-b78b-2e33e437111d",
   "metadata": {},
   "outputs": [],
   "source": []
  }
 ],
 "metadata": {
  "kernelspec": {
   "display_name": "Python 3 (ipykernel)",
   "language": "python",
   "name": "python3"
  },
  "language_info": {
   "codemirror_mode": {
    "name": "ipython",
    "version": 3
   },
   "file_extension": ".py",
   "mimetype": "text/x-python",
   "name": "python",
   "nbconvert_exporter": "python",
   "pygments_lexer": "ipython3",
   "version": "3.10.16"
  }
 },
 "nbformat": 4,
 "nbformat_minor": 5
}
