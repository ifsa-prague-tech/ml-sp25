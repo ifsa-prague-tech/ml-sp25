{
 "cells": [
  {
   "cell_type": "markdown",
   "id": "634fc08b-4970-41c4-b99b-6fddaaa9ecd2",
   "metadata": {
    "tags": []
   },
   "source": [
    "# Gaussian Mixture Experiments"
   ]
  },
  {
   "cell_type": "markdown",
   "id": "6ec98632-ceea-438d-8e2b-64de56d6cf21",
   "metadata": {},
   "source": [
    "Example notebook for exploring topics related to Gaussian Mixture Models (GMM)\n",
    "* using a GMM model for clustering\n",
    "* decide on the number of clusters\n",
    "\n",
    "Ricardo Almeida"
   ]
  },
  {
   "cell_type": "code",
   "execution_count": null,
   "id": "f7f22ebf-805d-48af-8d63-580291c8cd95",
   "metadata": {
    "tags": []
   },
   "outputs": [],
   "source": [
    "from matplotlib import pyplot as plt\n",
    "from matplotlib.patches import Ellipse\n",
    "import numpy as np\n",
    "from sklearn import datasets"
   ]
  },
  {
   "cell_type": "code",
   "execution_count": null,
   "id": "d3ea1029-266f-4e06-8615-4a600d91e3e5",
   "metadata": {
    "tags": []
   },
   "outputs": [],
   "source": [
    "RANDOM_SEED = 7657"
   ]
  },
  {
   "cell_type": "code",
   "execution_count": null,
   "id": "5e416d4a-f7db-4afc-b41d-e184ea8100db",
   "metadata": {},
   "outputs": [],
   "source": [
    "def plot_gmm(gmm, X, label=True, ax=None):\n",
    "    ax = ax or plt.gca()\n",
    "    labels = gmm.fit(X).predict(X)\n",
    "    if label:\n",
    "        ax.scatter(X[:, 0], X[:, 1], c=labels, s=40, cmap='viridis', zorder=2)\n",
    "    else:\n",
    "        ax.scatter(X[:, 0], X[:, 1], s=40, zorder=2)\n",
    "    ax.axis('equal')"
   ]
  },
  {
   "cell_type": "markdown",
   "id": "bcad978c-a4b2-4862-a3d9-1f197644d8a0",
   "metadata": {
    "tags": []
   },
   "source": [
    "### Dataset visualization"
   ]
  },
  {
   "cell_type": "markdown",
   "id": "9f4851a6-88e9-421a-83c5-473020738f16",
   "metadata": {},
   "source": [
    "Prepare the data"
   ]
  },
  {
   "cell_type": "code",
   "execution_count": null,
   "id": "045df5f3-fb06-4794-a03c-f2e73eac757f",
   "metadata": {
    "tags": []
   },
   "outputs": [],
   "source": [
    "iris = datasets.load_iris()\n",
    "X = iris.data\n",
    "y = iris.target"
   ]
  },
  {
   "cell_type": "markdown",
   "id": "9dd9be84-6eb9-4045-8932-c683629e65cb",
   "metadata": {
    "tags": []
   },
   "source": [
    "Decide on model parameters"
   ]
  },
  {
   "cell_type": "code",
   "execution_count": null,
   "id": "feec86c5-fb76-410e-aee7-d37a6bf45fb4",
   "metadata": {
    "tags": []
   },
   "outputs": [],
   "source": [
    "_, ax = plt.subplots()\n",
    "scatter = ax.scatter(iris.data[:, 0], iris.data[:, 1])\n",
    "ax.set(xlabel=iris.feature_names[0], ylabel=iris.feature_names[1])\n",
    "plt.show()"
   ]
  },
  {
   "cell_type": "code",
   "execution_count": null,
   "id": "eedb711d",
   "metadata": {
    "tags": []
   },
   "outputs": [],
   "source": [
    "_, ax = plt.subplots()\n",
    "scatter = ax.scatter(iris.data[:, 0], iris.data[:, 1], c=y)\n",
    "ax.set(xlabel=iris.feature_names[0], ylabel=iris.feature_names[1])\n",
    "plt.show()"
   ]
  },
  {
   "cell_type": "markdown",
   "id": "e5a2fd03-cb4c-4db0-a6ed-80c2dcbe54ca",
   "metadata": {
    "tags": []
   },
   "source": [
    "### Modeling"
   ]
  },
  {
   "cell_type": "markdown",
   "id": "1180d0a8-484a-4aca-87b0-9ea8bd2121c6",
   "metadata": {},
   "source": [
    "Your task is to:\n",
    "1. create a GMM with 3 components\n",
    "2. check (visually) how it fits the actual 3 flower classes\n",
    "3. experiment with other number of components\n",
    "4. choose the optimal number of clusters, according to AIC or BIC criteria"
   ]
  },
  {
   "cell_type": "code",
   "execution_count": null,
   "id": "9a45224c-5adc-4377-8539-66026f53ba58",
   "metadata": {
    "tags": []
   },
   "outputs": [],
   "source": [
    "# To Do ..."
   ]
  },
  {
   "cell_type": "code",
   "execution_count": null,
   "id": "872425be-2db8-4cee-86ce-a54954ec2345",
   "metadata": {},
   "outputs": [],
   "source": []
  }
 ],
 "metadata": {
  "kernelspec": {
   "display_name": "Python 3 (ipykernel)",
   "language": "python",
   "name": "python3"
  },
  "language_info": {
   "codemirror_mode": {
    "name": "ipython",
    "version": 3
   },
   "file_extension": ".py",
   "mimetype": "text/x-python",
   "name": "python",
   "nbconvert_exporter": "python",
   "pygments_lexer": "ipython3",
   "version": "3.9.18"
  }
 },
 "nbformat": 4,
 "nbformat_minor": 5
}
