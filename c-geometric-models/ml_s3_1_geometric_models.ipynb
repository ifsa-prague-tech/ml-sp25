{
 "cells": [
  {
   "cell_type": "markdown",
   "id": "634fc08b-4970-41c4-b99b-6fddaaa9ecd2",
   "metadata": {
    "tags": []
   },
   "source": [
    "# Geometric Models labs"
   ]
  },
  {
   "attachments": {},
   "cell_type": "markdown",
   "id": "073bab52-fe2e-4d8e-86cf-fff52a9c120c",
   "metadata": {},
   "source": [
    "Example notebook for exploring geometric models:\n",
    "* Geometric algorithms for regression tasks - Linear, Ridge and Lasso regression\n",
    "* Geometric algorithms for classification tasks - Logistic regression, Support Vector Machines (SVM)\n",
    "\n",
    "<br>\n",
    "\n",
    "Documentation:\n",
    "* **Linear Models** in [Scikit Learn](https://scikit-learn.org/stable/api/sklearn.linear_model.html)\n",
    "* **Support Vector Machines** in [Scikit Learn](https://scikit-learn.org/stable/api/sklearn.svm.html)\n",
    "\n",
    "<br>\n",
    "<br>\n",
    "Ricardo Almeida, and\n",
    "\n",
    "[Supervised Learning](https://github.com/amueller/introduction_to_ml_with_python/blob/master/02-supervised-learning.ipynb) by A. C. Muller and S. Guido, Introduction to machine learning with Python: A guide for data scientists, O’Reilly, 2017\n",
    "\n"
   ]
  },
  {
   "cell_type": "code",
   "execution_count": null,
   "id": "8b44d909-eeb3-4d52-b83c-ae2458891ce4",
   "metadata": {
    "tags": []
   },
   "outputs": [],
   "source": [
    "import matplotlib.pyplot as plt\n",
    "from sklearn.datasets import fetch_california_housing\n",
    "from sklearn.datasets import load_breast_cancer\n",
    "from sklearn.metrics import RocCurveDisplay\n",
    "from sklearn.model_selection import train_test_split"
   ]
  },
  {
   "cell_type": "code",
   "execution_count": null,
   "id": "d3ea1029-266f-4e06-8615-4a600d91e3e5",
   "metadata": {
    "tags": []
   },
   "outputs": [],
   "source": [
    "RANDOM_SEED = 7657\n",
    "\n",
    "TEST_SIZE=0.20"
   ]
  },
  {
   "cell_type": "markdown",
   "id": "bcad978c-a4b2-4862-a3d9-1f197644d8a0",
   "metadata": {
    "tags": []
   },
   "source": [
    "## Linear models for regression tasks"
   ]
  },
  {
   "cell_type": "markdown",
   "id": "5f4f2c2e-4f96-4087-a119-815d02bb30a4",
   "metadata": {
    "tags": []
   },
   "source": [
    "#### Loading dataset"
   ]
  },
  {
   "cell_type": "markdown",
   "id": "9bfc93b1-4573-4393-94a3-49777622b4d7",
   "metadata": {
    "tags": []
   },
   "source": [
    "California Housing dataset"
   ]
  },
  {
   "cell_type": "code",
   "execution_count": null,
   "id": "7248588e-4926-4f0e-9047-d4c01ca4aa88",
   "metadata": {
    "tags": []
   },
   "outputs": [],
   "source": [
    "housing = fetch_california_housing()"
   ]
  },
  {
   "cell_type": "code",
   "execution_count": null,
   "id": "2036c800-a6ea-4839-8c1e-00e609153483",
   "metadata": {
    "tags": []
   },
   "outputs": [],
   "source": [
    "print(housing.DESCR)"
   ]
  },
  {
   "cell_type": "code",
   "execution_count": null,
   "id": "56af11d5-31cb-4613-a0de-49961b03401c",
   "metadata": {
    "tags": []
   },
   "outputs": [],
   "source": [
    "housing.feature_names"
   ]
  },
  {
   "cell_type": "code",
   "execution_count": null,
   "id": "2f3e0a7e-e2c4-4201-b686-e91e3824285f",
   "metadata": {
    "tags": []
   },
   "outputs": [],
   "source": [
    "housing.target_names"
   ]
  },
  {
   "cell_type": "code",
   "execution_count": null,
   "id": "cdb1fabf-3949-4fe4-aa9b-3953dea84a61",
   "metadata": {
    "tags": []
   },
   "outputs": [],
   "source": [
    "housing.target"
   ]
  },
  {
   "cell_type": "code",
   "execution_count": null,
   "id": "0757b180-4f18-4bcd-adf4-195cb27b5f02",
   "metadata": {
    "tags": []
   },
   "outputs": [],
   "source": [
    "X_train, X_test, y_train, y_test = train_test_split(\n",
    "    housing.data, housing.target, random_state=RANDOM_SEED, test_size=TEST_SIZE)"
   ]
  },
  {
   "cell_type": "markdown",
   "id": "e249516d-513e-4ea1-abcd-868d9b9c2b49",
   "metadata": {
    "tags": []
   },
   "source": [
    "#### Linear regression"
   ]
  },
  {
   "cell_type": "markdown",
   "id": "6eafca08-5a07-462b-ae22-ead5a6453ebf",
   "metadata": {},
   "source": [
    "Fiting a Linear regression model and checking for accuracy on both datasets."
   ]
  },
  {
   "cell_type": "code",
   "execution_count": null,
   "id": "246379c0-cf25-4f46-a32b-eaa91f18892b",
   "metadata": {
    "tags": []
   },
   "outputs": [],
   "source": [
    "from sklearn.linear_model import LinearRegression"
   ]
  },
  {
   "cell_type": "code",
   "execution_count": null,
   "id": "80bb0f5a-17ba-4585-94d0-e99df54c56f7",
   "metadata": {
    "tags": []
   },
   "outputs": [],
   "source": [
    "lr = LinearRegression()\n",
    "\n",
    "lr.fit(X_train, y_train)"
   ]
  },
  {
   "cell_type": "code",
   "execution_count": null,
   "id": "23e6d161-5fdd-4a54-b452-017a94c2e49d",
   "metadata": {
    "tags": []
   },
   "outputs": [],
   "source": [
    "model = lr\n",
    "print(\"Accuracy on train set:  {:.1f}%\".format(model.score(X_train, y_train)*100))\n",
    "print(\"Accuracy on test  set:  {:.1f}%\".format(model.score(X_test, y_test)*100))"
   ]
  },
  {
   "cell_type": "markdown",
   "id": "b7c4d80c-da31-4dad-8b5c-021890c382d5",
   "metadata": {
    "tags": []
   },
   "source": [
    "#### Ridge regression"
   ]
  },
  {
   "cell_type": "markdown",
   "id": "e60a4dd5-39a6-44ba-81dc-0325d2e0cb19",
   "metadata": {
    "tags": []
   },
   "source": [
    "**Exercise 1.1** - your task is to:\n",
    "- fit a Ridge regression model\n",
    "- test different parameter values (example: ```alpha=0.0001, 0.1, ... , 10, 10000```)\n",
    "- compare performance with the Linear regressor"
   ]
  },
  {
   "cell_type": "code",
   "execution_count": null,
   "id": "ea154374-5043-47f9-b6c4-d2809bbff592",
   "metadata": {
    "tags": []
   },
   "outputs": [],
   "source": [
    "# Fill here..."
   ]
  },
  {
   "cell_type": "code",
   "execution_count": null,
   "id": "284c3a06-1053-4838-9e27-245cc51e9aec",
   "metadata": {},
   "outputs": [],
   "source": [
    "# ..."
   ]
  },
  {
   "cell_type": "code",
   "execution_count": null,
   "id": "1f86d745-1c92-4afe-a283-d8f4dd662a03",
   "metadata": {
    "tags": []
   },
   "outputs": [],
   "source": [
    "# model = ...\n",
    "# print(\"Accuracy on train set:  {:.1f}%\".format(model.score(X_train, y_train)*100))\n",
    "# print(\"Accuracy on test  set:  {:.1f}%\".format(model.score(X_test, y_test)*100))"
   ]
  },
  {
   "cell_type": "markdown",
   "id": "3a004b18-1f18-43fe-9161-52862755667a",
   "metadata": {
    "tags": []
   },
   "source": [
    "#### Lasso regression"
   ]
  },
  {
   "cell_type": "markdown",
   "id": "76b4badf-9111-4dcc-b04d-b2b06c7adbc8",
   "metadata": {
    "tags": []
   },
   "source": [
    "**Exercise 1.2** - your task is to:\n",
    "- fit a Lasso regression model\n",
    "- test different parameter values (example: ```alpha=0.0001, 0.01, ..., max_iter=1000, ..., 100000```)\n",
    "- compare performance with the Linear regressor"
   ]
  },
  {
   "cell_type": "code",
   "execution_count": null,
   "id": "1545ec34-112f-4e10-8456-a381f0197077",
   "metadata": {
    "tags": []
   },
   "outputs": [],
   "source": [
    "# Fill here..."
   ]
  },
  {
   "cell_type": "code",
   "execution_count": null,
   "id": "e67792bc-df5a-422f-8e37-7a596feba248",
   "metadata": {},
   "outputs": [],
   "source": [
    "# ..."
   ]
  },
  {
   "cell_type": "markdown",
   "id": "74625943-c411-4a22-a433-26d22e2151f6",
   "metadata": {
    "tags": []
   },
   "source": [
    "## Linear models for classification tasks"
   ]
  },
  {
   "cell_type": "markdown",
   "id": "d108cbad-5395-46bc-a529-93690d499d0b",
   "metadata": {
    "tags": []
   },
   "source": [
    "#### Loading dataset"
   ]
  },
  {
   "cell_type": "markdown",
   "id": "6259032c-d9c6-41de-8a9b-d1c054538ae7",
   "metadata": {
    "tags": []
   },
   "source": [
    "Breast Cancer dataset"
   ]
  },
  {
   "cell_type": "code",
   "execution_count": null,
   "id": "1b0de716-36cc-48fc-b499-3771da02331a",
   "metadata": {
    "tags": []
   },
   "outputs": [],
   "source": [
    "cancer = load_breast_cancer()"
   ]
  },
  {
   "cell_type": "code",
   "execution_count": null,
   "id": "bcf9f281-406f-407f-9da5-64af1fcbce69",
   "metadata": {
    "tags": []
   },
   "outputs": [],
   "source": [
    "print(cancer.DESCR)"
   ]
  },
  {
   "cell_type": "markdown",
   "id": "56f31ea0-af77-4801-865a-29ddad05791f",
   "metadata": {},
   "source": [
    "**Exercise 2.1** - your task is to:\n",
    "- split the original data (in ```cancer.data``` and ```cancer.target```) into training and dev/validation sets"
   ]
  },
  {
   "cell_type": "code",
   "execution_count": null,
   "id": "e60706ba-7998-481c-b913-535ad6fad918",
   "metadata": {
    "tags": []
   },
   "outputs": [],
   "source": [
    "# Fill here..."
   ]
  },
  {
   "cell_type": "markdown",
   "id": "9dbf9631-11ec-405b-95bf-a97a35a096f0",
   "metadata": {
    "tags": []
   },
   "source": [
    "#### Logistic regression"
   ]
  },
  {
   "cell_type": "markdown",
   "id": "1b1d3b21-8c0d-45f0-ab7e-132e4dda5be3",
   "metadata": {
    "tags": []
   },
   "source": [
    "**Exercise 2.2** - your task is to:\n",
    "- fit a ```LogisticRegression``` model\n",
    "- with parameters ```C=100, max_iter=20000```"
   ]
  },
  {
   "cell_type": "code",
   "execution_count": null,
   "id": "067aebde-02c6-4f12-be1c-d38937d37af9",
   "metadata": {
    "tags": []
   },
   "outputs": [],
   "source": [
    "# Fill here..."
   ]
  },
  {
   "cell_type": "code",
   "execution_count": null,
   "id": "735471f0-a362-4d72-876a-c9fe2a8fde7d",
   "metadata": {
    "tags": []
   },
   "outputs": [],
   "source": [
    "model = logr\n",
    "print(\"Accuracy on train set:  {:.1f}%\".format(model.score(X_train, y_train)*100))\n",
    "print(\"Accuracy on test  set:  {:.1f}%\".format(model.score(X_test, y_test)*100))"
   ]
  },
  {
   "cell_type": "markdown",
   "id": "e5dd2aa3-713b-413d-a004-332fc8a651a6",
   "metadata": {
    "tags": []
   },
   "source": [
    "#### Support Vector Machines(SVM)"
   ]
  },
  {
   "cell_type": "markdown",
   "id": "16288959-fa20-48a7-875e-c3f6d2c90ac0",
   "metadata": {
    "tags": []
   },
   "source": [
    "**Exercise 2.3** - your task is to:\n",
    "- fit a Support Vector Classifier\n",
    "- with parameter ```dual='auto'```\n",
    "- try distinct values of parameter ```C=1, 10, 100``` (regularization parameter)\n",
    "- compare performance with the Logistic Regression classifier"
   ]
  },
  {
   "cell_type": "code",
   "execution_count": null,
   "id": "e4256299-e3d6-4315-8b08-c77ba9944088",
   "metadata": {
    "tags": []
   },
   "outputs": [],
   "source": [
    "# Fill here..."
   ]
  },
  {
   "cell_type": "markdown",
   "id": "912729ec-24a8-4bb4-8afd-429689414548",
   "metadata": {
    "tags": []
   },
   "source": [
    "#### (Tree - NOT a geometric model, here just to compare)"
   ]
  },
  {
   "cell_type": "markdown",
   "id": "6232f3d0-63e3-4491-8179-a1206a0a80ac",
   "metadata": {},
   "source": [
    "**Exercise 2.4** - your task is to:\n",
    "- run the follwing code and compare performance of the Tree model with the Logistic Regression and SVM"
   ]
  },
  {
   "cell_type": "code",
   "execution_count": null,
   "id": "ec104c08-f877-4552-bf3e-c908891cd738",
   "metadata": {
    "tags": []
   },
   "outputs": [],
   "source": [
    "from sklearn.tree import DecisionTreeClassifier "
   ]
  },
  {
   "cell_type": "code",
   "execution_count": null,
   "id": "feec86c5-fb76-410e-aee7-d37a6bf45fb4",
   "metadata": {
    "tags": []
   },
   "outputs": [],
   "source": [
    "MAX_DEPTH = 4\n",
    "MIN_SAMPLES_LEAF = 10\n",
    "MIN_SAMPLE_SPLIT = 15"
   ]
  },
  {
   "cell_type": "code",
   "execution_count": null,
   "id": "80a9bb22-c22f-44ef-b046-3b81a7785879",
   "metadata": {
    "tags": []
   },
   "outputs": [],
   "source": [
    "tree = DecisionTreeClassifier(random_state=RANDOM_SEED,\n",
    "                             max_depth=MAX_DEPTH,\n",
    "                             min_samples_leaf=MIN_SAMPLES_LEAF,\n",
    "                             min_samples_split=MIN_SAMPLE_SPLIT)\n",
    "tree.fit(X_train, y_train)"
   ]
  },
  {
   "cell_type": "code",
   "execution_count": null,
   "id": "2b7c5b8d-c7e7-4400-99d9-45b02bd7c35c",
   "metadata": {
    "tags": []
   },
   "outputs": [],
   "source": [
    "model = tree\n",
    "print(\"Accuracy on train set:  {:.1f}%\".format(model.score(X_train, y_train)*100))\n",
    "print(\"Accuracy on test  set:  {:.1f}%\".format(model.score(X_test, y_test)*100))"
   ]
  },
  {
   "cell_type": "code",
   "execution_count": null,
   "id": "32fbcbb6-f3a4-4e60-9179-db087d19ba3d",
   "metadata": {},
   "outputs": [],
   "source": []
  }
 ],
 "metadata": {
  "kernelspec": {
   "display_name": "Python 3 (ipykernel)",
   "language": "python",
   "name": "python3"
  },
  "language_info": {
   "codemirror_mode": {
    "name": "ipython",
    "version": 3
   },
   "file_extension": ".py",
   "mimetype": "text/x-python",
   "name": "python",
   "nbconvert_exporter": "python",
   "pygments_lexer": "ipython3",
   "version": "3.10.16"
  }
 },
 "nbformat": 4,
 "nbformat_minor": 5
}
