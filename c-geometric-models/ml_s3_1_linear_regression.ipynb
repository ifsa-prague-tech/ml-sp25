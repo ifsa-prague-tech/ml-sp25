{
 "cells": [
  {
   "cell_type": "markdown",
   "id": "634fc08b-4970-41c4-b99b-6fddaaa9ecd2",
   "metadata": {
    "tags": []
   },
   "source": [
    "# Regression labs"
   ]
  },
  {
   "cell_type": "markdown",
   "id": "6ec98632-ceea-438d-8e2b-64de56d6cf21",
   "metadata": {},
   "source": [
    "Example notebook for exploring linear models (Regression) and its interpretation\n",
    "\n",
    "\n",
    "@Ricardo Almeida"
   ]
  },
  {
   "cell_type": "code",
   "execution_count": null,
   "id": "cd324ce8-3d6c-4e43-832d-2cbee2f1c291",
   "metadata": {
    "tags": []
   },
   "outputs": [],
   "source": [
    "# Additional requirements\n",
    "!pip install ipywidgets"
   ]
  },
  {
   "cell_type": "code",
   "execution_count": null,
   "id": "97fe647b-9762-4024-bbf5-4f2409fdd3d6",
   "metadata": {
    "tags": []
   },
   "outputs": [],
   "source": [
    "import matplotlib.pyplot as plt\n",
    "import numpy as np\n",
    "import pandas as pd\n",
    "\n",
    "from sklearn.datasets import fetch_california_housing\n",
    "from sklearn.model_selection import train_test_split\n",
    "from sklearn.linear_model import LinearRegression\n",
    "\n",
    "from ipywidgets import interactive"
   ]
  },
  {
   "cell_type": "code",
   "execution_count": null,
   "id": "d3ea1029-266f-4e06-8615-4a600d91e3e5",
   "metadata": {
    "tags": []
   },
   "outputs": [],
   "source": [
    "RANDOM_SEED = 7657\n",
    "\n",
    "TEST_SIZE=0.20"
   ]
  },
  {
   "cell_type": "markdown",
   "id": "bcad978c-a4b2-4862-a3d9-1f197644d8a0",
   "metadata": {
    "tags": []
   },
   "source": [
    "## Interactive Linear Regression"
   ]
  },
  {
   "cell_type": "markdown",
   "id": "5f4f2c2e-4f96-4087-a119-815d02bb30a4",
   "metadata": {
    "tags": []
   },
   "source": [
    "#### Loading dataset"
   ]
  },
  {
   "cell_type": "markdown",
   "id": "9bfc93b1-4573-4393-94a3-49777622b4d7",
   "metadata": {
    "tags": []
   },
   "source": [
    "California housing dataset"
   ]
  },
  {
   "cell_type": "code",
   "execution_count": null,
   "id": "8f3288ca-1415-4d40-b82b-e1ade8104f69",
   "metadata": {
    "tags": []
   },
   "outputs": [],
   "source": [
    "from sklearn.datasets import fetch_california_housing"
   ]
  },
  {
   "cell_type": "code",
   "execution_count": null,
   "id": "7248588e-4926-4f0e-9047-d4c01ca4aa88",
   "metadata": {
    "tags": []
   },
   "outputs": [],
   "source": [
    "housing = fetch_california_housing()"
   ]
  },
  {
   "cell_type": "code",
   "execution_count": null,
   "id": "2036c800-a6ea-4839-8c1e-00e609153483",
   "metadata": {
    "tags": []
   },
   "outputs": [],
   "source": [
    "print(housing.DESCR)"
   ]
  },
  {
   "cell_type": "code",
   "execution_count": null,
   "id": "2f3e0a7e-e2c4-4201-b686-e91e3824285f",
   "metadata": {
    "tags": []
   },
   "outputs": [],
   "source": [
    "housing.target_names"
   ]
  },
  {
   "cell_type": "code",
   "execution_count": null,
   "id": "cdb1fabf-3949-4fe4-aa9b-3953dea84a61",
   "metadata": {
    "tags": []
   },
   "outputs": [],
   "source": [
    "housing.target"
   ]
  },
  {
   "cell_type": "code",
   "execution_count": null,
   "id": "56af11d5-31cb-4613-a0de-49961b03401c",
   "metadata": {
    "tags": []
   },
   "outputs": [],
   "source": [
    "housing.feature_names"
   ]
  },
  {
   "cell_type": "code",
   "execution_count": null,
   "id": "b57d94cb-4ee7-4c7f-ba44-415edfbdde02",
   "metadata": {
    "tags": []
   },
   "outputs": [],
   "source": [
    "X = housing.data[housing.target<5]\n",
    "y = housing.target[housing.target<5] + 2.5"
   ]
  },
  {
   "cell_type": "code",
   "execution_count": null,
   "id": "ef359dae-6f64-4da3-b2bd-718540d720ee",
   "metadata": {},
   "outputs": [],
   "source": [
    "# Split the data into training and testing sets\n",
    "X_train, X_test, y_train, y_test = train_test_split(X, y, test_size=TEST_SIZE, random_state=RANDOM_SEED)"
   ]
  },
  {
   "cell_type": "markdown",
   "id": "fc03ed42-9a68-4cbd-9d5b-40f0404d01d0",
   "metadata": {
    "tags": []
   },
   "source": [
    "#### Simple Linear Regression"
   ]
  },
  {
   "cell_type": "code",
   "execution_count": null,
   "id": "cfdd0ebf-bddb-4b64-9ce3-937dab891fc3",
   "metadata": {
    "tags": []
   },
   "outputs": [],
   "source": [
    "# Using a single feature, for simplicity\n",
    "feature = 'MedInc'\n",
    "feature_index = housing.feature_names.index(feature)\n",
    "\n",
    "X_single_feature = X_train[:, feature_index:feature_index+1]"
   ]
  },
  {
   "cell_type": "code",
   "execution_count": null,
   "id": "0e98839a-4158-400e-9d19-d21980319357",
   "metadata": {
    "tags": []
   },
   "outputs": [],
   "source": [
    "def visualize_regression_line(slope, intercept):\n",
    "    # Calculate predicted values using the provided slope and intercept\n",
    "    y_pred = slope * X_single_feature + intercept\n",
    "    \n",
    "    # Plot the original data points\n",
    "    plt.figure(figsize=(8, 6))\n",
    "    plt.scatter(X_single_feature, y_train, color='blue', label='Original Data')\n",
    "    \n",
    "    # Plot the regression line\n",
    "    plt.plot(X_single_feature, y_pred, color='red', linewidth=2, label='Regression Line')\n",
    "    plt.xlabel(feature)\n",
    "    plt.ylabel('Target (house value)')\n",
    "    plt.legend()\n",
    "    plt.title('Interactive Linear Regression Simulation')\n",
    "    plt.show()"
   ]
  },
  {
   "cell_type": "code",
   "execution_count": null,
   "id": "7dcd9211-be8b-4313-a349-c56ae1d2c1e5",
   "metadata": {
    "tags": []
   },
   "outputs": [],
   "source": [
    "# Create interactive widget for adjusting slope and intercept\n",
    "interactive_plot = interactive(visualize_regression_line, slope=(-2.0, 2.0, 0.1), intercept=(-6.0, 4.0, 1.0))\n",
    "\n",
    "# Display the interactive widget\n",
    "interactive_plot"
   ]
  },
  {
   "cell_type": "markdown",
   "id": "398d5910-d502-4c2e-9710-8b2188632f5b",
   "metadata": {
    "tags": []
   },
   "source": [
    "#### Linear Regression"
   ]
  },
  {
   "cell_type": "markdown",
   "id": "8b651164-7250-4991-93a5-63ea35f69eac",
   "metadata": {},
   "source": [
    "Fit a Linear Regression to the data (\"MedInc\" feature only) to get the \"best\" slope and intercept.\n",
    "\n",
    "Use the already prepared `X_single_feature` as input and `y_train` as the label vector.\n",
    "\n",
    "Check the model performence, on the same `X_single_feature` train set, using an appropriate metric of your choice."
   ]
  },
  {
   "cell_type": "code",
   "execution_count": null,
   "id": "8ce63808-baa0-4a40-9cf9-43c98a5e21cd",
   "metadata": {},
   "outputs": [],
   "source": [
    "### Import LinearRegression from Scikit-learn library\n",
    "### YOUR CODE HERE\n",
    "\n",
    "\n"
   ]
  },
  {
   "cell_type": "code",
   "execution_count": null,
   "id": "e3f41ec5-eb0d-4e12-be82-e8bc111e7c84",
   "metadata": {},
   "outputs": [],
   "source": [
    "### fit a LinearRegression to the data\n",
    "### YOUR CODE HERE\n",
    "\n",
    "model = "
   ]
  },
  {
   "cell_type": "code",
   "execution_count": null,
   "id": "6102a256",
   "metadata": {},
   "outputs": [],
   "source": [
    "### Display model's slope and intercept\n",
    "\n",
    "model.coef_"
   ]
  },
  {
   "cell_type": "code",
   "execution_count": null,
   "id": "81af7aef-762f-4826-8e9d-092f3a38ae15",
   "metadata": {},
   "outputs": [],
   "source": [
    "model.intercept_"
   ]
  },
  {
   "cell_type": "code",
   "execution_count": null,
   "id": "1100d5a9-401e-4bd7-a07b-c59341905e17",
   "metadata": {},
   "outputs": [],
   "source": []
  },
  {
   "cell_type": "code",
   "execution_count": null,
   "id": "090257b2-3301-417e-9abb-e0b4846c0991",
   "metadata": {},
   "outputs": [],
   "source": []
  },
  {
   "cell_type": "code",
   "execution_count": null,
   "id": "4cebb7bc-784c-49f6-8d17-e7715879b0af",
   "metadata": {},
   "outputs": [],
   "source": []
  },
  {
   "cell_type": "code",
   "execution_count": null,
   "id": "ea4384b9-912e-43ea-bee6-4129fe744aee",
   "metadata": {},
   "outputs": [],
   "source": []
  },
  {
   "cell_type": "code",
   "execution_count": null,
   "id": "f67d299c-17fb-47fb-bfbe-65a0ffdb136d",
   "metadata": {},
   "outputs": [],
   "source": []
  }
 ],
 "metadata": {
  "kernelspec": {
   "display_name": "Python 3 (ipykernel)",
   "language": "python",
   "name": "python3"
  },
  "language_info": {
   "codemirror_mode": {
    "name": "ipython",
    "version": 3
   },
   "file_extension": ".py",
   "mimetype": "text/x-python",
   "name": "python",
   "nbconvert_exporter": "python",
   "pygments_lexer": "ipython3",
   "version": "3.10.16"
  }
 },
 "nbformat": 4,
 "nbformat_minor": 5
}
