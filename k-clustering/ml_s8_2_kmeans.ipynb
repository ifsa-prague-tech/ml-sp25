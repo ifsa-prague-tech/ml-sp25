{
 "cells": [
  {
   "cell_type": "markdown",
   "id": "634fc08b-4970-41c4-b99b-6fddaaa9ecd2",
   "metadata": {
    "tags": []
   },
   "source": [
    "## Clustering"
   ]
  },
  {
   "cell_type": "markdown",
   "id": "6ec98632-ceea-438d-8e2b-64de56d6cf21",
   "metadata": {},
   "source": [
    "Example notebook clustering with K-Means and Agglomerative Clustering\n",
    "* decide on the number of clusters\n",
    "\n",
    "Ricardo Almeida"
   ]
  },
  {
   "cell_type": "code",
   "execution_count": null,
   "id": "f7f22ebf-805d-48af-8d63-580291c8cd95",
   "metadata": {
    "tags": []
   },
   "outputs": [],
   "source": [
    "from scipy.cluster.hierarchy import dendrogram, linkage\n",
    "from matplotlib import pyplot as plt\n",
    "from matplotlib.patches import Ellipse\n",
    "import numpy as np\n",
    "from sklearn import datasets"
   ]
  },
  {
   "cell_type": "code",
   "execution_count": null,
   "id": "d3ea1029-266f-4e06-8615-4a600d91e3e5",
   "metadata": {
    "tags": []
   },
   "outputs": [],
   "source": [
    "RANDOM_SEED = 7657"
   ]
  },
  {
   "cell_type": "code",
   "execution_count": null,
   "id": "5e416d4a-f7db-4afc-b41d-e184ea8100db",
   "metadata": {},
   "outputs": [],
   "source": [
    "def plot_clusters(model, X, label=True, ax=None):\n",
    "    ax = ax or plt.gca()\n",
    "    labels = model.fit(X).predict(X)\n",
    "    if label:\n",
    "        ax.scatter(X[:, 0], X[:, 1], c=labels, s=40, cmap='viridis', zorder=2)\n",
    "    else:\n",
    "        ax.scatter(X[:, 0], X[:, 1], s=40, zorder=2)\n",
    "    ax.axis('equal')"
   ]
  },
  {
   "cell_type": "markdown",
   "id": "bcad978c-a4b2-4862-a3d9-1f197644d8a0",
   "metadata": {
    "tags": []
   },
   "source": [
    "### Dataset visualization"
   ]
  },
  {
   "cell_type": "markdown",
   "id": "9f4851a6-88e9-421a-83c5-473020738f16",
   "metadata": {},
   "source": [
    "Prepare the data"
   ]
  },
  {
   "cell_type": "code",
   "execution_count": null,
   "id": "045df5f3-fb06-4794-a03c-f2e73eac757f",
   "metadata": {
    "tags": []
   },
   "outputs": [],
   "source": [
    "iris = datasets.load_iris()\n",
    "X = iris.data\n",
    "y = iris.target"
   ]
  },
  {
   "cell_type": "markdown",
   "id": "9dd9be84-6eb9-4045-8932-c683629e65cb",
   "metadata": {
    "tags": []
   },
   "source": [
    "Decide on model parameters"
   ]
  },
  {
   "cell_type": "code",
   "execution_count": null,
   "id": "eedb711d",
   "metadata": {
    "tags": []
   },
   "outputs": [],
   "source": [
    "_, ax = plt.subplots()\n",
    "scatter = ax.scatter(iris.data[:, 0], iris.data[:, 1], c=y)\n",
    "ax.set(xlabel=iris.feature_names[0], ylabel=iris.feature_names[1])\n",
    "plt.show()"
   ]
  },
  {
   "cell_type": "code",
   "execution_count": null,
   "id": "feec86c5-fb76-410e-aee7-d37a6bf45fb4",
   "metadata": {
    "tags": []
   },
   "outputs": [],
   "source": [
    "_, ax = plt.subplots()\n",
    "scatter = ax.scatter(iris.data[:, 0], iris.data[:, 1])\n",
    "ax.set(xlabel=iris.feature_names[0], ylabel=iris.feature_names[1])\n",
    "plt.show()"
   ]
  },
  {
   "cell_type": "markdown",
   "id": "e5a2fd03-cb4c-4db0-a6ed-80c2dcbe54ca",
   "metadata": {
    "tags": []
   },
   "source": [
    "### Modeling"
   ]
  },
  {
   "cell_type": "markdown",
   "id": "1180d0a8-484a-4aca-87b0-9ea8bd2121c6",
   "metadata": {},
   "source": [
    "Let's:\n",
    "1. create a K-Means model with 6 components\n",
    "2. check (visually) how it fits the actual 3 flower classes\n",
    "3. experiment with other number of components\n",
    "4. choose the optimal number of clusters, according to the \"elbow\" method"
   ]
  },
  {
   "cell_type": "code",
   "execution_count": null,
   "id": "a29d61d9-58af-4bc2-ae2e-79fedc86d8f5",
   "metadata": {},
   "outputs": [],
   "source": [
    "from sklearn.cluster import KMeans"
   ]
  },
  {
   "cell_type": "code",
   "execution_count": null,
   "id": "9ed7f8f5-a174-4d6d-abe5-4a91e5eea04f",
   "metadata": {},
   "outputs": [],
   "source": [
    "### COMPLETE CODE:\n",
    "\n",
    "model = KMeans(???, max_iter=100, n_init='auto', random_state=RANDOM_SEED).fit(X)"
   ]
  },
  {
   "cell_type": "code",
   "execution_count": null,
   "id": "c7701adf-a683-496f-9061-72e24f85349a",
   "metadata": {},
   "outputs": [],
   "source": [
    "plot_clusters(model, X)"
   ]
  },
  {
   "cell_type": "code",
   "execution_count": null,
   "id": "f197ade0-8b78-4fda-8b0b-e4b2ef94e41c",
   "metadata": {},
   "outputs": [],
   "source": [
    "n_components = np.arange(1, 10)\n",
    "models = [KMeans(n, max_iter=100, n_init='auto', random_state=RANDOM_SEED).fit(X)\n",
    "          for n in n_components]\n",
    "\n",
    "plt.plot(n_components, [m.inertia_ for m in models], label='Inertia')\n",
    "plt.legend(loc='best')\n",
    "plt.xlabel('n_components');"
   ]
  },
  {
   "cell_type": "code",
   "execution_count": null,
   "id": "89faa480-bd3e-450c-a19d-388cdf72f1b4",
   "metadata": {},
   "outputs": [],
   "source": [
    "### WHAT WOULD BE YOUR DECISION OF NR. OF CLUSTERS?\n"
   ]
  },
  {
   "cell_type": "code",
   "execution_count": null,
   "id": "49dce2cd-a4fd-4292-94e8-78293dcc3e7c",
   "metadata": {},
   "outputs": [],
   "source": [
    "### Create a Agglomerative clustering model with your selection of (number of) clusters\n",
    "### YOUR CODE HERE:\n",
    "\n",
    "from sklearn.cluster import AgglomerativeClustering\n",
    "\n",
    "model = ...."
   ]
  },
  {
   "cell_type": "code",
   "execution_count": null,
   "id": "99cbf70e-e36c-4ebd-8242-314dc0a9faeb",
   "metadata": {},
   "outputs": [],
   "source": [
    "# Plot the clusters\n",
    "plt.scatter(X[:, 0], X[:, 1], c=model.labels_, cmap='viridis', s=50)\n",
    "plt.title(\"Agglomerative Clustering Visualization\")\n",
    "plt.xlabel(\"Feature 1\")\n",
    "plt.ylabel(\"Feature 2\")\n",
    "plt.show()"
   ]
  },
  {
   "cell_type": "code",
   "execution_count": null,
   "id": "9caa0dd1-2ca0-482c-8eb8-a47b649dc089",
   "metadata": {},
   "outputs": [],
   "source": [
    "# Plot (equivalent) dendrogram \n",
    "Z = linkage(X, method='ward')  # Using the same linkage method as in AgglomerativeClustering\n",
    "\n",
    "plt.figure(figsize=(10, 7))\n",
    "dendrogram(Z)\n",
    "plt.title(\"Dendrogram for Agglomerative Clustering\")\n",
    "plt.xlabel(\"Data points\")\n",
    "plt.ylabel(\"Distance\")\n",
    "plt.show()"
   ]
  }
 ],
 "metadata": {
  "kernelspec": {
   "display_name": "Python 3 (ipykernel)",
   "language": "python",
   "name": "python3"
  },
  "language_info": {
   "codemirror_mode": {
    "name": "ipython",
    "version": 3
   },
   "file_extension": ".py",
   "mimetype": "text/x-python",
   "name": "python",
   "nbconvert_exporter": "python",
   "pygments_lexer": "ipython3",
   "version": "3.9.18"
  }
 },
 "nbformat": 4,
 "nbformat_minor": 5
}
