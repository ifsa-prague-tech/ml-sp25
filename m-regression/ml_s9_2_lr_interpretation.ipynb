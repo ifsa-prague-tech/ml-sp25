{
 "cells": [
  {
   "cell_type": "markdown",
   "id": "634fc08b-4970-41c4-b99b-6fddaaa9ecd2",
   "metadata": {
    "tags": []
   },
   "source": [
    "# Regression & Interpretation labs"
   ]
  },
  {
   "cell_type": "markdown",
   "id": "6ec98632-ceea-438d-8e2b-64de56d6cf21",
   "metadata": {},
   "source": [
    "Example notebook for exploring linear models (Regression) and its interpretation\n",
    "\n",
    "\n",
    "@Ricardo Almeida"
   ]
  },
  {
   "cell_type": "code",
   "execution_count": 1,
   "id": "a7716de5-59bc-491e-aabc-2a87baed3762",
   "metadata": {},
   "outputs": [],
   "source": [
    "import os\n",
    "os.environ['TF_CPP_MIN_LOG_LEVEL'] = '1'"
   ]
  },
  {
   "cell_type": "code",
   "execution_count": 2,
   "id": "97fe647b-9762-4024-bbf5-4f2409fdd3d6",
   "metadata": {
    "tags": []
   },
   "outputs": [],
   "source": [
    "import pandas as pd\n",
    "import numpy as np\n",
    "import shap\n",
    "from tensorflow import keras\n",
    "from sklearn.model_selection import train_test_split"
   ]
  },
  {
   "cell_type": "code",
   "execution_count": 3,
   "id": "d3ea1029-266f-4e06-8615-4a600d91e3e5",
   "metadata": {
    "tags": []
   },
   "outputs": [],
   "source": [
    "RANDOM_SEED = 7657\n",
    "\n",
    "TEST_SIZE=0.20"
   ]
  },
  {
   "cell_type": "markdown",
   "id": "5f4f2c2e-4f96-4087-a119-815d02bb30a4",
   "metadata": {
    "tags": []
   },
   "source": [
    "#### Loading dataset"
   ]
  },
  {
   "cell_type": "markdown",
   "id": "9bfc93b1-4573-4393-94a3-49777622b4d7",
   "metadata": {
    "tags": []
   },
   "source": [
    "Boston housing dataset"
   ]
  },
  {
   "cell_type": "code",
   "execution_count": 4,
   "id": "7248588e-4926-4f0e-9047-d4c01ca4aa88",
   "metadata": {
    "tags": []
   },
   "outputs": [],
   "source": [
    "# Load the Boston Housing price regression dataset from Keras dataset\n",
    "(X_train, y_train), (X_test, y_test) = keras.datasets.boston_housing.load_data()"
   ]
  },
  {
   "cell_type": "code",
   "execution_count": 5,
   "id": "04bebff3-a8d3-4b83-a835-997990da31ed",
   "metadata": {},
   "outputs": [],
   "source": [
    "# Get the feature names from the dataset\n",
    "feature_names = ['CRIM', 'ZN', 'INDUS', 'CHAS', 'NOX', 'RM', 'AGE', 'DIS', 'RAD', 'TAX', 'PTRATIO', 'B', 'LSTAT']\n",
    "\n",
    "feature_desc = {\n",
    "    'CRIM': 'per capita crime rate by town',\n",
    "    'ZN': 'proportion of residential land zoned for lots over 25,000 sq.ft.',\n",
    "    'INDUS': 'proportion of non-retail business acres per town.',\n",
    "    'CHAS': 'Charles River dummy variable (1 if tract bounds river; 0 otherwise)',\n",
    "    'NOX': 'nitric oxides concentration (parts per 10 million)',\n",
    "    'RM': 'average number of rooms per dwelling',\n",
    "    'AGE': 'proportion of owner-occupied units built prior to 1940',\n",
    "    'DIS': 'weighted distances to five Boston employment centres',\n",
    "    'RAD': 'index of accessibility to radial highways',\n",
    "    'TAX': 'full-value property-tax rate per $10,000',\n",
    "    'PTRATIO': 'pupil-teacher ratio by town',\n",
    "    'LSTAT': '% lower status of the population',\n",
    "    'MEDV': 'Median value of owner-occupied homes in $1000\\'s'\n",
    "}"
   ]
  },
  {
   "cell_type": "code",
   "execution_count": 6,
   "id": "53696409-b600-4d91-a96d-86dbae204c59",
   "metadata": {},
   "outputs": [
    {
     "name": "stdout",
     "output_type": "stream",
     "text": [
      "CRIM =  per capita crime rate by town\n",
      "ZN =  proportion of residential land zoned for lots over 25,000 sq.ft.\n",
      "INDUS =  proportion of non-retail business acres per town.\n",
      "CHAS =  Charles River dummy variable (1 if tract bounds river; 0 otherwise)\n",
      "NOX =  nitric oxides concentration (parts per 10 million)\n",
      "RM =  average number of rooms per dwelling\n",
      "AGE =  proportion of owner-occupied units built prior to 1940\n",
      "DIS =  weighted distances to five Boston employment centres\n",
      "RAD =  index of accessibility to radial highways\n",
      "TAX =  full-value property-tax rate per $10,000\n",
      "PTRATIO =  pupil-teacher ratio by town\n",
      "LSTAT =  % lower status of the population\n",
      "MEDV =  Median value of owner-occupied homes in $1000's\n"
     ]
    }
   ],
   "source": [
    "for key, value in feature_desc.items():\n",
    "    print(f\"{key} =  {value}\")"
   ]
  },
  {
   "cell_type": "code",
   "execution_count": 7,
   "id": "90444de9-1cfc-4f54-a2f4-cf5f27d8a5d5",
   "metadata": {},
   "outputs": [],
   "source": [
    "df_train = pd.DataFrame(X_train, columns=feature_names)\n",
    "df_test = pd.DataFrame(X_test, columns=feature_names)"
   ]
  },
  {
   "cell_type": "markdown",
   "id": "1a7e9210-78aa-459f-be61-84ce65745b2e",
   "metadata": {
    "tags": []
   },
   "source": [
    "### Exercise"
   ]
  },
  {
   "cell_type": "markdown",
   "id": "c45b6b46-5c7e-4aaf-a9cf-d79decc9a1d1",
   "metadata": {},
   "source": [
    "Fit a model to the data (`X_train` train dataset) and perform interpretation with SHAP (Shapley Values) in order to answer these questions:\n",
    "\n",
    "- **Task 1**: Which are the 3 most impactful features for Boston house value?\n",
    "\n",
    "- **Task 2**: Is crime rate (CRIM feature) a very relevant predictor of house value in Boston?\n",
    "\n",
    "- **Task 3**: How does distance to employment centers (DIS feature) affects house value? Do houses closer to employment centers tend to be more or less valuable?\n",
    "\n",
    "- **Task 4**: Consider the (single) case of polution rate (NOX) of 0.4, residential land zoned (ZN) of 70, and average number of rooms (RM) lower than 6.5. What drives house value in this case?"
   ]
  },
  {
   "cell_type": "code",
   "execution_count": 8,
   "id": "b97df309-3dde-4903-a1ac-70d6fecac775",
   "metadata": {},
   "outputs": [],
   "source": [
    "### Create and fit a Linear Regression model on the data (df_train)\n",
    "### YOUR CODE HERE:\n",
    "\n",
    "from sklearn.linear_model import LinearRegression\n",
    "\n",
    "model = ..."
   ]
  },
  {
   "cell_type": "code",
   "execution_count": 9,
   "id": "e7b015f6-63d2-4bd7-a994-e864504d719f",
   "metadata": {},
   "outputs": [],
   "source": [
    "#df_train"
   ]
  },
  {
   "cell_type": "code",
   "execution_count": 10,
   "id": "9ea34660-8bd3-4fb0-a1bc-30dcbe9ccebc",
   "metadata": {},
   "outputs": [],
   "source": [
    "#y_train"
   ]
  },
  {
   "cell_type": "code",
   "execution_count": 11,
   "id": "006b25e9-554c-446b-8387-ac405a96a52c",
   "metadata": {},
   "outputs": [],
   "source": [
    "### Create the explainer and compute SHAP Values for further explanation (use df_train)\n",
    "### YOUR CODE HERE:\n",
    "\n",
    "explainer = shap.LinearExplainer(...)\n",
    "shap_values = ..."
   ]
  },
  {
   "cell_type": "code",
   "execution_count": 1,
   "id": "792afec3-6e66-4527-9f55-cf4fa180cdfe",
   "metadata": {},
   "outputs": [],
   "source": [
    "### Create and analyze different SHAP plots to answer the task questions\n",
    "### YOUR CODE HERE:\n"
   ]
  },
  {
   "cell_type": "code",
   "execution_count": null,
   "id": "807dd1e6-e553-415d-94f7-073e0497e5b0",
   "metadata": {},
   "outputs": [],
   "source": [
    "### Potentially useful SHAP plots\n",
    "\n",
    "# shap.summary_plot()\n",
    "# shap.plots.bar()\n",
    "# shap.plots.violin()\n",
    "# shap.plots.waterfall()"
   ]
  },
  {
   "cell_type": "code",
   "execution_count": null,
   "id": "f661caa1-44e4-4cbe-8616-ed6ea0885f3c",
   "metadata": {},
   "outputs": [],
   "source": []
  }
 ],
 "metadata": {
  "kernelspec": {
   "display_name": "Python 3 (ipykernel)",
   "language": "python",
   "name": "python3"
  },
  "language_info": {
   "codemirror_mode": {
    "name": "ipython",
    "version": 3
   },
   "file_extension": ".py",
   "mimetype": "text/x-python",
   "name": "python",
   "nbconvert_exporter": "python",
   "pygments_lexer": "ipython3",
   "version": "3.10.16"
  }
 },
 "nbformat": 4,
 "nbformat_minor": 5
}
